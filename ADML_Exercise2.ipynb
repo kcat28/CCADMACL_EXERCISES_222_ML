{
  "cells": [
    {
      "cell_type": "markdown",
      "metadata": {
        "id": "view-in-github",
        "colab_type": "text"
      },
      "source": [
        "<a href=\"https://colab.research.google.com/github/kcat28/CCADMACL_EXERCISES_COM222ML/blob/main/ADML_Exercise2.ipynb\" target=\"_parent\"><img src=\"https://colab.research.google.com/assets/colab-badge.svg\" alt=\"Open In Colab\"/></a>"
      ]
    },
    {
      "cell_type": "markdown",
      "source": [
        "## Exercise 2: Use Gradient Boost for Regression\n",
        "\n",
        "Instructions:\n",
        "\n",
        "- Use the Dataset File to train your model\n",
        "- Use the Test File to generate your results\n",
        "- Use the Sample Submission file to generate the same format\n",
        "Submit your results to:\n",
        "https://www.kaggle.com/competitions/playground-series-s4e12/overview\n",
        "\n"
      ],
      "metadata": {
        "id": "99_2rPCJrNfK"
      }
    },
    {
      "cell_type": "code",
      "execution_count": 1,
      "metadata": {
        "id": "R_se3V8gftVL"
      },
      "outputs": [],
      "source": [
        "import pandas as pd\n",
        "import seaborn as sns\n",
        "import numpy as np\n",
        "\n",
        "from matplotlib import pyplot as plt\n",
        "from sklearn.ensemble import GradientBoostingRegressor\n",
        "from sklearn.model_selection import train_test_split\n",
        "from sklearn import datasets, ensemble\n",
        "from sklearn.inspection import permutation_importance\n",
        "from sklearn.metrics import mean_squared_error\n",
        "from sklearn.model_selection import train_test_split\n",
        "from sklearn.utils.fixes import parse_version\n",
        "import xgboost as xgb\n",
        "from sklearn.metrics import root_mean_squared_log_error\n"
      ]
    },
    {
      "cell_type": "markdown",
      "metadata": {
        "id": "eCNNEXIhftVN"
      },
      "source": [
        "## Dataset\n",
        "Train, test and sample submission file can be found in this link\n",
        "https://www.kaggle.com/competitions/playground-series-s4e12/data"
      ]
    },
    {
      "cell_type": "markdown",
      "source": [
        "## 1. Load the Data"
      ],
      "metadata": {
        "id": "rjhN8ODcVYxH"
      }
    },
    {
      "cell_type": "markdown",
      "source": [
        "##Dataset File"
      ],
      "metadata": {
        "id": "lD3r_WH3c3pw"
      }
    },
    {
      "cell_type": "code",
      "source": [
        "pd.set_option('display.max_columns', None) #display all columns"
      ],
      "metadata": {
        "id": "dKnOwJMdecVg"
      },
      "execution_count": 2,
      "outputs": []
    },
    {
      "cell_type": "code",
      "source": [
        "# put your answer here\n",
        "df = pd.read_csv('train.csv')\n",
        "df.head()"
      ],
      "metadata": {
        "id": "tEcU-yJmVZwR",
        "colab": {
          "base_uri": "https://localhost:8080/",
          "height": 330
        },
        "outputId": "413c363d-1c30-4f77-f204-c1ac3687df03"
      },
      "execution_count": 3,
      "outputs": [
        {
          "output_type": "execute_result",
          "data": {
            "text/plain": [
              "   id   Age  Gender  Annual Income Marital Status  Number of Dependents  \\\n",
              "0   0  19.0  Female        10049.0        Married                   1.0   \n",
              "1   1  39.0  Female        31678.0       Divorced                   3.0   \n",
              "2   2  23.0    Male        25602.0       Divorced                   3.0   \n",
              "3   3  21.0    Male       141855.0        Married                   2.0   \n",
              "4   4  21.0    Male        39651.0         Single                   1.0   \n",
              "\n",
              "  Education Level     Occupation  Health Score  Location    Policy Type  \\\n",
              "0      Bachelor's  Self-Employed     22.598761     Urban        Premium   \n",
              "1        Master's            NaN     15.569731     Rural  Comprehensive   \n",
              "2     High School  Self-Employed     47.177549  Suburban        Premium   \n",
              "3      Bachelor's            NaN     10.938144     Rural          Basic   \n",
              "4      Bachelor's  Self-Employed     20.376094     Rural        Premium   \n",
              "\n",
              "   Previous Claims  Vehicle Age  Credit Score  Insurance Duration  \\\n",
              "0              2.0         17.0         372.0                 5.0   \n",
              "1              1.0         12.0         694.0                 2.0   \n",
              "2              1.0         14.0           NaN                 3.0   \n",
              "3              1.0          0.0         367.0                 1.0   \n",
              "4              0.0          8.0         598.0                 4.0   \n",
              "\n",
              "            Policy Start Date Customer Feedback Smoking Status  \\\n",
              "0  2023-12-23 15:21:39.134960              Poor             No   \n",
              "1  2023-06-12 15:21:39.111551           Average            Yes   \n",
              "2  2023-09-30 15:21:39.221386              Good            Yes   \n",
              "3  2024-06-12 15:21:39.226954              Poor            Yes   \n",
              "4  2021-12-01 15:21:39.252145              Poor            Yes   \n",
              "\n",
              "  Exercise Frequency Property Type  Premium Amount  \n",
              "0             Weekly         House          2869.0  \n",
              "1            Monthly         House          1483.0  \n",
              "2             Weekly         House           567.0  \n",
              "3              Daily     Apartment           765.0  \n",
              "4             Weekly         House          2022.0  "
            ],
            "text/html": [
              "\n",
              "  <div id=\"df-900c8369-b7b7-4c90-b4a4-c8e7ce71527a\" class=\"colab-df-container\">\n",
              "    <div>\n",
              "<style scoped>\n",
              "    .dataframe tbody tr th:only-of-type {\n",
              "        vertical-align: middle;\n",
              "    }\n",
              "\n",
              "    .dataframe tbody tr th {\n",
              "        vertical-align: top;\n",
              "    }\n",
              "\n",
              "    .dataframe thead th {\n",
              "        text-align: right;\n",
              "    }\n",
              "</style>\n",
              "<table border=\"1\" class=\"dataframe\">\n",
              "  <thead>\n",
              "    <tr style=\"text-align: right;\">\n",
              "      <th></th>\n",
              "      <th>id</th>\n",
              "      <th>Age</th>\n",
              "      <th>Gender</th>\n",
              "      <th>Annual Income</th>\n",
              "      <th>Marital Status</th>\n",
              "      <th>Number of Dependents</th>\n",
              "      <th>Education Level</th>\n",
              "      <th>Occupation</th>\n",
              "      <th>Health Score</th>\n",
              "      <th>Location</th>\n",
              "      <th>Policy Type</th>\n",
              "      <th>Previous Claims</th>\n",
              "      <th>Vehicle Age</th>\n",
              "      <th>Credit Score</th>\n",
              "      <th>Insurance Duration</th>\n",
              "      <th>Policy Start Date</th>\n",
              "      <th>Customer Feedback</th>\n",
              "      <th>Smoking Status</th>\n",
              "      <th>Exercise Frequency</th>\n",
              "      <th>Property Type</th>\n",
              "      <th>Premium Amount</th>\n",
              "    </tr>\n",
              "  </thead>\n",
              "  <tbody>\n",
              "    <tr>\n",
              "      <th>0</th>\n",
              "      <td>0</td>\n",
              "      <td>19.0</td>\n",
              "      <td>Female</td>\n",
              "      <td>10049.0</td>\n",
              "      <td>Married</td>\n",
              "      <td>1.0</td>\n",
              "      <td>Bachelor's</td>\n",
              "      <td>Self-Employed</td>\n",
              "      <td>22.598761</td>\n",
              "      <td>Urban</td>\n",
              "      <td>Premium</td>\n",
              "      <td>2.0</td>\n",
              "      <td>17.0</td>\n",
              "      <td>372.0</td>\n",
              "      <td>5.0</td>\n",
              "      <td>2023-12-23 15:21:39.134960</td>\n",
              "      <td>Poor</td>\n",
              "      <td>No</td>\n",
              "      <td>Weekly</td>\n",
              "      <td>House</td>\n",
              "      <td>2869.0</td>\n",
              "    </tr>\n",
              "    <tr>\n",
              "      <th>1</th>\n",
              "      <td>1</td>\n",
              "      <td>39.0</td>\n",
              "      <td>Female</td>\n",
              "      <td>31678.0</td>\n",
              "      <td>Divorced</td>\n",
              "      <td>3.0</td>\n",
              "      <td>Master's</td>\n",
              "      <td>NaN</td>\n",
              "      <td>15.569731</td>\n",
              "      <td>Rural</td>\n",
              "      <td>Comprehensive</td>\n",
              "      <td>1.0</td>\n",
              "      <td>12.0</td>\n",
              "      <td>694.0</td>\n",
              "      <td>2.0</td>\n",
              "      <td>2023-06-12 15:21:39.111551</td>\n",
              "      <td>Average</td>\n",
              "      <td>Yes</td>\n",
              "      <td>Monthly</td>\n",
              "      <td>House</td>\n",
              "      <td>1483.0</td>\n",
              "    </tr>\n",
              "    <tr>\n",
              "      <th>2</th>\n",
              "      <td>2</td>\n",
              "      <td>23.0</td>\n",
              "      <td>Male</td>\n",
              "      <td>25602.0</td>\n",
              "      <td>Divorced</td>\n",
              "      <td>3.0</td>\n",
              "      <td>High School</td>\n",
              "      <td>Self-Employed</td>\n",
              "      <td>47.177549</td>\n",
              "      <td>Suburban</td>\n",
              "      <td>Premium</td>\n",
              "      <td>1.0</td>\n",
              "      <td>14.0</td>\n",
              "      <td>NaN</td>\n",
              "      <td>3.0</td>\n",
              "      <td>2023-09-30 15:21:39.221386</td>\n",
              "      <td>Good</td>\n",
              "      <td>Yes</td>\n",
              "      <td>Weekly</td>\n",
              "      <td>House</td>\n",
              "      <td>567.0</td>\n",
              "    </tr>\n",
              "    <tr>\n",
              "      <th>3</th>\n",
              "      <td>3</td>\n",
              "      <td>21.0</td>\n",
              "      <td>Male</td>\n",
              "      <td>141855.0</td>\n",
              "      <td>Married</td>\n",
              "      <td>2.0</td>\n",
              "      <td>Bachelor's</td>\n",
              "      <td>NaN</td>\n",
              "      <td>10.938144</td>\n",
              "      <td>Rural</td>\n",
              "      <td>Basic</td>\n",
              "      <td>1.0</td>\n",
              "      <td>0.0</td>\n",
              "      <td>367.0</td>\n",
              "      <td>1.0</td>\n",
              "      <td>2024-06-12 15:21:39.226954</td>\n",
              "      <td>Poor</td>\n",
              "      <td>Yes</td>\n",
              "      <td>Daily</td>\n",
              "      <td>Apartment</td>\n",
              "      <td>765.0</td>\n",
              "    </tr>\n",
              "    <tr>\n",
              "      <th>4</th>\n",
              "      <td>4</td>\n",
              "      <td>21.0</td>\n",
              "      <td>Male</td>\n",
              "      <td>39651.0</td>\n",
              "      <td>Single</td>\n",
              "      <td>1.0</td>\n",
              "      <td>Bachelor's</td>\n",
              "      <td>Self-Employed</td>\n",
              "      <td>20.376094</td>\n",
              "      <td>Rural</td>\n",
              "      <td>Premium</td>\n",
              "      <td>0.0</td>\n",
              "      <td>8.0</td>\n",
              "      <td>598.0</td>\n",
              "      <td>4.0</td>\n",
              "      <td>2021-12-01 15:21:39.252145</td>\n",
              "      <td>Poor</td>\n",
              "      <td>Yes</td>\n",
              "      <td>Weekly</td>\n",
              "      <td>House</td>\n",
              "      <td>2022.0</td>\n",
              "    </tr>\n",
              "  </tbody>\n",
              "</table>\n",
              "</div>\n",
              "    <div class=\"colab-df-buttons\">\n",
              "      \n",
              "  <div class=\"colab-df-container\">\n",
              "    <button class=\"colab-df-convert\" onclick=\"convertToInteractive('df-900c8369-b7b7-4c90-b4a4-c8e7ce71527a')\"\n",
              "            title=\"Convert this dataframe to an interactive table.\"\n",
              "            style=\"display:none;\">\n",
              "      \n",
              "  <svg xmlns=\"http://www.w3.org/2000/svg\" height=\"24px\" viewBox=\"0 -960 960 960\">\n",
              "    <path d=\"M120-120v-720h720v720H120Zm60-500h600v-160H180v160Zm220 220h160v-160H400v160Zm0 220h160v-160H400v160ZM180-400h160v-160H180v160Zm440 0h160v-160H620v160ZM180-180h160v-160H180v160Zm440 0h160v-160H620v160Z\"/>\n",
              "  </svg>\n",
              "    </button>\n",
              "    \n",
              "  <style>\n",
              "    .colab-df-container {\n",
              "      display:flex;\n",
              "      gap: 12px;\n",
              "    }\n",
              "\n",
              "    .colab-df-convert {\n",
              "      background-color: #E8F0FE;\n",
              "      border: none;\n",
              "      border-radius: 50%;\n",
              "      cursor: pointer;\n",
              "      display: none;\n",
              "      fill: #1967D2;\n",
              "      height: 32px;\n",
              "      padding: 0 0 0 0;\n",
              "      width: 32px;\n",
              "    }\n",
              "\n",
              "    .colab-df-convert:hover {\n",
              "      background-color: #E2EBFA;\n",
              "      box-shadow: 0px 1px 2px rgba(60, 64, 67, 0.3), 0px 1px 3px 1px rgba(60, 64, 67, 0.15);\n",
              "      fill: #174EA6;\n",
              "    }\n",
              "\n",
              "    .colab-df-buttons div {\n",
              "      margin-bottom: 4px;\n",
              "    }\n",
              "\n",
              "    [theme=dark] .colab-df-convert {\n",
              "      background-color: #3B4455;\n",
              "      fill: #D2E3FC;\n",
              "    }\n",
              "\n",
              "    [theme=dark] .colab-df-convert:hover {\n",
              "      background-color: #434B5C;\n",
              "      box-shadow: 0px 1px 3px 1px rgba(0, 0, 0, 0.15);\n",
              "      filter: drop-shadow(0px 1px 2px rgba(0, 0, 0, 0.3));\n",
              "      fill: #FFFFFF;\n",
              "    }\n",
              "  </style>\n",
              "\n",
              "    <script>\n",
              "      const buttonEl =\n",
              "        document.querySelector('#df-900c8369-b7b7-4c90-b4a4-c8e7ce71527a button.colab-df-convert');\n",
              "      buttonEl.style.display =\n",
              "        google.colab.kernel.accessAllowed ? 'block' : 'none';\n",
              "\n",
              "      async function convertToInteractive(key) {\n",
              "        const element = document.querySelector('#df-900c8369-b7b7-4c90-b4a4-c8e7ce71527a');\n",
              "        const dataTable =\n",
              "          await google.colab.kernel.invokeFunction('convertToInteractive',\n",
              "                                                    [key], {});\n",
              "        if (!dataTable) return;\n",
              "\n",
              "        const docLinkHtml = 'Like what you see? Visit the ' +\n",
              "          '<a target=\"_blank\" href=https://colab.research.google.com/notebooks/data_table.ipynb>data table notebook</a>'\n",
              "          + ' to learn more about interactive tables.';\n",
              "        element.innerHTML = '';\n",
              "        dataTable['output_type'] = 'display_data';\n",
              "        await google.colab.output.renderOutput(dataTable, element);\n",
              "        const docLink = document.createElement('div');\n",
              "        docLink.innerHTML = docLinkHtml;\n",
              "        element.appendChild(docLink);\n",
              "      }\n",
              "    </script>\n",
              "  </div>\n",
              "  \n",
              "    </div>\n",
              "  </div>\n",
              "  "
            ]
          },
          "metadata": {},
          "execution_count": 3
        }
      ]
    },
    {
      "cell_type": "markdown",
      "source": [
        "##Test File"
      ],
      "metadata": {
        "id": "9SJUrsL1dEoA"
      }
    },
    {
      "cell_type": "code",
      "source": [
        "dt = pd.read_csv('test.csv')\n",
        "dt.head()"
      ],
      "metadata": {
        "id": "bi5uzCjLcNZZ",
        "colab": {
          "base_uri": "https://localhost:8080/",
          "height": 330
        },
        "outputId": "6749fed0-fca7-4e68-f486-21c12021edd3"
      },
      "execution_count": 4,
      "outputs": [
        {
          "output_type": "execute_result",
          "data": {
            "text/plain": [
              "        id   Age  Gender  Annual Income Marital Status  Number of Dependents  \\\n",
              "0  1200000  28.0  Female         2310.0            NaN                   4.0   \n",
              "1  1200001  31.0  Female       126031.0        Married                   2.0   \n",
              "2  1200002  47.0  Female        17092.0       Divorced                   0.0   \n",
              "3  1200003  28.0  Female        30424.0       Divorced                   3.0   \n",
              "4  1200004  24.0    Male        10863.0       Divorced                   2.0   \n",
              "\n",
              "  Education Level     Occupation  Health Score  Location    Policy Type  \\\n",
              "0      Bachelor's  Self-Employed      7.657981     Rural          Basic   \n",
              "1        Master's  Self-Employed     13.381379  Suburban        Premium   \n",
              "2             PhD     Unemployed     24.354527     Urban  Comprehensive   \n",
              "3             PhD  Self-Employed      5.136225  Suburban  Comprehensive   \n",
              "4     High School     Unemployed     11.844155  Suburban        Premium   \n",
              "\n",
              "   Previous Claims  Vehicle Age  Credit Score  Insurance Duration  \\\n",
              "0              NaN         19.0           NaN                 1.0   \n",
              "1              NaN         14.0         372.0                 8.0   \n",
              "2              NaN         16.0         819.0                 9.0   \n",
              "3              1.0          3.0         770.0                 5.0   \n",
              "4              NaN         14.0         755.0                 7.0   \n",
              "\n",
              "            Policy Start Date Customer Feedback Smoking Status  \\\n",
              "0  2023-06-04 15:21:39.245086              Poor            Yes   \n",
              "1  2024-04-22 15:21:39.224915              Good            Yes   \n",
              "2  2023-04-05 15:21:39.134960           Average            Yes   \n",
              "3  2023-10-25 15:21:39.134960              Poor            Yes   \n",
              "4  2021-11-26 15:21:39.259788           Average             No   \n",
              "\n",
              "  Exercise Frequency Property Type  \n",
              "0             Weekly         House  \n",
              "1             Rarely     Apartment  \n",
              "2            Monthly         Condo  \n",
              "3              Daily         House  \n",
              "4             Weekly         House  "
            ],
            "text/html": [
              "\n",
              "  <div id=\"df-c5b70b47-f2a1-49b8-bd78-295c11f3335b\" class=\"colab-df-container\">\n",
              "    <div>\n",
              "<style scoped>\n",
              "    .dataframe tbody tr th:only-of-type {\n",
              "        vertical-align: middle;\n",
              "    }\n",
              "\n",
              "    .dataframe tbody tr th {\n",
              "        vertical-align: top;\n",
              "    }\n",
              "\n",
              "    .dataframe thead th {\n",
              "        text-align: right;\n",
              "    }\n",
              "</style>\n",
              "<table border=\"1\" class=\"dataframe\">\n",
              "  <thead>\n",
              "    <tr style=\"text-align: right;\">\n",
              "      <th></th>\n",
              "      <th>id</th>\n",
              "      <th>Age</th>\n",
              "      <th>Gender</th>\n",
              "      <th>Annual Income</th>\n",
              "      <th>Marital Status</th>\n",
              "      <th>Number of Dependents</th>\n",
              "      <th>Education Level</th>\n",
              "      <th>Occupation</th>\n",
              "      <th>Health Score</th>\n",
              "      <th>Location</th>\n",
              "      <th>Policy Type</th>\n",
              "      <th>Previous Claims</th>\n",
              "      <th>Vehicle Age</th>\n",
              "      <th>Credit Score</th>\n",
              "      <th>Insurance Duration</th>\n",
              "      <th>Policy Start Date</th>\n",
              "      <th>Customer Feedback</th>\n",
              "      <th>Smoking Status</th>\n",
              "      <th>Exercise Frequency</th>\n",
              "      <th>Property Type</th>\n",
              "    </tr>\n",
              "  </thead>\n",
              "  <tbody>\n",
              "    <tr>\n",
              "      <th>0</th>\n",
              "      <td>1200000</td>\n",
              "      <td>28.0</td>\n",
              "      <td>Female</td>\n",
              "      <td>2310.0</td>\n",
              "      <td>NaN</td>\n",
              "      <td>4.0</td>\n",
              "      <td>Bachelor's</td>\n",
              "      <td>Self-Employed</td>\n",
              "      <td>7.657981</td>\n",
              "      <td>Rural</td>\n",
              "      <td>Basic</td>\n",
              "      <td>NaN</td>\n",
              "      <td>19.0</td>\n",
              "      <td>NaN</td>\n",
              "      <td>1.0</td>\n",
              "      <td>2023-06-04 15:21:39.245086</td>\n",
              "      <td>Poor</td>\n",
              "      <td>Yes</td>\n",
              "      <td>Weekly</td>\n",
              "      <td>House</td>\n",
              "    </tr>\n",
              "    <tr>\n",
              "      <th>1</th>\n",
              "      <td>1200001</td>\n",
              "      <td>31.0</td>\n",
              "      <td>Female</td>\n",
              "      <td>126031.0</td>\n",
              "      <td>Married</td>\n",
              "      <td>2.0</td>\n",
              "      <td>Master's</td>\n",
              "      <td>Self-Employed</td>\n",
              "      <td>13.381379</td>\n",
              "      <td>Suburban</td>\n",
              "      <td>Premium</td>\n",
              "      <td>NaN</td>\n",
              "      <td>14.0</td>\n",
              "      <td>372.0</td>\n",
              "      <td>8.0</td>\n",
              "      <td>2024-04-22 15:21:39.224915</td>\n",
              "      <td>Good</td>\n",
              "      <td>Yes</td>\n",
              "      <td>Rarely</td>\n",
              "      <td>Apartment</td>\n",
              "    </tr>\n",
              "    <tr>\n",
              "      <th>2</th>\n",
              "      <td>1200002</td>\n",
              "      <td>47.0</td>\n",
              "      <td>Female</td>\n",
              "      <td>17092.0</td>\n",
              "      <td>Divorced</td>\n",
              "      <td>0.0</td>\n",
              "      <td>PhD</td>\n",
              "      <td>Unemployed</td>\n",
              "      <td>24.354527</td>\n",
              "      <td>Urban</td>\n",
              "      <td>Comprehensive</td>\n",
              "      <td>NaN</td>\n",
              "      <td>16.0</td>\n",
              "      <td>819.0</td>\n",
              "      <td>9.0</td>\n",
              "      <td>2023-04-05 15:21:39.134960</td>\n",
              "      <td>Average</td>\n",
              "      <td>Yes</td>\n",
              "      <td>Monthly</td>\n",
              "      <td>Condo</td>\n",
              "    </tr>\n",
              "    <tr>\n",
              "      <th>3</th>\n",
              "      <td>1200003</td>\n",
              "      <td>28.0</td>\n",
              "      <td>Female</td>\n",
              "      <td>30424.0</td>\n",
              "      <td>Divorced</td>\n",
              "      <td>3.0</td>\n",
              "      <td>PhD</td>\n",
              "      <td>Self-Employed</td>\n",
              "      <td>5.136225</td>\n",
              "      <td>Suburban</td>\n",
              "      <td>Comprehensive</td>\n",
              "      <td>1.0</td>\n",
              "      <td>3.0</td>\n",
              "      <td>770.0</td>\n",
              "      <td>5.0</td>\n",
              "      <td>2023-10-25 15:21:39.134960</td>\n",
              "      <td>Poor</td>\n",
              "      <td>Yes</td>\n",
              "      <td>Daily</td>\n",
              "      <td>House</td>\n",
              "    </tr>\n",
              "    <tr>\n",
              "      <th>4</th>\n",
              "      <td>1200004</td>\n",
              "      <td>24.0</td>\n",
              "      <td>Male</td>\n",
              "      <td>10863.0</td>\n",
              "      <td>Divorced</td>\n",
              "      <td>2.0</td>\n",
              "      <td>High School</td>\n",
              "      <td>Unemployed</td>\n",
              "      <td>11.844155</td>\n",
              "      <td>Suburban</td>\n",
              "      <td>Premium</td>\n",
              "      <td>NaN</td>\n",
              "      <td>14.0</td>\n",
              "      <td>755.0</td>\n",
              "      <td>7.0</td>\n",
              "      <td>2021-11-26 15:21:39.259788</td>\n",
              "      <td>Average</td>\n",
              "      <td>No</td>\n",
              "      <td>Weekly</td>\n",
              "      <td>House</td>\n",
              "    </tr>\n",
              "  </tbody>\n",
              "</table>\n",
              "</div>\n",
              "    <div class=\"colab-df-buttons\">\n",
              "      \n",
              "  <div class=\"colab-df-container\">\n",
              "    <button class=\"colab-df-convert\" onclick=\"convertToInteractive('df-c5b70b47-f2a1-49b8-bd78-295c11f3335b')\"\n",
              "            title=\"Convert this dataframe to an interactive table.\"\n",
              "            style=\"display:none;\">\n",
              "      \n",
              "  <svg xmlns=\"http://www.w3.org/2000/svg\" height=\"24px\" viewBox=\"0 -960 960 960\">\n",
              "    <path d=\"M120-120v-720h720v720H120Zm60-500h600v-160H180v160Zm220 220h160v-160H400v160Zm0 220h160v-160H400v160ZM180-400h160v-160H180v160Zm440 0h160v-160H620v160ZM180-180h160v-160H180v160Zm440 0h160v-160H620v160Z\"/>\n",
              "  </svg>\n",
              "    </button>\n",
              "    \n",
              "  <style>\n",
              "    .colab-df-container {\n",
              "      display:flex;\n",
              "      gap: 12px;\n",
              "    }\n",
              "\n",
              "    .colab-df-convert {\n",
              "      background-color: #E8F0FE;\n",
              "      border: none;\n",
              "      border-radius: 50%;\n",
              "      cursor: pointer;\n",
              "      display: none;\n",
              "      fill: #1967D2;\n",
              "      height: 32px;\n",
              "      padding: 0 0 0 0;\n",
              "      width: 32px;\n",
              "    }\n",
              "\n",
              "    .colab-df-convert:hover {\n",
              "      background-color: #E2EBFA;\n",
              "      box-shadow: 0px 1px 2px rgba(60, 64, 67, 0.3), 0px 1px 3px 1px rgba(60, 64, 67, 0.15);\n",
              "      fill: #174EA6;\n",
              "    }\n",
              "\n",
              "    .colab-df-buttons div {\n",
              "      margin-bottom: 4px;\n",
              "    }\n",
              "\n",
              "    [theme=dark] .colab-df-convert {\n",
              "      background-color: #3B4455;\n",
              "      fill: #D2E3FC;\n",
              "    }\n",
              "\n",
              "    [theme=dark] .colab-df-convert:hover {\n",
              "      background-color: #434B5C;\n",
              "      box-shadow: 0px 1px 3px 1px rgba(0, 0, 0, 0.15);\n",
              "      filter: drop-shadow(0px 1px 2px rgba(0, 0, 0, 0.3));\n",
              "      fill: #FFFFFF;\n",
              "    }\n",
              "  </style>\n",
              "\n",
              "    <script>\n",
              "      const buttonEl =\n",
              "        document.querySelector('#df-c5b70b47-f2a1-49b8-bd78-295c11f3335b button.colab-df-convert');\n",
              "      buttonEl.style.display =\n",
              "        google.colab.kernel.accessAllowed ? 'block' : 'none';\n",
              "\n",
              "      async function convertToInteractive(key) {\n",
              "        const element = document.querySelector('#df-c5b70b47-f2a1-49b8-bd78-295c11f3335b');\n",
              "        const dataTable =\n",
              "          await google.colab.kernel.invokeFunction('convertToInteractive',\n",
              "                                                    [key], {});\n",
              "        if (!dataTable) return;\n",
              "\n",
              "        const docLinkHtml = 'Like what you see? Visit the ' +\n",
              "          '<a target=\"_blank\" href=https://colab.research.google.com/notebooks/data_table.ipynb>data table notebook</a>'\n",
              "          + ' to learn more about interactive tables.';\n",
              "        element.innerHTML = '';\n",
              "        dataTable['output_type'] = 'display_data';\n",
              "        await google.colab.output.renderOutput(dataTable, element);\n",
              "        const docLink = document.createElement('div');\n",
              "        docLink.innerHTML = docLinkHtml;\n",
              "        element.appendChild(docLink);\n",
              "      }\n",
              "    </script>\n",
              "  </div>\n",
              "  \n",
              "    </div>\n",
              "  </div>\n",
              "  "
            ]
          },
          "metadata": {},
          "execution_count": 4
        }
      ]
    },
    {
      "cell_type": "markdown",
      "source": [
        "##Sample Submission File"
      ],
      "metadata": {
        "id": "hTdNvitEdJi4"
      }
    },
    {
      "cell_type": "code",
      "source": [
        "sf = pd.read_csv('sample_submission.csv')\n",
        "sf.head()"
      ],
      "metadata": {
        "id": "S-J6VGTGcuPK",
        "colab": {
          "base_uri": "https://localhost:8080/",
          "height": 206
        },
        "outputId": "27c08e13-461b-45ed-d2a1-23e8aa80c2dd"
      },
      "execution_count": 5,
      "outputs": [
        {
          "output_type": "execute_result",
          "data": {
            "text/plain": [
              "        id  Premium Amount\n",
              "0  1200000        1102.545\n",
              "1  1200001        1102.545\n",
              "2  1200002        1102.545\n",
              "3  1200003        1102.545\n",
              "4  1200004        1102.545"
            ],
            "text/html": [
              "\n",
              "  <div id=\"df-b6ab35e1-a84c-4333-a3b4-ca23638ff325\" class=\"colab-df-container\">\n",
              "    <div>\n",
              "<style scoped>\n",
              "    .dataframe tbody tr th:only-of-type {\n",
              "        vertical-align: middle;\n",
              "    }\n",
              "\n",
              "    .dataframe tbody tr th {\n",
              "        vertical-align: top;\n",
              "    }\n",
              "\n",
              "    .dataframe thead th {\n",
              "        text-align: right;\n",
              "    }\n",
              "</style>\n",
              "<table border=\"1\" class=\"dataframe\">\n",
              "  <thead>\n",
              "    <tr style=\"text-align: right;\">\n",
              "      <th></th>\n",
              "      <th>id</th>\n",
              "      <th>Premium Amount</th>\n",
              "    </tr>\n",
              "  </thead>\n",
              "  <tbody>\n",
              "    <tr>\n",
              "      <th>0</th>\n",
              "      <td>1200000</td>\n",
              "      <td>1102.545</td>\n",
              "    </tr>\n",
              "    <tr>\n",
              "      <th>1</th>\n",
              "      <td>1200001</td>\n",
              "      <td>1102.545</td>\n",
              "    </tr>\n",
              "    <tr>\n",
              "      <th>2</th>\n",
              "      <td>1200002</td>\n",
              "      <td>1102.545</td>\n",
              "    </tr>\n",
              "    <tr>\n",
              "      <th>3</th>\n",
              "      <td>1200003</td>\n",
              "      <td>1102.545</td>\n",
              "    </tr>\n",
              "    <tr>\n",
              "      <th>4</th>\n",
              "      <td>1200004</td>\n",
              "      <td>1102.545</td>\n",
              "    </tr>\n",
              "  </tbody>\n",
              "</table>\n",
              "</div>\n",
              "    <div class=\"colab-df-buttons\">\n",
              "      \n",
              "  <div class=\"colab-df-container\">\n",
              "    <button class=\"colab-df-convert\" onclick=\"convertToInteractive('df-b6ab35e1-a84c-4333-a3b4-ca23638ff325')\"\n",
              "            title=\"Convert this dataframe to an interactive table.\"\n",
              "            style=\"display:none;\">\n",
              "      \n",
              "  <svg xmlns=\"http://www.w3.org/2000/svg\" height=\"24px\" viewBox=\"0 -960 960 960\">\n",
              "    <path d=\"M120-120v-720h720v720H120Zm60-500h600v-160H180v160Zm220 220h160v-160H400v160Zm0 220h160v-160H400v160ZM180-400h160v-160H180v160Zm440 0h160v-160H620v160ZM180-180h160v-160H180v160Zm440 0h160v-160H620v160Z\"/>\n",
              "  </svg>\n",
              "    </button>\n",
              "    \n",
              "  <style>\n",
              "    .colab-df-container {\n",
              "      display:flex;\n",
              "      gap: 12px;\n",
              "    }\n",
              "\n",
              "    .colab-df-convert {\n",
              "      background-color: #E8F0FE;\n",
              "      border: none;\n",
              "      border-radius: 50%;\n",
              "      cursor: pointer;\n",
              "      display: none;\n",
              "      fill: #1967D2;\n",
              "      height: 32px;\n",
              "      padding: 0 0 0 0;\n",
              "      width: 32px;\n",
              "    }\n",
              "\n",
              "    .colab-df-convert:hover {\n",
              "      background-color: #E2EBFA;\n",
              "      box-shadow: 0px 1px 2px rgba(60, 64, 67, 0.3), 0px 1px 3px 1px rgba(60, 64, 67, 0.15);\n",
              "      fill: #174EA6;\n",
              "    }\n",
              "\n",
              "    .colab-df-buttons div {\n",
              "      margin-bottom: 4px;\n",
              "    }\n",
              "\n",
              "    [theme=dark] .colab-df-convert {\n",
              "      background-color: #3B4455;\n",
              "      fill: #D2E3FC;\n",
              "    }\n",
              "\n",
              "    [theme=dark] .colab-df-convert:hover {\n",
              "      background-color: #434B5C;\n",
              "      box-shadow: 0px 1px 3px 1px rgba(0, 0, 0, 0.15);\n",
              "      filter: drop-shadow(0px 1px 2px rgba(0, 0, 0, 0.3));\n",
              "      fill: #FFFFFF;\n",
              "    }\n",
              "  </style>\n",
              "\n",
              "    <script>\n",
              "      const buttonEl =\n",
              "        document.querySelector('#df-b6ab35e1-a84c-4333-a3b4-ca23638ff325 button.colab-df-convert');\n",
              "      buttonEl.style.display =\n",
              "        google.colab.kernel.accessAllowed ? 'block' : 'none';\n",
              "\n",
              "      async function convertToInteractive(key) {\n",
              "        const element = document.querySelector('#df-b6ab35e1-a84c-4333-a3b4-ca23638ff325');\n",
              "        const dataTable =\n",
              "          await google.colab.kernel.invokeFunction('convertToInteractive',\n",
              "                                                    [key], {});\n",
              "        if (!dataTable) return;\n",
              "\n",
              "        const docLinkHtml = 'Like what you see? Visit the ' +\n",
              "          '<a target=\"_blank\" href=https://colab.research.google.com/notebooks/data_table.ipynb>data table notebook</a>'\n",
              "          + ' to learn more about interactive tables.';\n",
              "        element.innerHTML = '';\n",
              "        dataTable['output_type'] = 'display_data';\n",
              "        await google.colab.output.renderOutput(dataTable, element);\n",
              "        const docLink = document.createElement('div');\n",
              "        docLink.innerHTML = docLinkHtml;\n",
              "        element.appendChild(docLink);\n",
              "      }\n",
              "    </script>\n",
              "  </div>\n",
              "  \n",
              "    </div>\n",
              "  </div>\n",
              "  "
            ]
          },
          "metadata": {},
          "execution_count": 5
        }
      ]
    },
    {
      "cell_type": "markdown",
      "source": [
        "## 2. Perform Data preprocessing"
      ],
      "metadata": {
        "id": "GlMLKDF_rvUM"
      }
    },
    {
      "cell_type": "code",
      "source": [
        "# put your answer here\n",
        "df.isnull().sum()"
      ],
      "metadata": {
        "id": "0MJX8VBysFxR",
        "colab": {
          "base_uri": "https://localhost:8080/",
          "height": 742
        },
        "outputId": "23ff2d37-5cc2-433d-ea8d-dd6846cd830b"
      },
      "execution_count": 6,
      "outputs": [
        {
          "output_type": "execute_result",
          "data": {
            "text/plain": [
              "id                           0\n",
              "Age                      18705\n",
              "Gender                       0\n",
              "Annual Income            44949\n",
              "Marital Status           18529\n",
              "Number of Dependents    109672\n",
              "Education Level              0\n",
              "Occupation              358075\n",
              "Health Score             74076\n",
              "Location                     0\n",
              "Policy Type                  0\n",
              "Previous Claims         364029\n",
              "Vehicle Age                  6\n",
              "Credit Score            137882\n",
              "Insurance Duration           1\n",
              "Policy Start Date            0\n",
              "Customer Feedback        77824\n",
              "Smoking Status               0\n",
              "Exercise Frequency           0\n",
              "Property Type                0\n",
              "Premium Amount               0\n",
              "dtype: int64"
            ],
            "text/html": [
              "<div>\n",
              "<style scoped>\n",
              "    .dataframe tbody tr th:only-of-type {\n",
              "        vertical-align: middle;\n",
              "    }\n",
              "\n",
              "    .dataframe tbody tr th {\n",
              "        vertical-align: top;\n",
              "    }\n",
              "\n",
              "    .dataframe thead th {\n",
              "        text-align: right;\n",
              "    }\n",
              "</style>\n",
              "<table border=\"1\" class=\"dataframe\">\n",
              "  <thead>\n",
              "    <tr style=\"text-align: right;\">\n",
              "      <th></th>\n",
              "      <th>0</th>\n",
              "    </tr>\n",
              "  </thead>\n",
              "  <tbody>\n",
              "    <tr>\n",
              "      <th>id</th>\n",
              "      <td>0</td>\n",
              "    </tr>\n",
              "    <tr>\n",
              "      <th>Age</th>\n",
              "      <td>18705</td>\n",
              "    </tr>\n",
              "    <tr>\n",
              "      <th>Gender</th>\n",
              "      <td>0</td>\n",
              "    </tr>\n",
              "    <tr>\n",
              "      <th>Annual Income</th>\n",
              "      <td>44949</td>\n",
              "    </tr>\n",
              "    <tr>\n",
              "      <th>Marital Status</th>\n",
              "      <td>18529</td>\n",
              "    </tr>\n",
              "    <tr>\n",
              "      <th>Number of Dependents</th>\n",
              "      <td>109672</td>\n",
              "    </tr>\n",
              "    <tr>\n",
              "      <th>Education Level</th>\n",
              "      <td>0</td>\n",
              "    </tr>\n",
              "    <tr>\n",
              "      <th>Occupation</th>\n",
              "      <td>358075</td>\n",
              "    </tr>\n",
              "    <tr>\n",
              "      <th>Health Score</th>\n",
              "      <td>74076</td>\n",
              "    </tr>\n",
              "    <tr>\n",
              "      <th>Location</th>\n",
              "      <td>0</td>\n",
              "    </tr>\n",
              "    <tr>\n",
              "      <th>Policy Type</th>\n",
              "      <td>0</td>\n",
              "    </tr>\n",
              "    <tr>\n",
              "      <th>Previous Claims</th>\n",
              "      <td>364029</td>\n",
              "    </tr>\n",
              "    <tr>\n",
              "      <th>Vehicle Age</th>\n",
              "      <td>6</td>\n",
              "    </tr>\n",
              "    <tr>\n",
              "      <th>Credit Score</th>\n",
              "      <td>137882</td>\n",
              "    </tr>\n",
              "    <tr>\n",
              "      <th>Insurance Duration</th>\n",
              "      <td>1</td>\n",
              "    </tr>\n",
              "    <tr>\n",
              "      <th>Policy Start Date</th>\n",
              "      <td>0</td>\n",
              "    </tr>\n",
              "    <tr>\n",
              "      <th>Customer Feedback</th>\n",
              "      <td>77824</td>\n",
              "    </tr>\n",
              "    <tr>\n",
              "      <th>Smoking Status</th>\n",
              "      <td>0</td>\n",
              "    </tr>\n",
              "    <tr>\n",
              "      <th>Exercise Frequency</th>\n",
              "      <td>0</td>\n",
              "    </tr>\n",
              "    <tr>\n",
              "      <th>Property Type</th>\n",
              "      <td>0</td>\n",
              "    </tr>\n",
              "    <tr>\n",
              "      <th>Premium Amount</th>\n",
              "      <td>0</td>\n",
              "    </tr>\n",
              "  </tbody>\n",
              "</table>\n",
              "</div><br><label><b>dtype:</b> int64</label>"
            ]
          },
          "metadata": {},
          "execution_count": 6
        }
      ]
    },
    {
      "cell_type": "code",
      "source": [
        "df.duplicated().sum()"
      ],
      "metadata": {
        "id": "3_gQmT-6dkso",
        "colab": {
          "base_uri": "https://localhost:8080/"
        },
        "outputId": "3cef4135-5640-4617-f984-8dbda8154f66"
      },
      "execution_count": 7,
      "outputs": [
        {
          "output_type": "execute_result",
          "data": {
            "text/plain": [
              "0"
            ]
          },
          "metadata": {},
          "execution_count": 7
        }
      ]
    },
    {
      "cell_type": "code",
      "source": [
        "df.info()"
      ],
      "metadata": {
        "id": "if_19nIjdsEH",
        "colab": {
          "base_uri": "https://localhost:8080/"
        },
        "outputId": "6b881821-cd53-4d1a-ced1-6f88a07b9eac"
      },
      "execution_count": 8,
      "outputs": [
        {
          "output_type": "stream",
          "name": "stdout",
          "text": [
            "<class 'pandas.core.frame.DataFrame'>\n",
            "RangeIndex: 1200000 entries, 0 to 1199999\n",
            "Data columns (total 21 columns):\n",
            " #   Column                Non-Null Count    Dtype  \n",
            "---  ------                --------------    -----  \n",
            " 0   id                    1200000 non-null  int64  \n",
            " 1   Age                   1181295 non-null  float64\n",
            " 2   Gender                1200000 non-null  object \n",
            " 3   Annual Income         1155051 non-null  float64\n",
            " 4   Marital Status        1181471 non-null  object \n",
            " 5   Number of Dependents  1090328 non-null  float64\n",
            " 6   Education Level       1200000 non-null  object \n",
            " 7   Occupation            841925 non-null   object \n",
            " 8   Health Score          1125924 non-null  float64\n",
            " 9   Location              1200000 non-null  object \n",
            " 10  Policy Type           1200000 non-null  object \n",
            " 11  Previous Claims       835971 non-null   float64\n",
            " 12  Vehicle Age           1199994 non-null  float64\n",
            " 13  Credit Score          1062118 non-null  float64\n",
            " 14  Insurance Duration    1199999 non-null  float64\n",
            " 15  Policy Start Date     1200000 non-null  object \n",
            " 16  Customer Feedback     1122176 non-null  object \n",
            " 17  Smoking Status        1200000 non-null  object \n",
            " 18  Exercise Frequency    1200000 non-null  object \n",
            " 19  Property Type         1200000 non-null  object \n",
            " 20  Premium Amount        1200000 non-null  float64\n",
            "dtypes: float64(9), int64(1), object(11)\n",
            "memory usage: 192.3+ MB\n"
          ]
        }
      ]
    },
    {
      "cell_type": "code",
      "source": [
        "df.sample(5)"
      ],
      "metadata": {
        "id": "oJP9edd-i90b",
        "colab": {
          "base_uri": "https://localhost:8080/",
          "height": 330
        },
        "outputId": "6b845094-c4b5-4978-ca9b-262c85c70437"
      },
      "execution_count": 9,
      "outputs": [
        {
          "output_type": "execute_result",
          "data": {
            "text/plain": [
              "            id   Age  Gender  Annual Income Marital Status  \\\n",
              "246319  246319  35.0  Female        41134.0       Divorced   \n",
              "242257  242257  46.0  Female         8058.0         Single   \n",
              "912802  912802  52.0  Female        26373.0        Married   \n",
              "270029  270029  51.0    Male        18924.0       Divorced   \n",
              "227833  227833  32.0  Female        14863.0       Divorced   \n",
              "\n",
              "        Number of Dependents Education Level     Occupation  Health Score  \\\n",
              "246319                   NaN        Master's     Unemployed     36.567348   \n",
              "242257                   NaN             PhD            NaN     22.845313   \n",
              "912802                   3.0             PhD            NaN     41.508820   \n",
              "270029                   0.0      Bachelor's     Unemployed     10.056448   \n",
              "227833                   0.0        Master's  Self-Employed      7.985320   \n",
              "\n",
              "       Location    Policy Type  Previous Claims  Vehicle Age  Credit Score  \\\n",
              "246319    Urban        Premium              NaN         11.0         701.0   \n",
              "242257    Urban        Premium              1.0         16.0         631.0   \n",
              "912802    Rural        Premium              2.0          9.0         478.0   \n",
              "270029    Urban          Basic              1.0         10.0           NaN   \n",
              "227833    Rural  Comprehensive              1.0         11.0         369.0   \n",
              "\n",
              "        Insurance Duration           Policy Start Date Customer Feedback  \\\n",
              "246319                 3.0  2020-02-11 15:21:39.111551              Good   \n",
              "242257                 6.0  2020-08-14 15:21:39.261856              Poor   \n",
              "912802                 1.0  2023-02-22 15:21:39.228521           Average   \n",
              "270029                 7.0  2024-06-22 15:21:39.150730              Good   \n",
              "227833                 9.0  2020-04-21 15:21:39.134960              Good   \n",
              "\n",
              "       Smoking Status Exercise Frequency Property Type  Premium Amount  \n",
              "246319            Yes             Rarely         House           105.0  \n",
              "242257            Yes              Daily         House          1140.0  \n",
              "912802             No             Rarely         Condo           614.0  \n",
              "270029             No              Daily         Condo           758.0  \n",
              "227833            Yes             Weekly         House          2585.0  "
            ],
            "text/html": [
              "\n",
              "  <div id=\"df-eec35b44-6174-4823-9eab-bf00d405c976\" class=\"colab-df-container\">\n",
              "    <div>\n",
              "<style scoped>\n",
              "    .dataframe tbody tr th:only-of-type {\n",
              "        vertical-align: middle;\n",
              "    }\n",
              "\n",
              "    .dataframe tbody tr th {\n",
              "        vertical-align: top;\n",
              "    }\n",
              "\n",
              "    .dataframe thead th {\n",
              "        text-align: right;\n",
              "    }\n",
              "</style>\n",
              "<table border=\"1\" class=\"dataframe\">\n",
              "  <thead>\n",
              "    <tr style=\"text-align: right;\">\n",
              "      <th></th>\n",
              "      <th>id</th>\n",
              "      <th>Age</th>\n",
              "      <th>Gender</th>\n",
              "      <th>Annual Income</th>\n",
              "      <th>Marital Status</th>\n",
              "      <th>Number of Dependents</th>\n",
              "      <th>Education Level</th>\n",
              "      <th>Occupation</th>\n",
              "      <th>Health Score</th>\n",
              "      <th>Location</th>\n",
              "      <th>Policy Type</th>\n",
              "      <th>Previous Claims</th>\n",
              "      <th>Vehicle Age</th>\n",
              "      <th>Credit Score</th>\n",
              "      <th>Insurance Duration</th>\n",
              "      <th>Policy Start Date</th>\n",
              "      <th>Customer Feedback</th>\n",
              "      <th>Smoking Status</th>\n",
              "      <th>Exercise Frequency</th>\n",
              "      <th>Property Type</th>\n",
              "      <th>Premium Amount</th>\n",
              "    </tr>\n",
              "  </thead>\n",
              "  <tbody>\n",
              "    <tr>\n",
              "      <th>246319</th>\n",
              "      <td>246319</td>\n",
              "      <td>35.0</td>\n",
              "      <td>Female</td>\n",
              "      <td>41134.0</td>\n",
              "      <td>Divorced</td>\n",
              "      <td>NaN</td>\n",
              "      <td>Master's</td>\n",
              "      <td>Unemployed</td>\n",
              "      <td>36.567348</td>\n",
              "      <td>Urban</td>\n",
              "      <td>Premium</td>\n",
              "      <td>NaN</td>\n",
              "      <td>11.0</td>\n",
              "      <td>701.0</td>\n",
              "      <td>3.0</td>\n",
              "      <td>2020-02-11 15:21:39.111551</td>\n",
              "      <td>Good</td>\n",
              "      <td>Yes</td>\n",
              "      <td>Rarely</td>\n",
              "      <td>House</td>\n",
              "      <td>105.0</td>\n",
              "    </tr>\n",
              "    <tr>\n",
              "      <th>242257</th>\n",
              "      <td>242257</td>\n",
              "      <td>46.0</td>\n",
              "      <td>Female</td>\n",
              "      <td>8058.0</td>\n",
              "      <td>Single</td>\n",
              "      <td>NaN</td>\n",
              "      <td>PhD</td>\n",
              "      <td>NaN</td>\n",
              "      <td>22.845313</td>\n",
              "      <td>Urban</td>\n",
              "      <td>Premium</td>\n",
              "      <td>1.0</td>\n",
              "      <td>16.0</td>\n",
              "      <td>631.0</td>\n",
              "      <td>6.0</td>\n",
              "      <td>2020-08-14 15:21:39.261856</td>\n",
              "      <td>Poor</td>\n",
              "      <td>Yes</td>\n",
              "      <td>Daily</td>\n",
              "      <td>House</td>\n",
              "      <td>1140.0</td>\n",
              "    </tr>\n",
              "    <tr>\n",
              "      <th>912802</th>\n",
              "      <td>912802</td>\n",
              "      <td>52.0</td>\n",
              "      <td>Female</td>\n",
              "      <td>26373.0</td>\n",
              "      <td>Married</td>\n",
              "      <td>3.0</td>\n",
              "      <td>PhD</td>\n",
              "      <td>NaN</td>\n",
              "      <td>41.508820</td>\n",
              "      <td>Rural</td>\n",
              "      <td>Premium</td>\n",
              "      <td>2.0</td>\n",
              "      <td>9.0</td>\n",
              "      <td>478.0</td>\n",
              "      <td>1.0</td>\n",
              "      <td>2023-02-22 15:21:39.228521</td>\n",
              "      <td>Average</td>\n",
              "      <td>No</td>\n",
              "      <td>Rarely</td>\n",
              "      <td>Condo</td>\n",
              "      <td>614.0</td>\n",
              "    </tr>\n",
              "    <tr>\n",
              "      <th>270029</th>\n",
              "      <td>270029</td>\n",
              "      <td>51.0</td>\n",
              "      <td>Male</td>\n",
              "      <td>18924.0</td>\n",
              "      <td>Divorced</td>\n",
              "      <td>0.0</td>\n",
              "      <td>Bachelor's</td>\n",
              "      <td>Unemployed</td>\n",
              "      <td>10.056448</td>\n",
              "      <td>Urban</td>\n",
              "      <td>Basic</td>\n",
              "      <td>1.0</td>\n",
              "      <td>10.0</td>\n",
              "      <td>NaN</td>\n",
              "      <td>7.0</td>\n",
              "      <td>2024-06-22 15:21:39.150730</td>\n",
              "      <td>Good</td>\n",
              "      <td>No</td>\n",
              "      <td>Daily</td>\n",
              "      <td>Condo</td>\n",
              "      <td>758.0</td>\n",
              "    </tr>\n",
              "    <tr>\n",
              "      <th>227833</th>\n",
              "      <td>227833</td>\n",
              "      <td>32.0</td>\n",
              "      <td>Female</td>\n",
              "      <td>14863.0</td>\n",
              "      <td>Divorced</td>\n",
              "      <td>0.0</td>\n",
              "      <td>Master's</td>\n",
              "      <td>Self-Employed</td>\n",
              "      <td>7.985320</td>\n",
              "      <td>Rural</td>\n",
              "      <td>Comprehensive</td>\n",
              "      <td>1.0</td>\n",
              "      <td>11.0</td>\n",
              "      <td>369.0</td>\n",
              "      <td>9.0</td>\n",
              "      <td>2020-04-21 15:21:39.134960</td>\n",
              "      <td>Good</td>\n",
              "      <td>Yes</td>\n",
              "      <td>Weekly</td>\n",
              "      <td>House</td>\n",
              "      <td>2585.0</td>\n",
              "    </tr>\n",
              "  </tbody>\n",
              "</table>\n",
              "</div>\n",
              "    <div class=\"colab-df-buttons\">\n",
              "      \n",
              "  <div class=\"colab-df-container\">\n",
              "    <button class=\"colab-df-convert\" onclick=\"convertToInteractive('df-eec35b44-6174-4823-9eab-bf00d405c976')\"\n",
              "            title=\"Convert this dataframe to an interactive table.\"\n",
              "            style=\"display:none;\">\n",
              "      \n",
              "  <svg xmlns=\"http://www.w3.org/2000/svg\" height=\"24px\" viewBox=\"0 -960 960 960\">\n",
              "    <path d=\"M120-120v-720h720v720H120Zm60-500h600v-160H180v160Zm220 220h160v-160H400v160Zm0 220h160v-160H400v160ZM180-400h160v-160H180v160Zm440 0h160v-160H620v160ZM180-180h160v-160H180v160Zm440 0h160v-160H620v160Z\"/>\n",
              "  </svg>\n",
              "    </button>\n",
              "    \n",
              "  <style>\n",
              "    .colab-df-container {\n",
              "      display:flex;\n",
              "      gap: 12px;\n",
              "    }\n",
              "\n",
              "    .colab-df-convert {\n",
              "      background-color: #E8F0FE;\n",
              "      border: none;\n",
              "      border-radius: 50%;\n",
              "      cursor: pointer;\n",
              "      display: none;\n",
              "      fill: #1967D2;\n",
              "      height: 32px;\n",
              "      padding: 0 0 0 0;\n",
              "      width: 32px;\n",
              "    }\n",
              "\n",
              "    .colab-df-convert:hover {\n",
              "      background-color: #E2EBFA;\n",
              "      box-shadow: 0px 1px 2px rgba(60, 64, 67, 0.3), 0px 1px 3px 1px rgba(60, 64, 67, 0.15);\n",
              "      fill: #174EA6;\n",
              "    }\n",
              "\n",
              "    .colab-df-buttons div {\n",
              "      margin-bottom: 4px;\n",
              "    }\n",
              "\n",
              "    [theme=dark] .colab-df-convert {\n",
              "      background-color: #3B4455;\n",
              "      fill: #D2E3FC;\n",
              "    }\n",
              "\n",
              "    [theme=dark] .colab-df-convert:hover {\n",
              "      background-color: #434B5C;\n",
              "      box-shadow: 0px 1px 3px 1px rgba(0, 0, 0, 0.15);\n",
              "      filter: drop-shadow(0px 1px 2px rgba(0, 0, 0, 0.3));\n",
              "      fill: #FFFFFF;\n",
              "    }\n",
              "  </style>\n",
              "\n",
              "    <script>\n",
              "      const buttonEl =\n",
              "        document.querySelector('#df-eec35b44-6174-4823-9eab-bf00d405c976 button.colab-df-convert');\n",
              "      buttonEl.style.display =\n",
              "        google.colab.kernel.accessAllowed ? 'block' : 'none';\n",
              "\n",
              "      async function convertToInteractive(key) {\n",
              "        const element = document.querySelector('#df-eec35b44-6174-4823-9eab-bf00d405c976');\n",
              "        const dataTable =\n",
              "          await google.colab.kernel.invokeFunction('convertToInteractive',\n",
              "                                                    [key], {});\n",
              "        if (!dataTable) return;\n",
              "\n",
              "        const docLinkHtml = 'Like what you see? Visit the ' +\n",
              "          '<a target=\"_blank\" href=https://colab.research.google.com/notebooks/data_table.ipynb>data table notebook</a>'\n",
              "          + ' to learn more about interactive tables.';\n",
              "        element.innerHTML = '';\n",
              "        dataTable['output_type'] = 'display_data';\n",
              "        await google.colab.output.renderOutput(dataTable, element);\n",
              "        const docLink = document.createElement('div');\n",
              "        docLink.innerHTML = docLinkHtml;\n",
              "        element.appendChild(docLink);\n",
              "      }\n",
              "    </script>\n",
              "  </div>\n",
              "  \n",
              "    </div>\n",
              "  </div>\n",
              "  "
            ]
          },
          "metadata": {},
          "execution_count": 9
        }
      ]
    },
    {
      "cell_type": "markdown",
      "source": [
        "## encoding categorical features"
      ],
      "metadata": {
        "id": "nYA9758At8Zj"
      }
    },
    {
      "cell_type": "code",
      "source": [
        "print(df[\"Occupation\"].unique())"
      ],
      "metadata": {
        "id": "OHfpJuGQe0bv",
        "colab": {
          "base_uri": "https://localhost:8080/"
        },
        "outputId": "ac57c8d4-280b-46d5-eac7-6ea20ef5ee58"
      },
      "execution_count": 10,
      "outputs": [
        {
          "output_type": "stream",
          "name": "stdout",
          "text": [
            "['Self-Employed' nan 'Employed' 'Unemployed']\n"
          ]
        }
      ]
    },
    {
      "cell_type": "code",
      "source": [
        "occupation_mapping = {\n",
        "    'Self-Employed': 0,\n",
        "    'Employed': 1,\n",
        "    'Unemployed': 2\n",
        "}\n",
        "\n",
        "df['Occupation'] = df['Occupation'].map(occupation_mapping)\n",
        "print(df[\"Occupation\"].unique())"
      ],
      "metadata": {
        "id": "PZvd18BEnjrP",
        "colab": {
          "base_uri": "https://localhost:8080/"
        },
        "outputId": "d54417e9-d6f4-42c2-a5f8-899f433421c8"
      },
      "execution_count": 11,
      "outputs": [
        {
          "output_type": "stream",
          "name": "stdout",
          "text": [
            "[ 0. nan  1.  2.]\n"
          ]
        }
      ]
    },
    {
      "cell_type": "code",
      "source": [
        "df['Occupation'].value_counts()"
      ],
      "metadata": {
        "id": "208RbKQUhxfF",
        "colab": {
          "base_uri": "https://localhost:8080/",
          "height": 209
        },
        "outputId": "b47b124a-e188-40cf-dda7-6b657c4a2222"
      },
      "execution_count": 12,
      "outputs": [
        {
          "output_type": "execute_result",
          "data": {
            "text/plain": [
              "Occupation\n",
              "1.0    282750\n",
              "0.0    282645\n",
              "2.0    276530\n",
              "Name: count, dtype: int64"
            ],
            "text/html": [
              "<div>\n",
              "<style scoped>\n",
              "    .dataframe tbody tr th:only-of-type {\n",
              "        vertical-align: middle;\n",
              "    }\n",
              "\n",
              "    .dataframe tbody tr th {\n",
              "        vertical-align: top;\n",
              "    }\n",
              "\n",
              "    .dataframe thead th {\n",
              "        text-align: right;\n",
              "    }\n",
              "</style>\n",
              "<table border=\"1\" class=\"dataframe\">\n",
              "  <thead>\n",
              "    <tr style=\"text-align: right;\">\n",
              "      <th></th>\n",
              "      <th>count</th>\n",
              "    </tr>\n",
              "    <tr>\n",
              "      <th>Occupation</th>\n",
              "      <th></th>\n",
              "    </tr>\n",
              "  </thead>\n",
              "  <tbody>\n",
              "    <tr>\n",
              "      <th>1.0</th>\n",
              "      <td>282750</td>\n",
              "    </tr>\n",
              "    <tr>\n",
              "      <th>0.0</th>\n",
              "      <td>282645</td>\n",
              "    </tr>\n",
              "    <tr>\n",
              "      <th>2.0</th>\n",
              "      <td>276530</td>\n",
              "    </tr>\n",
              "  </tbody>\n",
              "</table>\n",
              "</div><br><label><b>dtype:</b> int64</label>"
            ]
          },
          "metadata": {},
          "execution_count": 12
        }
      ]
    },
    {
      "cell_type": "code",
      "source": [
        "print(df[\"Marital Status\"].unique())"
      ],
      "metadata": {
        "id": "EAeJJ6TrfVgV",
        "colab": {
          "base_uri": "https://localhost:8080/"
        },
        "outputId": "a87d3494-46e1-4019-b52c-09318ce4d5df"
      },
      "execution_count": 13,
      "outputs": [
        {
          "output_type": "stream",
          "name": "stdout",
          "text": [
            "['Married' 'Divorced' 'Single' nan]\n"
          ]
        }
      ]
    },
    {
      "cell_type": "code",
      "source": [
        "marital_mapping = {\n",
        "    'Single': 0,\n",
        "    'Married': 1,\n",
        "    'Divorced': 2\n",
        "}\n",
        "df['Marital Status'] = df['Marital Status'].map(marital_mapping)\n",
        "print(df[\"Marital Status\"].unique())"
      ],
      "metadata": {
        "id": "BPVJJwSXndtO",
        "colab": {
          "base_uri": "https://localhost:8080/"
        },
        "outputId": "0e9f3566-4a7b-4e3c-a4ac-aad463a51710"
      },
      "execution_count": 14,
      "outputs": [
        {
          "output_type": "stream",
          "name": "stdout",
          "text": [
            "[ 1.  2.  0. nan]\n"
          ]
        }
      ]
    },
    {
      "cell_type": "code",
      "source": [
        "print(df[\"Education Level\"].unique())"
      ],
      "metadata": {
        "id": "_rVuQ2LifdrN",
        "colab": {
          "base_uri": "https://localhost:8080/"
        },
        "outputId": "a1c459e7-a895-4c4f-89bd-4a0bbf6b2848"
      },
      "execution_count": 15,
      "outputs": [
        {
          "output_type": "stream",
          "name": "stdout",
          "text": [
            "[\"Bachelor's\" \"Master's\" 'High School' 'PhD']\n"
          ]
        }
      ]
    },
    {
      "cell_type": "code",
      "source": [
        "education_mapping = {\n",
        "    'High School': 0,\n",
        "    'Bachelor\\'s': 1,\n",
        "    'Master\\'s': 2,\n",
        "    'PhD': 3\n",
        "}\n",
        "df['Education Level'] = df['Education Level'].map(education_mapping)\n",
        "print(df[\"Education Level\"].unique())"
      ],
      "metadata": {
        "id": "nv-5CxWMldTQ",
        "colab": {
          "base_uri": "https://localhost:8080/"
        },
        "outputId": "4bedf4a4-7297-4b47-a1a6-9bc32222ff5c"
      },
      "execution_count": 16,
      "outputs": [
        {
          "output_type": "stream",
          "name": "stdout",
          "text": [
            "[1 2 0 3]\n"
          ]
        }
      ]
    },
    {
      "cell_type": "code",
      "source": [
        "print(df[\"Location\"].unique())"
      ],
      "metadata": {
        "id": "ZkqlnjA8fh6X",
        "colab": {
          "base_uri": "https://localhost:8080/"
        },
        "outputId": "a534c35a-b2c0-4da2-c221-20d21079b16d"
      },
      "execution_count": 17,
      "outputs": [
        {
          "output_type": "stream",
          "name": "stdout",
          "text": [
            "['Urban' 'Rural' 'Suburban']\n"
          ]
        }
      ]
    },
    {
      "cell_type": "code",
      "source": [
        "location_mapping = {\n",
        "    'Urban': 0,\n",
        "    'Rural': 1,\n",
        "    'Suburban': 2\n",
        "}\n",
        "\n",
        "df['Location'] = df['Location'].map(location_mapping)\n",
        "print(df[\"Location\"].unique())"
      ],
      "metadata": {
        "id": "Pt2_SvxmmIgP",
        "colab": {
          "base_uri": "https://localhost:8080/"
        },
        "outputId": "182b6053-8201-448f-ee1e-fc9217f8251c"
      },
      "execution_count": 18,
      "outputs": [
        {
          "output_type": "stream",
          "name": "stdout",
          "text": [
            "[0 1 2]\n"
          ]
        }
      ]
    },
    {
      "cell_type": "code",
      "source": [
        "print(df[\"Policy Type\"].unique())"
      ],
      "metadata": {
        "id": "B5yvMwQigPum",
        "colab": {
          "base_uri": "https://localhost:8080/"
        },
        "outputId": "70b6113e-d0f9-4385-f738-faa7edbf546b"
      },
      "execution_count": 19,
      "outputs": [
        {
          "output_type": "stream",
          "name": "stdout",
          "text": [
            "['Premium' 'Comprehensive' 'Basic']\n"
          ]
        }
      ]
    },
    {
      "cell_type": "code",
      "source": [
        "policy_mapping = {\n",
        "    'Premium': 2,\n",
        "    'Comprehensive': 1,\n",
        "    'Basic': 0\n",
        "}\n",
        "df['Policy Type'] = df['Policy Type'].map(policy_mapping)\n",
        "print(df[\"Policy Type\"].unique())"
      ],
      "metadata": {
        "id": "6KxaPviDmWe_",
        "colab": {
          "base_uri": "https://localhost:8080/"
        },
        "outputId": "dea5032b-98aa-4ef1-a746-a2928ff1a352"
      },
      "execution_count": 20,
      "outputs": [
        {
          "output_type": "stream",
          "name": "stdout",
          "text": [
            "[2 1 0]\n"
          ]
        }
      ]
    },
    {
      "cell_type": "code",
      "source": [
        "print(df[\"Customer Feedback\"].unique())"
      ],
      "metadata": {
        "id": "xP1EiU2zgXbW",
        "colab": {
          "base_uri": "https://localhost:8080/"
        },
        "outputId": "6b4d9e8c-b693-45c0-d4c0-a2e39d345bf9"
      },
      "execution_count": 21,
      "outputs": [
        {
          "output_type": "stream",
          "name": "stdout",
          "text": [
            "['Poor' 'Average' 'Good' nan]\n"
          ]
        }
      ]
    },
    {
      "cell_type": "code",
      "source": [
        "print(df[\"Exercise Frequency\"].unique())"
      ],
      "metadata": {
        "id": "j5GL1hzsglod",
        "colab": {
          "base_uri": "https://localhost:8080/"
        },
        "outputId": "2b5629b9-c453-47e4-a34f-fe85019ef5d7"
      },
      "execution_count": 22,
      "outputs": [
        {
          "output_type": "stream",
          "name": "stdout",
          "text": [
            "['Weekly' 'Monthly' 'Daily' 'Rarely']\n"
          ]
        }
      ]
    },
    {
      "cell_type": "code",
      "source": [
        "exerciseFreq_mapping = {\n",
        "    'Weekly': 0,\n",
        "    'Monthly': 1,\n",
        "    'Daily': 2,\n",
        "    'Rarely': 3\n",
        "}\n",
        "\n",
        "df['Exercise Frequency'] = df['Exercise Frequency'].map(exerciseFreq_mapping)\n",
        "print(df[\"Exercise Frequency\"].unique())"
      ],
      "metadata": {
        "id": "yZf5tZLom8gX",
        "colab": {
          "base_uri": "https://localhost:8080/"
        },
        "outputId": "1f905b54-dc83-43ac-af11-b96270e90519"
      },
      "execution_count": 23,
      "outputs": [
        {
          "output_type": "stream",
          "name": "stdout",
          "text": [
            "[0 1 2 3]\n"
          ]
        }
      ]
    },
    {
      "cell_type": "code",
      "source": [
        "print(df[\"Property Type\"].unique())"
      ],
      "metadata": {
        "id": "BgU4GYS5guSs",
        "colab": {
          "base_uri": "https://localhost:8080/"
        },
        "outputId": "1a672e90-f81f-424f-d426-a5f81a491587"
      },
      "execution_count": 24,
      "outputs": [
        {
          "output_type": "stream",
          "name": "stdout",
          "text": [
            "['House' 'Apartment' 'Condo']\n"
          ]
        }
      ]
    },
    {
      "cell_type": "code",
      "source": [
        "property_mapping = {\n",
        "    'House': 0,\n",
        "    'Apartment': 1,\n",
        "    'Condo': 2\n",
        "}\n",
        "\n",
        "df['Property Type'] = df['Property Type'].map(property_mapping)\n",
        "print(df[\"Property Type\"].unique())"
      ],
      "metadata": {
        "id": "_7I93JNRnM1O",
        "colab": {
          "base_uri": "https://localhost:8080/"
        },
        "outputId": "8c6a0cbe-f37c-447f-ea3b-71db510093fc"
      },
      "execution_count": 25,
      "outputs": [
        {
          "output_type": "stream",
          "name": "stdout",
          "text": [
            "[0 1 2]\n"
          ]
        }
      ]
    },
    {
      "cell_type": "code",
      "source": [
        "gender_mapping = {\n",
        "    'Male': 0,\n",
        "    'Female': 1\n",
        "}\n",
        "\n",
        "df['Gender'] = df['Gender'].map(gender_mapping)\n",
        "print(df[\"Gender\"].unique())"
      ],
      "metadata": {
        "id": "8FNPdSk8oEn9",
        "colab": {
          "base_uri": "https://localhost:8080/"
        },
        "outputId": "699b855b-4912-48cb-b05f-e5833dd3967c"
      },
      "execution_count": 26,
      "outputs": [
        {
          "output_type": "stream",
          "name": "stdout",
          "text": [
            "[1 0]\n"
          ]
        }
      ]
    },
    {
      "cell_type": "code",
      "source": [
        "print(df['Previous Claims'].unique())"
      ],
      "metadata": {
        "id": "MHFiNvspoXhe",
        "colab": {
          "base_uri": "https://localhost:8080/"
        },
        "outputId": "6ff685ce-5b47-4aac-956d-a534172ab44e"
      },
      "execution_count": 27,
      "outputs": [
        {
          "output_type": "stream",
          "name": "stdout",
          "text": [
            "[ 2.  1.  0. nan  3.  4.  5.  6.  7.  8.  9.]\n"
          ]
        }
      ]
    },
    {
      "cell_type": "code",
      "source": [
        "print(df['Customer Feedback'].unique())"
      ],
      "metadata": {
        "id": "VF6sAX8GpEYF",
        "colab": {
          "base_uri": "https://localhost:8080/"
        },
        "outputId": "745a6429-4938-4287-c8bc-ece2da6c5699"
      },
      "execution_count": 28,
      "outputs": [
        {
          "output_type": "stream",
          "name": "stdout",
          "text": [
            "['Poor' 'Average' 'Good' nan]\n"
          ]
        }
      ]
    },
    {
      "cell_type": "code",
      "source": [
        "feedback_mapping = {\n",
        "    'Poor': 0,\n",
        "    'Average': 1,\n",
        "    'Good': 2,\n",
        "}\n",
        "df['Customer Feedback'] = df['Customer Feedback'].map(feedback_mapping)\n",
        "print(df[\"Customer Feedback\"].unique())"
      ],
      "metadata": {
        "id": "hiucWadgpa5F",
        "colab": {
          "base_uri": "https://localhost:8080/"
        },
        "outputId": "76047f9f-950d-468b-dc52-438e733ad96a"
      },
      "execution_count": 29,
      "outputs": [
        {
          "output_type": "stream",
          "name": "stdout",
          "text": [
            "[ 0.  1.  2. nan]\n"
          ]
        }
      ]
    },
    {
      "cell_type": "code",
      "source": [
        "print(df[\"Smoking Status\"].unique())"
      ],
      "metadata": {
        "id": "u1OmRs2Ypx1s",
        "colab": {
          "base_uri": "https://localhost:8080/"
        },
        "outputId": "adc0fcfd-8c86-4227-f55d-f060fc51bedd"
      },
      "execution_count": 30,
      "outputs": [
        {
          "output_type": "stream",
          "name": "stdout",
          "text": [
            "['No' 'Yes']\n"
          ]
        }
      ]
    },
    {
      "cell_type": "code",
      "source": [
        "smoking_mapping = {\n",
        "    'Yes': 1,\n",
        "    'No': 0\n",
        "}\n",
        "df['Smoking Status'] = df['Smoking Status'].map(smoking_mapping)\n",
        "print(df[\"Smoking Status\"].unique())"
      ],
      "metadata": {
        "id": "MEZa9LTcp8a0",
        "colab": {
          "base_uri": "https://localhost:8080/"
        },
        "outputId": "683084fd-07a5-4398-a8dd-8ee1d1a5ff7d"
      },
      "execution_count": 31,
      "outputs": [
        {
          "output_type": "stream",
          "name": "stdout",
          "text": [
            "[0 1]\n"
          ]
        }
      ]
    },
    {
      "cell_type": "code",
      "source": [
        "print(df['Policy Start Date'].unique())"
      ],
      "metadata": {
        "id": "BUGpyUWPqHWb",
        "colab": {
          "base_uri": "https://localhost:8080/"
        },
        "outputId": "e4750a4f-ef42-4bca-9dff-69eda3b76fcb"
      },
      "execution_count": 32,
      "outputs": [
        {
          "output_type": "stream",
          "name": "stdout",
          "text": [
            "['2023-12-23 15:21:39.134960' '2023-06-12 15:21:39.111551'\n",
            " '2023-09-30 15:21:39.221386' ... '2021-04-28 15:21:39.129190'\n",
            " '2019-11-14 15:21:39.201446' '2020-10-19 15:21:39.118178']\n"
          ]
        }
      ]
    },
    {
      "cell_type": "code",
      "source": [
        "df.sample(3)"
      ],
      "metadata": {
        "id": "PBgEmayVpqtc",
        "colab": {
          "base_uri": "https://localhost:8080/",
          "height": 233
        },
        "outputId": "f8fc56fc-3178-4b6d-c78d-c4fe830bbecf"
      },
      "execution_count": 33,
      "outputs": [
        {
          "output_type": "execute_result",
          "data": {
            "text/plain": [
              "            id   Age  Gender  Annual Income  Marital Status  \\\n",
              "761506  761506  57.0       1        30652.0             0.0   \n",
              "92580    92580  41.0       1         2863.0             1.0   \n",
              "158706  158706  18.0       0        31006.0             0.0   \n",
              "\n",
              "        Number of Dependents  Education Level  Occupation  Health Score  \\\n",
              "761506                   3.0                0         NaN     47.442494   \n",
              "92580                    0.0                3         NaN      9.638350   \n",
              "158706                   NaN                3         0.0     45.491278   \n",
              "\n",
              "        Location  Policy Type  Previous Claims  Vehicle Age  Credit Score  \\\n",
              "761506         1            2              1.0          7.0         759.0   \n",
              "92580          1            1              0.0          9.0         512.0   \n",
              "158706         0            0              1.0          1.0         634.0   \n",
              "\n",
              "        Insurance Duration           Policy Start Date  Customer Feedback  \\\n",
              "761506                 4.0  2022-05-02 15:21:39.274993                1.0   \n",
              "92580                  9.0  2022-11-10 15:21:39.134960                0.0   \n",
              "158706                 7.0  2021-02-05 15:21:39.155231                1.0   \n",
              "\n",
              "        Smoking Status  Exercise Frequency  Property Type  Premium Amount  \n",
              "761506               1                   1              1           654.0  \n",
              "92580                1                   1              2          1391.0  \n",
              "158706               1                   0              1          1708.0  "
            ],
            "text/html": [
              "\n",
              "  <div id=\"df-e070ee8c-7101-488a-8f47-739abe5da0d3\" class=\"colab-df-container\">\n",
              "    <div>\n",
              "<style scoped>\n",
              "    .dataframe tbody tr th:only-of-type {\n",
              "        vertical-align: middle;\n",
              "    }\n",
              "\n",
              "    .dataframe tbody tr th {\n",
              "        vertical-align: top;\n",
              "    }\n",
              "\n",
              "    .dataframe thead th {\n",
              "        text-align: right;\n",
              "    }\n",
              "</style>\n",
              "<table border=\"1\" class=\"dataframe\">\n",
              "  <thead>\n",
              "    <tr style=\"text-align: right;\">\n",
              "      <th></th>\n",
              "      <th>id</th>\n",
              "      <th>Age</th>\n",
              "      <th>Gender</th>\n",
              "      <th>Annual Income</th>\n",
              "      <th>Marital Status</th>\n",
              "      <th>Number of Dependents</th>\n",
              "      <th>Education Level</th>\n",
              "      <th>Occupation</th>\n",
              "      <th>Health Score</th>\n",
              "      <th>Location</th>\n",
              "      <th>Policy Type</th>\n",
              "      <th>Previous Claims</th>\n",
              "      <th>Vehicle Age</th>\n",
              "      <th>Credit Score</th>\n",
              "      <th>Insurance Duration</th>\n",
              "      <th>Policy Start Date</th>\n",
              "      <th>Customer Feedback</th>\n",
              "      <th>Smoking Status</th>\n",
              "      <th>Exercise Frequency</th>\n",
              "      <th>Property Type</th>\n",
              "      <th>Premium Amount</th>\n",
              "    </tr>\n",
              "  </thead>\n",
              "  <tbody>\n",
              "    <tr>\n",
              "      <th>761506</th>\n",
              "      <td>761506</td>\n",
              "      <td>57.0</td>\n",
              "      <td>1</td>\n",
              "      <td>30652.0</td>\n",
              "      <td>0.0</td>\n",
              "      <td>3.0</td>\n",
              "      <td>0</td>\n",
              "      <td>NaN</td>\n",
              "      <td>47.442494</td>\n",
              "      <td>1</td>\n",
              "      <td>2</td>\n",
              "      <td>1.0</td>\n",
              "      <td>7.0</td>\n",
              "      <td>759.0</td>\n",
              "      <td>4.0</td>\n",
              "      <td>2022-05-02 15:21:39.274993</td>\n",
              "      <td>1.0</td>\n",
              "      <td>1</td>\n",
              "      <td>1</td>\n",
              "      <td>1</td>\n",
              "      <td>654.0</td>\n",
              "    </tr>\n",
              "    <tr>\n",
              "      <th>92580</th>\n",
              "      <td>92580</td>\n",
              "      <td>41.0</td>\n",
              "      <td>1</td>\n",
              "      <td>2863.0</td>\n",
              "      <td>1.0</td>\n",
              "      <td>0.0</td>\n",
              "      <td>3</td>\n",
              "      <td>NaN</td>\n",
              "      <td>9.638350</td>\n",
              "      <td>1</td>\n",
              "      <td>1</td>\n",
              "      <td>0.0</td>\n",
              "      <td>9.0</td>\n",
              "      <td>512.0</td>\n",
              "      <td>9.0</td>\n",
              "      <td>2022-11-10 15:21:39.134960</td>\n",
              "      <td>0.0</td>\n",
              "      <td>1</td>\n",
              "      <td>1</td>\n",
              "      <td>2</td>\n",
              "      <td>1391.0</td>\n",
              "    </tr>\n",
              "    <tr>\n",
              "      <th>158706</th>\n",
              "      <td>158706</td>\n",
              "      <td>18.0</td>\n",
              "      <td>0</td>\n",
              "      <td>31006.0</td>\n",
              "      <td>0.0</td>\n",
              "      <td>NaN</td>\n",
              "      <td>3</td>\n",
              "      <td>0.0</td>\n",
              "      <td>45.491278</td>\n",
              "      <td>0</td>\n",
              "      <td>0</td>\n",
              "      <td>1.0</td>\n",
              "      <td>1.0</td>\n",
              "      <td>634.0</td>\n",
              "      <td>7.0</td>\n",
              "      <td>2021-02-05 15:21:39.155231</td>\n",
              "      <td>1.0</td>\n",
              "      <td>1</td>\n",
              "      <td>0</td>\n",
              "      <td>1</td>\n",
              "      <td>1708.0</td>\n",
              "    </tr>\n",
              "  </tbody>\n",
              "</table>\n",
              "</div>\n",
              "    <div class=\"colab-df-buttons\">\n",
              "      \n",
              "  <div class=\"colab-df-container\">\n",
              "    <button class=\"colab-df-convert\" onclick=\"convertToInteractive('df-e070ee8c-7101-488a-8f47-739abe5da0d3')\"\n",
              "            title=\"Convert this dataframe to an interactive table.\"\n",
              "            style=\"display:none;\">\n",
              "      \n",
              "  <svg xmlns=\"http://www.w3.org/2000/svg\" height=\"24px\" viewBox=\"0 -960 960 960\">\n",
              "    <path d=\"M120-120v-720h720v720H120Zm60-500h600v-160H180v160Zm220 220h160v-160H400v160Zm0 220h160v-160H400v160ZM180-400h160v-160H180v160Zm440 0h160v-160H620v160ZM180-180h160v-160H180v160Zm440 0h160v-160H620v160Z\"/>\n",
              "  </svg>\n",
              "    </button>\n",
              "    \n",
              "  <style>\n",
              "    .colab-df-container {\n",
              "      display:flex;\n",
              "      gap: 12px;\n",
              "    }\n",
              "\n",
              "    .colab-df-convert {\n",
              "      background-color: #E8F0FE;\n",
              "      border: none;\n",
              "      border-radius: 50%;\n",
              "      cursor: pointer;\n",
              "      display: none;\n",
              "      fill: #1967D2;\n",
              "      height: 32px;\n",
              "      padding: 0 0 0 0;\n",
              "      width: 32px;\n",
              "    }\n",
              "\n",
              "    .colab-df-convert:hover {\n",
              "      background-color: #E2EBFA;\n",
              "      box-shadow: 0px 1px 2px rgba(60, 64, 67, 0.3), 0px 1px 3px 1px rgba(60, 64, 67, 0.15);\n",
              "      fill: #174EA6;\n",
              "    }\n",
              "\n",
              "    .colab-df-buttons div {\n",
              "      margin-bottom: 4px;\n",
              "    }\n",
              "\n",
              "    [theme=dark] .colab-df-convert {\n",
              "      background-color: #3B4455;\n",
              "      fill: #D2E3FC;\n",
              "    }\n",
              "\n",
              "    [theme=dark] .colab-df-convert:hover {\n",
              "      background-color: #434B5C;\n",
              "      box-shadow: 0px 1px 3px 1px rgba(0, 0, 0, 0.15);\n",
              "      filter: drop-shadow(0px 1px 2px rgba(0, 0, 0, 0.3));\n",
              "      fill: #FFFFFF;\n",
              "    }\n",
              "  </style>\n",
              "\n",
              "    <script>\n",
              "      const buttonEl =\n",
              "        document.querySelector('#df-e070ee8c-7101-488a-8f47-739abe5da0d3 button.colab-df-convert');\n",
              "      buttonEl.style.display =\n",
              "        google.colab.kernel.accessAllowed ? 'block' : 'none';\n",
              "\n",
              "      async function convertToInteractive(key) {\n",
              "        const element = document.querySelector('#df-e070ee8c-7101-488a-8f47-739abe5da0d3');\n",
              "        const dataTable =\n",
              "          await google.colab.kernel.invokeFunction('convertToInteractive',\n",
              "                                                    [key], {});\n",
              "        if (!dataTable) return;\n",
              "\n",
              "        const docLinkHtml = 'Like what you see? Visit the ' +\n",
              "          '<a target=\"_blank\" href=https://colab.research.google.com/notebooks/data_table.ipynb>data table notebook</a>'\n",
              "          + ' to learn more about interactive tables.';\n",
              "        element.innerHTML = '';\n",
              "        dataTable['output_type'] = 'display_data';\n",
              "        await google.colab.output.renderOutput(dataTable, element);\n",
              "        const docLink = document.createElement('div');\n",
              "        docLink.innerHTML = docLinkHtml;\n",
              "        element.appendChild(docLink);\n",
              "      }\n",
              "    </script>\n",
              "  </div>\n",
              "  \n",
              "    </div>\n",
              "  </div>\n",
              "  "
            ]
          },
          "metadata": {},
          "execution_count": 33
        }
      ]
    },
    {
      "cell_type": "code",
      "source": [
        "df['Policy Start Date'] = pd.to_datetime(df['Policy Start Date'])"
      ],
      "metadata": {
        "id": "vcX2soLmtNCp"
      },
      "execution_count": 34,
      "outputs": []
    },
    {
      "cell_type": "code",
      "source": [
        "df['Policy Age'] = (pd.Timestamp.now() - df['Policy Start Date']).dt.days # Policy age in days"
      ],
      "metadata": {
        "id": "S5r4pOEGsl-J"
      },
      "execution_count": 35,
      "outputs": []
    },
    {
      "cell_type": "code",
      "source": [
        "df['Policy Start Year'] = df['Policy Start Date'].dt.year\n",
        "df['Policy Start Month'] = df['Policy Start Date'].dt.month\n",
        "df['Policy Start Day'] = df['Policy Start Date'].dt.day"
      ],
      "metadata": {
        "id": "f_lL-ocWtP9B"
      },
      "execution_count": 36,
      "outputs": []
    },
    {
      "cell_type": "code",
      "source": [
        "df['Policy Start DayofWeek'] = df['Policy Start Date'].dt.dayofweek"
      ],
      "metadata": {
        "id": "AZFIXXFJtlGC"
      },
      "execution_count": 37,
      "outputs": []
    },
    {
      "cell_type": "code",
      "source": [
        "df.drop('Policy Start Date', axis=1, inplace=True)"
      ],
      "metadata": {
        "id": "VTMufyJLto0A"
      },
      "execution_count": 38,
      "outputs": []
    },
    {
      "cell_type": "code",
      "source": [
        "df.sample(2)"
      ],
      "metadata": {
        "id": "FhzbUFyStZgp",
        "colab": {
          "base_uri": "https://localhost:8080/",
          "height": 167
        },
        "outputId": "9d0bea02-7c60-4d7f-cfae-8e60761a113d"
      },
      "execution_count": 39,
      "outputs": [
        {
          "output_type": "execute_result",
          "data": {
            "text/plain": [
              "              id   Age  Gender  Annual Income  Marital Status  \\\n",
              "1162240  1162240  50.0       1        99866.0             2.0   \n",
              "332039    332039  51.0       0        12073.0             1.0   \n",
              "\n",
              "         Number of Dependents  Education Level  Occupation  Health Score  \\\n",
              "1162240                   NaN                2         NaN     40.194898   \n",
              "332039                    NaN                3         0.0     27.039801   \n",
              "\n",
              "         Location  Policy Type  Previous Claims  Vehicle Age  Credit Score  \\\n",
              "1162240         2            0              0.0         17.0         334.0   \n",
              "332039          1            0              0.0         18.0         782.0   \n",
              "\n",
              "         Insurance Duration  Customer Feedback  Smoking Status  \\\n",
              "1162240                 7.0                2.0               1   \n",
              "332039                  7.0                0.0               1   \n",
              "\n",
              "         Exercise Frequency  Property Type  Premium Amount  Policy Age  \\\n",
              "1162240                   2              2          1069.0         734   \n",
              "332039                    1              0           464.0        1542   \n",
              "\n",
              "         Policy Start Year  Policy Start Month  Policy Start Day  \\\n",
              "1162240               2022                  11                29   \n",
              "332039                2020                   9                12   \n",
              "\n",
              "         Policy Start DayofWeek  \n",
              "1162240                       1  \n",
              "332039                        5  "
            ],
            "text/html": [
              "\n",
              "  <div id=\"df-a9b8c20c-f6f3-4504-87c1-49be21f80ce1\" class=\"colab-df-container\">\n",
              "    <div>\n",
              "<style scoped>\n",
              "    .dataframe tbody tr th:only-of-type {\n",
              "        vertical-align: middle;\n",
              "    }\n",
              "\n",
              "    .dataframe tbody tr th {\n",
              "        vertical-align: top;\n",
              "    }\n",
              "\n",
              "    .dataframe thead th {\n",
              "        text-align: right;\n",
              "    }\n",
              "</style>\n",
              "<table border=\"1\" class=\"dataframe\">\n",
              "  <thead>\n",
              "    <tr style=\"text-align: right;\">\n",
              "      <th></th>\n",
              "      <th>id</th>\n",
              "      <th>Age</th>\n",
              "      <th>Gender</th>\n",
              "      <th>Annual Income</th>\n",
              "      <th>Marital Status</th>\n",
              "      <th>Number of Dependents</th>\n",
              "      <th>Education Level</th>\n",
              "      <th>Occupation</th>\n",
              "      <th>Health Score</th>\n",
              "      <th>Location</th>\n",
              "      <th>Policy Type</th>\n",
              "      <th>Previous Claims</th>\n",
              "      <th>Vehicle Age</th>\n",
              "      <th>Credit Score</th>\n",
              "      <th>Insurance Duration</th>\n",
              "      <th>Customer Feedback</th>\n",
              "      <th>Smoking Status</th>\n",
              "      <th>Exercise Frequency</th>\n",
              "      <th>Property Type</th>\n",
              "      <th>Premium Amount</th>\n",
              "      <th>Policy Age</th>\n",
              "      <th>Policy Start Year</th>\n",
              "      <th>Policy Start Month</th>\n",
              "      <th>Policy Start Day</th>\n",
              "      <th>Policy Start DayofWeek</th>\n",
              "    </tr>\n",
              "  </thead>\n",
              "  <tbody>\n",
              "    <tr>\n",
              "      <th>1162240</th>\n",
              "      <td>1162240</td>\n",
              "      <td>50.0</td>\n",
              "      <td>1</td>\n",
              "      <td>99866.0</td>\n",
              "      <td>2.0</td>\n",
              "      <td>NaN</td>\n",
              "      <td>2</td>\n",
              "      <td>NaN</td>\n",
              "      <td>40.194898</td>\n",
              "      <td>2</td>\n",
              "      <td>0</td>\n",
              "      <td>0.0</td>\n",
              "      <td>17.0</td>\n",
              "      <td>334.0</td>\n",
              "      <td>7.0</td>\n",
              "      <td>2.0</td>\n",
              "      <td>1</td>\n",
              "      <td>2</td>\n",
              "      <td>2</td>\n",
              "      <td>1069.0</td>\n",
              "      <td>734</td>\n",
              "      <td>2022</td>\n",
              "      <td>11</td>\n",
              "      <td>29</td>\n",
              "      <td>1</td>\n",
              "    </tr>\n",
              "    <tr>\n",
              "      <th>332039</th>\n",
              "      <td>332039</td>\n",
              "      <td>51.0</td>\n",
              "      <td>0</td>\n",
              "      <td>12073.0</td>\n",
              "      <td>1.0</td>\n",
              "      <td>NaN</td>\n",
              "      <td>3</td>\n",
              "      <td>0.0</td>\n",
              "      <td>27.039801</td>\n",
              "      <td>1</td>\n",
              "      <td>0</td>\n",
              "      <td>0.0</td>\n",
              "      <td>18.0</td>\n",
              "      <td>782.0</td>\n",
              "      <td>7.0</td>\n",
              "      <td>0.0</td>\n",
              "      <td>1</td>\n",
              "      <td>1</td>\n",
              "      <td>0</td>\n",
              "      <td>464.0</td>\n",
              "      <td>1542</td>\n",
              "      <td>2020</td>\n",
              "      <td>9</td>\n",
              "      <td>12</td>\n",
              "      <td>5</td>\n",
              "    </tr>\n",
              "  </tbody>\n",
              "</table>\n",
              "</div>\n",
              "    <div class=\"colab-df-buttons\">\n",
              "      \n",
              "  <div class=\"colab-df-container\">\n",
              "    <button class=\"colab-df-convert\" onclick=\"convertToInteractive('df-a9b8c20c-f6f3-4504-87c1-49be21f80ce1')\"\n",
              "            title=\"Convert this dataframe to an interactive table.\"\n",
              "            style=\"display:none;\">\n",
              "      \n",
              "  <svg xmlns=\"http://www.w3.org/2000/svg\" height=\"24px\" viewBox=\"0 -960 960 960\">\n",
              "    <path d=\"M120-120v-720h720v720H120Zm60-500h600v-160H180v160Zm220 220h160v-160H400v160Zm0 220h160v-160H400v160ZM180-400h160v-160H180v160Zm440 0h160v-160H620v160ZM180-180h160v-160H180v160Zm440 0h160v-160H620v160Z\"/>\n",
              "  </svg>\n",
              "    </button>\n",
              "    \n",
              "  <style>\n",
              "    .colab-df-container {\n",
              "      display:flex;\n",
              "      gap: 12px;\n",
              "    }\n",
              "\n",
              "    .colab-df-convert {\n",
              "      background-color: #E8F0FE;\n",
              "      border: none;\n",
              "      border-radius: 50%;\n",
              "      cursor: pointer;\n",
              "      display: none;\n",
              "      fill: #1967D2;\n",
              "      height: 32px;\n",
              "      padding: 0 0 0 0;\n",
              "      width: 32px;\n",
              "    }\n",
              "\n",
              "    .colab-df-convert:hover {\n",
              "      background-color: #E2EBFA;\n",
              "      box-shadow: 0px 1px 2px rgba(60, 64, 67, 0.3), 0px 1px 3px 1px rgba(60, 64, 67, 0.15);\n",
              "      fill: #174EA6;\n",
              "    }\n",
              "\n",
              "    .colab-df-buttons div {\n",
              "      margin-bottom: 4px;\n",
              "    }\n",
              "\n",
              "    [theme=dark] .colab-df-convert {\n",
              "      background-color: #3B4455;\n",
              "      fill: #D2E3FC;\n",
              "    }\n",
              "\n",
              "    [theme=dark] .colab-df-convert:hover {\n",
              "      background-color: #434B5C;\n",
              "      box-shadow: 0px 1px 3px 1px rgba(0, 0, 0, 0.15);\n",
              "      filter: drop-shadow(0px 1px 2px rgba(0, 0, 0, 0.3));\n",
              "      fill: #FFFFFF;\n",
              "    }\n",
              "  </style>\n",
              "\n",
              "    <script>\n",
              "      const buttonEl =\n",
              "        document.querySelector('#df-a9b8c20c-f6f3-4504-87c1-49be21f80ce1 button.colab-df-convert');\n",
              "      buttonEl.style.display =\n",
              "        google.colab.kernel.accessAllowed ? 'block' : 'none';\n",
              "\n",
              "      async function convertToInteractive(key) {\n",
              "        const element = document.querySelector('#df-a9b8c20c-f6f3-4504-87c1-49be21f80ce1');\n",
              "        const dataTable =\n",
              "          await google.colab.kernel.invokeFunction('convertToInteractive',\n",
              "                                                    [key], {});\n",
              "        if (!dataTable) return;\n",
              "\n",
              "        const docLinkHtml = 'Like what you see? Visit the ' +\n",
              "          '<a target=\"_blank\" href=https://colab.research.google.com/notebooks/data_table.ipynb>data table notebook</a>'\n",
              "          + ' to learn more about interactive tables.';\n",
              "        element.innerHTML = '';\n",
              "        dataTable['output_type'] = 'display_data';\n",
              "        await google.colab.output.renderOutput(dataTable, element);\n",
              "        const docLink = document.createElement('div');\n",
              "        docLink.innerHTML = docLinkHtml;\n",
              "        element.appendChild(docLink);\n",
              "      }\n",
              "    </script>\n",
              "  </div>\n",
              "  \n",
              "    </div>\n",
              "  </div>\n",
              "  "
            ]
          },
          "metadata": {},
          "execution_count": 39
        }
      ]
    },
    {
      "cell_type": "code",
      "source": [
        "print(df['Exercise Frequency'].unique())"
      ],
      "metadata": {
        "id": "buGv-xGR34Uf",
        "colab": {
          "base_uri": "https://localhost:8080/"
        },
        "outputId": "08791b51-bedd-4fd2-8d89-83bee23351df"
      },
      "execution_count": 40,
      "outputs": [
        {
          "output_type": "stream",
          "name": "stdout",
          "text": [
            "[0 1 2 3]\n"
          ]
        }
      ]
    },
    {
      "cell_type": "code",
      "source": [
        "correlations = df.corr()['Premium Amount']\n",
        "plt.figure(figsize=(12, 8))\n",
        "sns.heatmap(correlations.to_frame(), annot=True, cmap='coolwarm', center = 0)\n",
        "plt.title('Feature correlation with Premium Amount')\n",
        "plt.show()"
      ],
      "metadata": {
        "colab": {
          "base_uri": "https://localhost:8080/",
          "height": 699
        },
        "id": "phWHPDMnCAKN",
        "outputId": "025c0332-1b49-4e4a-f81a-3508b0cc997a"
      },
      "execution_count": 41,
      "outputs": [
        {
          "output_type": "display_data",
          "data": {
            "text/plain": [
              "<Figure size 1200x800 with 2 Axes>"
            ],
            "image/png": "[encoded data removed]"
          },
          "metadata": {}
        }
      ]
    },
    {
      "cell_type": "code",
      "source": [
        "from sklearn.preprocessing import StandardScaler\n",
        "scaler = StandardScaler()\n",
        "\n",
        "numerical_features = ['Age','Annual Income', 'Health Score', 'Vehicle Age', 'Credit Score', 'Policy Age', 'Number of Dependents', 'Previous Claims', 'Insurance Duration' ]\n",
        "num_df = df[numerical_features]\n",
        "\n",
        "scaled_data = scaler.fit_transform(num_df)\n",
        "df[numerical_features] = scaled_data"
      ],
      "metadata": {
        "id": "EfPpQwVX2XaJ"
      },
      "execution_count": 42,
      "outputs": []
    },
    {
      "cell_type": "code",
      "source": [
        "df.sample(2)"
      ],
      "metadata": {
        "id": "YfRsZ2w64aWu",
        "colab": {
          "base_uri": "https://localhost:8080/",
          "height": 167
        },
        "outputId": "5486a047-e9f1-4cf4-ee56-0155b2f47200"
      },
      "execution_count": 43,
      "outputs": [
        {
          "output_type": "execute_result",
          "data": {
            "text/plain": [
              "            id       Age  Gender  Annual Income  Marital Status  \\\n",
              "911749  911749  1.170938       0      -0.368658             0.0   \n",
              "217853  217853       NaN       0       0.354940             1.0   \n",
              "\n",
              "        Number of Dependents  Education Level  Occupation  Health Score  \\\n",
              "911749             -0.712557                0         2.0     -0.416835   \n",
              "217853              0.698540                1         2.0      0.781674   \n",
              "\n",
              "        Location  Policy Type  Previous Claims  Vehicle Age  Credit Score  \\\n",
              "911749         0            1              NaN    -1.137409     -1.059624   \n",
              "217853         2            2        -0.002736    -1.310534     -1.039621   \n",
              "\n",
              "        Insurance Duration  Customer Feedback  Smoking Status  \\\n",
              "911749            0.763889                2.0               1   \n",
              "217853            0.763889                0.0               1   \n",
              "\n",
              "        Exercise Frequency  Property Type  Premium Amount  Policy Age  \\\n",
              "911749                   0              0          1498.0    0.584100   \n",
              "217853                   3              1          1333.0    0.213971   \n",
              "\n",
              "        Policy Start Year  Policy Start Month  Policy Start Day  \\\n",
              "911749               2021                   4                14   \n",
              "217853               2021                  10                24   \n",
              "\n",
              "        Policy Start DayofWeek  \n",
              "911749                       2  \n",
              "217853                       6  "
            ],
            "text/html": [
              "\n",
              "  <div id=\"df-0cd7e286-2068-46a2-9e29-c43354da2c60\" class=\"colab-df-container\">\n",
              "    <div>\n",
              "<style scoped>\n",
              "    .dataframe tbody tr th:only-of-type {\n",
              "        vertical-align: middle;\n",
              "    }\n",
              "\n",
              "    .dataframe tbody tr th {\n",
              "        vertical-align: top;\n",
              "    }\n",
              "\n",
              "    .dataframe thead th {\n",
              "        text-align: right;\n",
              "    }\n",
              "</style>\n",
              "<table border=\"1\" class=\"dataframe\">\n",
              "  <thead>\n",
              "    <tr style=\"text-align: right;\">\n",
              "      <th></th>\n",
              "      <th>id</th>\n",
              "      <th>Age</th>\n",
              "      <th>Gender</th>\n",
              "      <th>Annual Income</th>\n",
              "      <th>Marital Status</th>\n",
              "      <th>Number of Dependents</th>\n",
              "      <th>Education Level</th>\n",
              "      <th>Occupation</th>\n",
              "      <th>Health Score</th>\n",
              "      <th>Location</th>\n",
              "      <th>Policy Type</th>\n",
              "      <th>Previous Claims</th>\n",
              "      <th>Vehicle Age</th>\n",
              "      <th>Credit Score</th>\n",
              "      <th>Insurance Duration</th>\n",
              "      <th>Customer Feedback</th>\n",
              "      <th>Smoking Status</th>\n",
              "      <th>Exercise Frequency</th>\n",
              "      <th>Property Type</th>\n",
              "      <th>Premium Amount</th>\n",
              "      <th>Policy Age</th>\n",
              "      <th>Policy Start Year</th>\n",
              "      <th>Policy Start Month</th>\n",
              "      <th>Policy Start Day</th>\n",
              "      <th>Policy Start DayofWeek</th>\n",
              "    </tr>\n",
              "  </thead>\n",
              "  <tbody>\n",
              "    <tr>\n",
              "      <th>911749</th>\n",
              "      <td>911749</td>\n",
              "      <td>1.170938</td>\n",
              "      <td>0</td>\n",
              "      <td>-0.368658</td>\n",
              "      <td>0.0</td>\n",
              "      <td>-0.712557</td>\n",
              "      <td>0</td>\n",
              "      <td>2.0</td>\n",
              "      <td>-0.416835</td>\n",
              "      <td>0</td>\n",
              "      <td>1</td>\n",
              "      <td>NaN</td>\n",
              "      <td>-1.137409</td>\n",
              "      <td>-1.059624</td>\n",
              "      <td>0.763889</td>\n",
              "      <td>2.0</td>\n",
              "      <td>1</td>\n",
              "      <td>0</td>\n",
              "      <td>0</td>\n",
              "      <td>1498.0</td>\n",
              "      <td>0.584100</td>\n",
              "      <td>2021</td>\n",
              "      <td>4</td>\n",
              "      <td>14</td>\n",
              "      <td>2</td>\n",
              "    </tr>\n",
              "    <tr>\n",
              "      <th>217853</th>\n",
              "      <td>217853</td>\n",
              "      <td>NaN</td>\n",
              "      <td>0</td>\n",
              "      <td>0.354940</td>\n",
              "      <td>1.0</td>\n",
              "      <td>0.698540</td>\n",
              "      <td>1</td>\n",
              "      <td>2.0</td>\n",
              "      <td>0.781674</td>\n",
              "      <td>2</td>\n",
              "      <td>2</td>\n",
              "      <td>-0.002736</td>\n",
              "      <td>-1.310534</td>\n",
              "      <td>-1.039621</td>\n",
              "      <td>0.763889</td>\n",
              "      <td>0.0</td>\n",
              "      <td>1</td>\n",
              "      <td>3</td>\n",
              "      <td>1</td>\n",
              "      <td>1333.0</td>\n",
              "      <td>0.213971</td>\n",
              "      <td>2021</td>\n",
              "      <td>10</td>\n",
              "      <td>24</td>\n",
              "      <td>6</td>\n",
              "    </tr>\n",
              "  </tbody>\n",
              "</table>\n",
              "</div>\n",
              "    <div class=\"colab-df-buttons\">\n",
              "      \n",
              "  <div class=\"colab-df-container\">\n",
              "    <button class=\"colab-df-convert\" onclick=\"convertToInteractive('df-0cd7e286-2068-46a2-9e29-c43354da2c60')\"\n",
              "            title=\"Convert this dataframe to an interactive table.\"\n",
              "            style=\"display:none;\">\n",
              "      \n",
              "  <svg xmlns=\"http://www.w3.org/2000/svg\" height=\"24px\" viewBox=\"0 -960 960 960\">\n",
              "    <path d=\"M120-120v-720h720v720H120Zm60-500h600v-160H180v160Zm220 220h160v-160H400v160Zm0 220h160v-160H400v160ZM180-400h160v-160H180v160Zm440 0h160v-160H620v160ZM180-180h160v-160H180v160Zm440 0h160v-160H620v160Z\"/>\n",
              "  </svg>\n",
              "    </button>\n",
              "    \n",
              "  <style>\n",
              "    .colab-df-container {\n",
              "      display:flex;\n",
              "      gap: 12px;\n",
              "    }\n",
              "\n",
              "    .colab-df-convert {\n",
              "      background-color: #E8F0FE;\n",
              "      border: none;\n",
              "      border-radius: 50%;\n",
              "      cursor: pointer;\n",
              "      display: none;\n",
              "      fill: #1967D2;\n",
              "      height: 32px;\n",
              "      padding: 0 0 0 0;\n",
              "      width: 32px;\n",
              "    }\n",
              "\n",
              "    .colab-df-convert:hover {\n",
              "      background-color: #E2EBFA;\n",
              "      box-shadow: 0px 1px 2px rgba(60, 64, 67, 0.3), 0px 1px 3px 1px rgba(60, 64, 67, 0.15);\n",
              "      fill: #174EA6;\n",
              "    }\n",
              "\n",
              "    .colab-df-buttons div {\n",
              "      margin-bottom: 4px;\n",
              "    }\n",
              "\n",
              "    [theme=dark] .colab-df-convert {\n",
              "      background-color: #3B4455;\n",
              "      fill: #D2E3FC;\n",
              "    }\n",
              "\n",
              "    [theme=dark] .colab-df-convert:hover {\n",
              "      background-color: #434B5C;\n",
              "      box-shadow: 0px 1px 3px 1px rgba(0, 0, 0, 0.15);\n",
              "      filter: drop-shadow(0px 1px 2px rgba(0, 0, 0, 0.3));\n",
              "      fill: #FFFFFF;\n",
              "    }\n",
              "  </style>\n",
              "\n",
              "    <script>\n",
              "      const buttonEl =\n",
              "        document.querySelector('#df-0cd7e286-2068-46a2-9e29-c43354da2c60 button.colab-df-convert');\n",
              "      buttonEl.style.display =\n",
              "        google.colab.kernel.accessAllowed ? 'block' : 'none';\n",
              "\n",
              "      async function convertToInteractive(key) {\n",
              "        const element = document.querySelector('#df-0cd7e286-2068-46a2-9e29-c43354da2c60');\n",
              "        const dataTable =\n",
              "          await google.colab.kernel.invokeFunction('convertToInteractive',\n",
              "                                                    [key], {});\n",
              "        if (!dataTable) return;\n",
              "\n",
              "        const docLinkHtml = 'Like what you see? Visit the ' +\n",
              "          '<a target=\"_blank\" href=https://colab.research.google.com/notebooks/data_table.ipynb>data table notebook</a>'\n",
              "          + ' to learn more about interactive tables.';\n",
              "        element.innerHTML = '';\n",
              "        dataTable['output_type'] = 'display_data';\n",
              "        await google.colab.output.renderOutput(dataTable, element);\n",
              "        const docLink = document.createElement('div');\n",
              "        docLink.innerHTML = docLinkHtml;\n",
              "        element.appendChild(docLink);\n",
              "      }\n",
              "    </script>\n",
              "  </div>\n",
              "  \n",
              "    </div>\n",
              "  </div>\n",
              "  "
            ]
          },
          "metadata": {},
          "execution_count": 43
        }
      ]
    },
    {
      "cell_type": "code",
      "source": [
        "print(df['Insurance Duration'].unique())"
      ],
      "metadata": {
        "colab": {
          "base_uri": "https://localhost:8080/"
        },
        "id": "guU0uDw4EO2y",
        "outputId": "7d7d4e9d-4dfd-49ad-f65d-903c04bd23a3"
      },
      "execution_count": 44,
      "outputs": [
        {
          "output_type": "stream",
          "name": "stdout",
          "text": [
            "[-0.00702269 -1.1633905  -0.77793456 -1.54884644 -0.39247863  0.37843324\n",
            "  1.14934512  1.53480105  0.76388918         nan]\n"
          ]
        }
      ]
    },
    {
      "cell_type": "code",
      "source": [
        "df.info()"
      ],
      "metadata": {
        "id": "HKoSp3x_5uqM",
        "colab": {
          "base_uri": "https://localhost:8080/"
        },
        "outputId": "3f865c0d-0a40-4b2b-9734-3bd9863baac3"
      },
      "execution_count": 45,
      "outputs": [
        {
          "output_type": "stream",
          "name": "stdout",
          "text": [
            "<class 'pandas.core.frame.DataFrame'>\n",
            "RangeIndex: 1200000 entries, 0 to 1199999\n",
            "Data columns (total 25 columns):\n",
            " #   Column                  Non-Null Count    Dtype  \n",
            "---  ------                  --------------    -----  \n",
            " 0   id                      1200000 non-null  int64  \n",
            " 1   Age                     1181295 non-null  float64\n",
            " 2   Gender                  1200000 non-null  int64  \n",
            " 3   Annual Income           1155051 non-null  float64\n",
            " 4   Marital Status          1181471 non-null  float64\n",
            " 5   Number of Dependents    1090328 non-null  float64\n",
            " 6   Education Level         1200000 non-null  int64  \n",
            " 7   Occupation              841925 non-null   float64\n",
            " 8   Health Score            1125924 non-null  float64\n",
            " 9   Location                1200000 non-null  int64  \n",
            " 10  Policy Type             1200000 non-null  int64  \n",
            " 11  Previous Claims         835971 non-null   float64\n",
            " 12  Vehicle Age             1199994 non-null  float64\n",
            " 13  Credit Score            1062118 non-null  float64\n",
            " 14  Insurance Duration      1199999 non-null  float64\n",
            " 15  Customer Feedback       1122176 non-null  float64\n",
            " 16  Smoking Status          1200000 non-null  int64  \n",
            " 17  Exercise Frequency      1200000 non-null  int64  \n",
            " 18  Property Type           1200000 non-null  int64  \n",
            " 19  Premium Amount          1200000 non-null  float64\n",
            " 20  Policy Age              1200000 non-null  float64\n",
            " 21  Policy Start Year       1200000 non-null  int32  \n",
            " 22  Policy Start Month      1200000 non-null  int32  \n",
            " 23  Policy Start Day        1200000 non-null  int32  \n",
            " 24  Policy Start DayofWeek  1200000 non-null  int32  \n",
            "dtypes: float64(13), int32(4), int64(8)\n",
            "memory usage: 210.6 MB\n"
          ]
        }
      ]
    },
    {
      "cell_type": "code",
      "source": [
        "correlations = df.corr()['Premium Amount']\n",
        "plt.figure(figsize=(12, 8))\n",
        "sns.heatmap(correlations.to_frame(), annot=True, cmap='coolwarm', center = 0)\n",
        "plt.title('Feature correlation with Premium Amount')\n",
        "plt.show()"
      ],
      "metadata": {
        "colab": {
          "base_uri": "https://localhost:8080/",
          "height": 699
        },
        "id": "9EGsEWfCB1WE",
        "outputId": "9617685d-351b-4620-f77a-2f87828b208d"
      },
      "execution_count": 46,
      "outputs": [
        {
          "output_type": "display_data",
          "data": {
            "text/plain": [
              "<Figure size 1200x800 with 2 Axes>"
            ],
            "image/png": "[encoded data removed]"
          },
          "metadata": {}
        }
      ]
    },
    {
      "cell_type": "markdown",
      "source": [
        "## filling in missing values"
      ],
      "metadata": {
        "id": "NYaJkLr8tzEY"
      }
    },
    {
      "cell_type": "code",
      "source": [
        "# from sklearn.impute import KNNImputer\n",
        "\n",
        "# features_with_missing = ['Age', 'Annual Income', 'Marital Status', 'Number of Dependents', 'Occupation', 'Health Score', 'Previous Claims', 'Vehicle Age', 'Credit Score', 'Customer Feedback'] # Add all features with missing values\n",
        "\n",
        "# imputer = KNNImputer(n_neighbors=5)\n",
        "# imputed_data = imputer.fit_transform(df[features_with_missing])\n",
        "# df[features_with_missing] = imputed_data"
      ],
      "metadata": {
        "id": "iNptvaQ_4rCh"
      },
      "execution_count": 47,
      "outputs": []
    },
    {
      "cell_type": "code",
      "source": [
        "# from sklearn.impute import SimpleImputer\n",
        "\n",
        "# num_features = ['Age', 'Annual Income', 'Health Score', 'Vehicle Age', 'Credit Score', 'Number of Dependents', 'Previous Claims', 'Insurance Duration']\n",
        "# cat_features = ['Marital Status', 'Occupation', 'Customer Feedback', ]\n",
        "\n",
        "# num_imputer = SimpleImputer(strategy='mean') # or 'median'\n",
        "# cat_imputer = SimpleImputer(strategy='most_frequent')\n",
        "\n",
        "# df[num_features] = num_imputer.fit_transform(df[num_features])\n",
        "# df[cat_features] = cat_imputer.fit_transform(df[cat_features])"
      ],
      "metadata": {
        "id": "poW5IPnv_EWv"
      },
      "execution_count": 48,
      "outputs": []
    },
    {
      "cell_type": "code",
      "source": [
        "df.isnull().sum()"
      ],
      "metadata": {
        "id": "dXafrdfs430V",
        "colab": {
          "base_uri": "https://localhost:8080/",
          "height": 868
        },
        "outputId": "079b46b2-850f-4ea5-e07c-2d3df2108a36"
      },
      "execution_count": 49,
      "outputs": [
        {
          "output_type": "execute_result",
          "data": {
            "text/plain": [
              "id                             0\n",
              "Age                        18705\n",
              "Gender                         0\n",
              "Annual Income              44949\n",
              "Marital Status             18529\n",
              "Number of Dependents      109672\n",
              "Education Level                0\n",
              "Occupation                358075\n",
              "Health Score               74076\n",
              "Location                       0\n",
              "Policy Type                    0\n",
              "Previous Claims           364029\n",
              "Vehicle Age                    6\n",
              "Credit Score              137882\n",
              "Insurance Duration             1\n",
              "Customer Feedback          77824\n",
              "Smoking Status                 0\n",
              "Exercise Frequency             0\n",
              "Property Type                  0\n",
              "Premium Amount                 0\n",
              "Policy Age                     0\n",
              "Policy Start Year              0\n",
              "Policy Start Month             0\n",
              "Policy Start Day               0\n",
              "Policy Start DayofWeek         0\n",
              "dtype: int64"
            ],
            "text/html": [
              "<div>\n",
              "<style scoped>\n",
              "    .dataframe tbody tr th:only-of-type {\n",
              "        vertical-align: middle;\n",
              "    }\n",
              "\n",
              "    .dataframe tbody tr th {\n",
              "        vertical-align: top;\n",
              "    }\n",
              "\n",
              "    .dataframe thead th {\n",
              "        text-align: right;\n",
              "    }\n",
              "</style>\n",
              "<table border=\"1\" class=\"dataframe\">\n",
              "  <thead>\n",
              "    <tr style=\"text-align: right;\">\n",
              "      <th></th>\n",
              "      <th>0</th>\n",
              "    </tr>\n",
              "  </thead>\n",
              "  <tbody>\n",
              "    <tr>\n",
              "      <th>id</th>\n",
              "      <td>0</td>\n",
              "    </tr>\n",
              "    <tr>\n",
              "      <th>Age</th>\n",
              "      <td>18705</td>\n",
              "    </tr>\n",
              "    <tr>\n",
              "      <th>Gender</th>\n",
              "      <td>0</td>\n",
              "    </tr>\n",
              "    <tr>\n",
              "      <th>Annual Income</th>\n",
              "      <td>44949</td>\n",
              "    </tr>\n",
              "    <tr>\n",
              "      <th>Marital Status</th>\n",
              "      <td>18529</td>\n",
              "    </tr>\n",
              "    <tr>\n",
              "      <th>Number of Dependents</th>\n",
              "      <td>109672</td>\n",
              "    </tr>\n",
              "    <tr>\n",
              "      <th>Education Level</th>\n",
              "      <td>0</td>\n",
              "    </tr>\n",
              "    <tr>\n",
              "      <th>Occupation</th>\n",
              "      <td>358075</td>\n",
              "    </tr>\n",
              "    <tr>\n",
              "      <th>Health Score</th>\n",
              "      <td>74076</td>\n",
              "    </tr>\n",
              "    <tr>\n",
              "      <th>Location</th>\n",
              "      <td>0</td>\n",
              "    </tr>\n",
              "    <tr>\n",
              "      <th>Policy Type</th>\n",
              "      <td>0</td>\n",
              "    </tr>\n",
              "    <tr>\n",
              "      <th>Previous Claims</th>\n",
              "      <td>364029</td>\n",
              "    </tr>\n",
              "    <tr>\n",
              "      <th>Vehicle Age</th>\n",
              "      <td>6</td>\n",
              "    </tr>\n",
              "    <tr>\n",
              "      <th>Credit Score</th>\n",
              "      <td>137882</td>\n",
              "    </tr>\n",
              "    <tr>\n",
              "      <th>Insurance Duration</th>\n",
              "      <td>1</td>\n",
              "    </tr>\n",
              "    <tr>\n",
              "      <th>Customer Feedback</th>\n",
              "      <td>77824</td>\n",
              "    </tr>\n",
              "    <tr>\n",
              "      <th>Smoking Status</th>\n",
              "      <td>0</td>\n",
              "    </tr>\n",
              "    <tr>\n",
              "      <th>Exercise Frequency</th>\n",
              "      <td>0</td>\n",
              "    </tr>\n",
              "    <tr>\n",
              "      <th>Property Type</th>\n",
              "      <td>0</td>\n",
              "    </tr>\n",
              "    <tr>\n",
              "      <th>Premium Amount</th>\n",
              "      <td>0</td>\n",
              "    </tr>\n",
              "    <tr>\n",
              "      <th>Policy Age</th>\n",
              "      <td>0</td>\n",
              "    </tr>\n",
              "    <tr>\n",
              "      <th>Policy Start Year</th>\n",
              "      <td>0</td>\n",
              "    </tr>\n",
              "    <tr>\n",
              "      <th>Policy Start Month</th>\n",
              "      <td>0</td>\n",
              "    </tr>\n",
              "    <tr>\n",
              "      <th>Policy Start Day</th>\n",
              "      <td>0</td>\n",
              "    </tr>\n",
              "    <tr>\n",
              "      <th>Policy Start DayofWeek</th>\n",
              "      <td>0</td>\n",
              "    </tr>\n",
              "  </tbody>\n",
              "</table>\n",
              "</div><br><label><b>dtype:</b> int64</label>"
            ]
          },
          "metadata": {},
          "execution_count": 49
        }
      ]
    },
    {
      "cell_type": "code",
      "source": [
        "correlations = df.corr()['Premium Amount']\n",
        "plt.figure(figsize=(12, 8))\n",
        "sns.heatmap(correlations.to_frame(), annot=True, cmap='coolwarm', center = 0)\n",
        "plt.title('Feature correlation with Premium Amount')\n",
        "plt.show()"
      ],
      "metadata": {
        "colab": {
          "base_uri": "https://localhost:8080/",
          "height": 699
        },
        "id": "XAaS5S_199w4",
        "outputId": "eea42fc2-d460-45a8-f90a-81dba7f77ef7"
      },
      "execution_count": 50,
      "outputs": [
        {
          "output_type": "display_data",
          "data": {
            "text/plain": [
              "<Figure size 1200x800 with 2 Axes>"
            ],
            "image/png": "[encoded data removed]"
          },
          "metadata": {}
        }
      ]
    },
    {
      "cell_type": "code",
      "source": [],
      "metadata": {
        "id": "6w4omZgjNwdB"
      },
      "execution_count": 50,
      "outputs": []
    },
    {
      "cell_type": "code",
      "source": [
        "X = df.drop('Premium Amount', axis=1)\n",
        "y = df['Premium Amount']\n",
        "\n",
        "X_train, X_test, y_train, y_test = train_test_split(X, y, test_size=0.2, random_state=42)"
      ],
      "metadata": {
        "id": "rJG8lmQGAE8-"
      },
      "execution_count": 51,
      "outputs": []
    },
    {
      "cell_type": "markdown",
      "source": [
        "## 3. Create a Pipeline"
      ],
      "metadata": {
        "id": "u-z7RFsxWLHM"
      }
    },
    {
      "cell_type": "code",
      "source": [
        "import xgboost as xgb\n",
        "from sklearn.model_selection import train_test_split\n",
        "from sklearn.metrics import mean_squared_error"
      ],
      "metadata": {
        "id": "A57hIb3OFdEQ"
      },
      "execution_count": 52,
      "outputs": []
    },
    {
      "cell_type": "code",
      "source": [
        "xgb_reg = xgb.XGBRegressor(\n",
        "    objective='reg:squarederror',  # For regression tasks\n",
        "    n_estimators=100,             # Number of boosting trees\n",
        "    learning_rate=0.1,            # Step size shrinkage to prevent overfitting\n",
        "    max_depth=3,                  # Maximum depth of each tree\n",
        "    # ... (other hyperparameters you want to tune) ...\n",
        ")"
      ],
      "metadata": {
        "id": "veCQAQaqFm_J"
      },
      "execution_count": 53,
      "outputs": []
    },
    {
      "cell_type": "markdown",
      "source": [
        "## 4. Train the Model"
      ],
      "metadata": {
        "id": "8n-ScOLqze60"
      }
    },
    {
      "cell_type": "code",
      "source": [
        "xgb_reg.fit(X_train, y_train)"
      ],
      "metadata": {
        "colab": {
          "base_uri": "https://localhost:8080/",
          "height": 254
        },
        "id": "Z5btTjLHFpOY",
        "outputId": "b440d581-183c-4b6b-b4f3-85ee1a3b5ef4"
      },
      "execution_count": 54,
      "outputs": [
        {
          "output_type": "execute_result",
          "data": {
            "text/plain": [
              "XGBRegressor(base_score=None, booster=None, callbacks=None,\n",
              "             colsample_bylevel=None, colsample_bynode=None,\n",
              "             colsample_bytree=None, device=None, early_stopping_rounds=None,\n",
              "             enable_categorical=False, eval_metric=None, feature_types=None,\n",
              "             gamma=None, grow_policy=None, importance_type=None,\n",
              "             interaction_constraints=None, learning_rate=0.1, max_bin=None,\n",
              "             max_cat_threshold=None, max_cat_to_onehot=None,\n",
              "             max_delta_step=None, max_depth=3, max_leaves=None,\n",
              "             min_child_weight=None, missing=nan, monotone_constraints=None,\n",
              "             multi_strategy=None, n_estimators=100, n_jobs=None,\n",
              "             num_parallel_tree=None, random_state=None, ...)"
            ],
            "text/html": [
              "<style>#sk-container-id-1 {\n",
              "  /* Definition of color scheme common for light and dark mode */\n",
              "  --sklearn-color-text: black;\n",
              "  --sklearn-color-line: gray;\n",
              "  /* Definition of color scheme for unfitted estimators */\n",
              "  --sklearn-color-unfitted-level-0: #fff5e6;\n",
              "  --sklearn-color-unfitted-level-1: #f6e4d2;\n",
              "  --sklearn-color-unfitted-level-2: #ffe0b3;\n",
              "  --sklearn-color-unfitted-level-3: chocolate;\n",
              "  /* Definition of color scheme for fitted estimators */\n",
              "  --sklearn-color-fitted-level-0: #f0f8ff;\n",
              "  --sklearn-color-fitted-level-1: #d4ebff;\n",
              "  --sklearn-color-fitted-level-2: #b3dbfd;\n",
              "  --sklearn-color-fitted-level-3: cornflowerblue;\n",
              "\n",
              "  /* Specific color for light theme */\n",
              "  --sklearn-color-text-on-default-background: var(--sg-text-color, var(--theme-code-foreground, var(--jp-content-font-color1, black)));\n",
              "  --sklearn-color-background: var(--sg-background-color, var(--theme-background, var(--jp-layout-color0, white)));\n",
              "  --sklearn-color-border-box: var(--sg-text-color, var(--theme-code-foreground, var(--jp-content-font-color1, black)));\n",
              "  --sklearn-color-icon: #696969;\n",
              "\n",
              "  @media (prefers-color-scheme: dark) {\n",
              "    /* Redefinition of color scheme for dark theme */\n",
              "    --sklearn-color-text-on-default-background: var(--sg-text-color, var(--theme-code-foreground, var(--jp-content-font-color1, white)));\n",
              "    --sklearn-color-background: var(--sg-background-color, var(--theme-background, var(--jp-layout-color0, #111)));\n",
              "    --sklearn-color-border-box: var(--sg-text-color, var(--theme-code-foreground, var(--jp-content-font-color1, white)));\n",
              "    --sklearn-color-icon: #878787;\n",
              "  }\n",
              "}\n",
              "\n",
              "#sk-container-id-1 {\n",
              "  color: var(--sklearn-color-text);\n",
              "}\n",
              "\n",
              "#sk-container-id-1 pre {\n",
              "  padding: 0;\n",
              "}\n",
              "\n",
              "#sk-container-id-1 input.sk-hidden--visually {\n",
              "  border: 0;\n",
              "  clip: rect(1px 1px 1px 1px);\n",
              "  clip: rect(1px, 1px, 1px, 1px);\n",
              "  height: 1px;\n",
              "  margin: -1px;\n",
              "  overflow: hidden;\n",
              "  padding: 0;\n",
              "  position: absolute;\n",
              "  width: 1px;\n",
              "}\n",
              "\n",
              "#sk-container-id-1 div.sk-dashed-wrapped {\n",
              "  border: 1px dashed var(--sklearn-color-line);\n",
              "  margin: 0 0.4em 0.5em 0.4em;\n",
              "  box-sizing: border-box;\n",
              "  padding-bottom: 0.4em;\n",
              "  background-color: var(--sklearn-color-background);\n",
              "}\n",
              "\n",
              "#sk-container-id-1 div.sk-container {\n",
              "  /* jupyter's `normalize.less` sets `[hidden] { display: none; }`\n",
              "     but bootstrap.min.css set `[hidden] { display: none !important; }`\n",
              "     so we also need the `!important` here to be able to override the\n",
              "     default hidden behavior on the sphinx rendered scikit-learn.org.\n",
              "     See: https://github.com/scikit-learn/scikit-learn/issues/21755 */\n",
              "  display: inline-block !important;\n",
              "  position: relative;\n",
              "}\n",
              "\n",
              "#sk-container-id-1 div.sk-text-repr-fallback {\n",
              "  display: none;\n",
              "}\n",
              "\n",
              "div.sk-parallel-item,\n",
              "div.sk-serial,\n",
              "div.sk-item {\n",
              "  /* draw centered vertical line to link estimators */\n",
              "  background-image: linear-gradient(var(--sklearn-color-text-on-default-background), var(--sklearn-color-text-on-default-background));\n",
              "  background-size: 2px 100%;\n",
              "  background-repeat: no-repeat;\n",
              "  background-position: center center;\n",
              "}\n",
              "\n",
              "/* Parallel-specific style estimator block */\n",
              "\n",
              "#sk-container-id-1 div.sk-parallel-item::after {\n",
              "  content: \"\";\n",
              "  width: 100%;\n",
              "  border-bottom: 2px solid var(--sklearn-color-text-on-default-background);\n",
              "  flex-grow: 1;\n",
              "}\n",
              "\n",
              "#sk-container-id-1 div.sk-parallel {\n",
              "  display: flex;\n",
              "  align-items: stretch;\n",
              "  justify-content: center;\n",
              "  background-color: var(--sklearn-color-background);\n",
              "  position: relative;\n",
              "}\n",
              "\n",
              "#sk-container-id-1 div.sk-parallel-item {\n",
              "  display: flex;\n",
              "  flex-direction: column;\n",
              "}\n",
              "\n",
              "#sk-container-id-1 div.sk-parallel-item:first-child::after {\n",
              "  align-self: flex-end;\n",
              "  width: 50%;\n",
              "}\n",
              "\n",
              "#sk-container-id-1 div.sk-parallel-item:last-child::after {\n",
              "  align-self: flex-start;\n",
              "  width: 50%;\n",
              "}\n",
              "\n",
              "#sk-container-id-1 div.sk-parallel-item:only-child::after {\n",
              "  width: 0;\n",
              "}\n",
              "\n",
              "/* Serial-specific style estimator block */\n",
              "\n",
              "#sk-container-id-1 div.sk-serial {\n",
              "  display: flex;\n",
              "  flex-direction: column;\n",
              "  align-items: center;\n",
              "  background-color: var(--sklearn-color-background);\n",
              "  padding-right: 1em;\n",
              "  padding-left: 1em;\n",
              "}\n",
              "\n",
              "\n",
              "/* Toggleable style: style used for estimator/Pipeline/ColumnTransformer box that is\n",
              "clickable and can be expanded/collapsed.\n",
              "- Pipeline and ColumnTransformer use this feature and define the default style\n",
              "- Estimators will overwrite some part of the style using the `sk-estimator` class\n",
              "*/\n",
              "\n",
              "/* Pipeline and ColumnTransformer style (default) */\n",
              "\n",
              "#sk-container-id-1 div.sk-toggleable {\n",
              "  /* Default theme specific background. It is overwritten whether we have a\n",
              "  specific estimator or a Pipeline/ColumnTransformer */\n",
              "  background-color: var(--sklearn-color-background);\n",
              "}\n",
              "\n",
              "/* Toggleable label */\n",
              "#sk-container-id-1 label.sk-toggleable__label {\n",
              "  cursor: pointer;\n",
              "  display: block;\n",
              "  width: 100%;\n",
              "  margin-bottom: 0;\n",
              "  padding: 0.5em;\n",
              "  box-sizing: border-box;\n",
              "  text-align: center;\n",
              "}\n",
              "\n",
              "#sk-container-id-1 label.sk-toggleable__label-arrow:before {\n",
              "  /* Arrow on the left of the label */\n",
              "  content: \"▸\";\n",
              "  float: left;\n",
              "  margin-right: 0.25em;\n",
              "  color: var(--sklearn-color-icon);\n",
              "}\n",
              "\n",
              "#sk-container-id-1 label.sk-toggleable__label-arrow:hover:before {\n",
              "  color: var(--sklearn-color-text);\n",
              "}\n",
              "\n",
              "/* Toggleable content - dropdown */\n",
              "\n",
              "#sk-container-id-1 div.sk-toggleable__content {\n",
              "  max-height: 0;\n",
              "  max-width: 0;\n",
              "  overflow: hidden;\n",
              "  text-align: left;\n",
              "  /* unfitted */\n",
              "  background-color: var(--sklearn-color-unfitted-level-0);\n",
              "}\n",
              "\n",
              "#sk-container-id-1 div.sk-toggleable__content.fitted {\n",
              "  /* fitted */\n",
              "  background-color: var(--sklearn-color-fitted-level-0);\n",
              "}\n",
              "\n",
              "#sk-container-id-1 div.sk-toggleable__content pre {\n",
              "  margin: 0.2em;\n",
              "  border-radius: 0.25em;\n",
              "  color: var(--sklearn-color-text);\n",
              "  /* unfitted */\n",
              "  background-color: var(--sklearn-color-unfitted-level-0);\n",
              "}\n",
              "\n",
              "#sk-container-id-1 div.sk-toggleable__content.fitted pre {\n",
              "  /* unfitted */\n",
              "  background-color: var(--sklearn-color-fitted-level-0);\n",
              "}\n",
              "\n",
              "#sk-container-id-1 input.sk-toggleable__control:checked~div.sk-toggleable__content {\n",
              "  /* Expand drop-down */\n",
              "  max-height: 200px;\n",
              "  max-width: 100%;\n",
              "  overflow: auto;\n",
              "}\n",
              "\n",
              "#sk-container-id-1 input.sk-toggleable__control:checked~label.sk-toggleable__label-arrow:before {\n",
              "  content: \"▾\";\n",
              "}\n",
              "\n",
              "/* Pipeline/ColumnTransformer-specific style */\n",
              "\n",
              "#sk-container-id-1 div.sk-label input.sk-toggleable__control:checked~label.sk-toggleable__label {\n",
              "  color: var(--sklearn-color-text);\n",
              "  background-color: var(--sklearn-color-unfitted-level-2);\n",
              "}\n",
              "\n",
              "#sk-container-id-1 div.sk-label.fitted input.sk-toggleable__control:checked~label.sk-toggleable__label {\n",
              "  background-color: var(--sklearn-color-fitted-level-2);\n",
              "}\n",
              "\n",
              "/* Estimator-specific style */\n",
              "\n",
              "/* Colorize estimator box */\n",
              "#sk-container-id-1 div.sk-estimator input.sk-toggleable__control:checked~label.sk-toggleable__label {\n",
              "  /* unfitted */\n",
              "  background-color: var(--sklearn-color-unfitted-level-2);\n",
              "}\n",
              "\n",
              "#sk-container-id-1 div.sk-estimator.fitted input.sk-toggleable__control:checked~label.sk-toggleable__label {\n",
              "  /* fitted */\n",
              "  background-color: var(--sklearn-color-fitted-level-2);\n",
              "}\n",
              "\n",
              "#sk-container-id-1 div.sk-label label.sk-toggleable__label,\n",
              "#sk-container-id-1 div.sk-label label {\n",
              "  /* The background is the default theme color */\n",
              "  color: var(--sklearn-color-text-on-default-background);\n",
              "}\n",
              "\n",
              "/* On hover, darken the color of the background */\n",
              "#sk-container-id-1 div.sk-label:hover label.sk-toggleable__label {\n",
              "  color: var(--sklearn-color-text);\n",
              "  background-color: var(--sklearn-color-unfitted-level-2);\n",
              "}\n",
              "\n",
              "/* Label box, darken color on hover, fitted */\n",
              "#sk-container-id-1 div.sk-label.fitted:hover label.sk-toggleable__label.fitted {\n",
              "  color: var(--sklearn-color-text);\n",
              "  background-color: var(--sklearn-color-fitted-level-2);\n",
              "}\n",
              "\n",
              "/* Estimator label */\n",
              "\n",
              "#sk-container-id-1 div.sk-label label {\n",
              "  font-family: monospace;\n",
              "  font-weight: bold;\n",
              "  display: inline-block;\n",
              "  line-height: 1.2em;\n",
              "}\n",
              "\n",
              "#sk-container-id-1 div.sk-label-container {\n",
              "  text-align: center;\n",
              "}\n",
              "\n",
              "/* Estimator-specific */\n",
              "#sk-container-id-1 div.sk-estimator {\n",
              "  font-family: monospace;\n",
              "  border: 1px dotted var(--sklearn-color-border-box);\n",
              "  border-radius: 0.25em;\n",
              "  box-sizing: border-box;\n",
              "  margin-bottom: 0.5em;\n",
              "  /* unfitted */\n",
              "  background-color: var(--sklearn-color-unfitted-level-0);\n",
              "}\n",
              "\n",
              "#sk-container-id-1 div.sk-estimator.fitted {\n",
              "  /* fitted */\n",
              "  background-color: var(--sklearn-color-fitted-level-0);\n",
              "}\n",
              "\n",
              "/* on hover */\n",
              "#sk-container-id-1 div.sk-estimator:hover {\n",
              "  /* unfitted */\n",
              "  background-color: var(--sklearn-color-unfitted-level-2);\n",
              "}\n",
              "\n",
              "#sk-container-id-1 div.sk-estimator.fitted:hover {\n",
              "  /* fitted */\n",
              "  background-color: var(--sklearn-color-fitted-level-2);\n",
              "}\n",
              "\n",
              "/* Specification for estimator info (e.g. \"i\" and \"?\") */\n",
              "\n",
              "/* Common style for \"i\" and \"?\" */\n",
              "\n",
              ".sk-estimator-doc-link,\n",
              "a:link.sk-estimator-doc-link,\n",
              "a:visited.sk-estimator-doc-link {\n",
              "  float: right;\n",
              "  font-size: smaller;\n",
              "  line-height: 1em;\n",
              "  font-family: monospace;\n",
              "  background-color: var(--sklearn-color-background);\n",
              "  border-radius: 1em;\n",
              "  height: 1em;\n",
              "  width: 1em;\n",
              "  text-decoration: none !important;\n",
              "  margin-left: 1ex;\n",
              "  /* unfitted */\n",
              "  border: var(--sklearn-color-unfitted-level-1) 1pt solid;\n",
              "  color: var(--sklearn-color-unfitted-level-1);\n",
              "}\n",
              "\n",
              ".sk-estimator-doc-link.fitted,\n",
              "a:link.sk-estimator-doc-link.fitted,\n",
              "a:visited.sk-estimator-doc-link.fitted {\n",
              "  /* fitted */\n",
              "  border: var(--sklearn-color-fitted-level-1) 1pt solid;\n",
              "  color: var(--sklearn-color-fitted-level-1);\n",
              "}\n",
              "\n",
              "/* On hover */\n",
              "div.sk-estimator:hover .sk-estimator-doc-link:hover,\n",
              ".sk-estimator-doc-link:hover,\n",
              "div.sk-label-container:hover .sk-estimator-doc-link:hover,\n",
              ".sk-estimator-doc-link:hover {\n",
              "  /* unfitted */\n",
              "  background-color: var(--sklearn-color-unfitted-level-3);\n",
              "  color: var(--sklearn-color-background);\n",
              "  text-decoration: none;\n",
              "}\n",
              "\n",
              "div.sk-estimator.fitted:hover .sk-estimator-doc-link.fitted:hover,\n",
              ".sk-estimator-doc-link.fitted:hover,\n",
              "div.sk-label-container:hover .sk-estimator-doc-link.fitted:hover,\n",
              ".sk-estimator-doc-link.fitted:hover {\n",
              "  /* fitted */\n",
              "  background-color: var(--sklearn-color-fitted-level-3);\n",
              "  color: var(--sklearn-color-background);\n",
              "  text-decoration: none;\n",
              "}\n",
              "\n",
              "/* Span, style for the box shown on hovering the info icon */\n",
              ".sk-estimator-doc-link span {\n",
              "  display: none;\n",
              "  z-index: 9999;\n",
              "  position: relative;\n",
              "  font-weight: normal;\n",
              "  right: .2ex;\n",
              "  padding: .5ex;\n",
              "  margin: .5ex;\n",
              "  width: min-content;\n",
              "  min-width: 20ex;\n",
              "  max-width: 50ex;\n",
              "  color: var(--sklearn-color-text);\n",
              "  box-shadow: 2pt 2pt 4pt #999;\n",
              "  /* unfitted */\n",
              "  background: var(--sklearn-color-unfitted-level-0);\n",
              "  border: .5pt solid var(--sklearn-color-unfitted-level-3);\n",
              "}\n",
              "\n",
              ".sk-estimator-doc-link.fitted span {\n",
              "  /* fitted */\n",
              "  background: var(--sklearn-color-fitted-level-0);\n",
              "  border: var(--sklearn-color-fitted-level-3);\n",
              "}\n",
              "\n",
              ".sk-estimator-doc-link:hover span {\n",
              "  display: block;\n",
              "}\n",
              "\n",
              "/* \"?\"-specific style due to the `<a>` HTML tag */\n",
              "\n",
              "#sk-container-id-1 a.estimator_doc_link {\n",
              "  float: right;\n",
              "  font-size: 1rem;\n",
              "  line-height: 1em;\n",
              "  font-family: monospace;\n",
              "  background-color: var(--sklearn-color-background);\n",
              "  border-radius: 1rem;\n",
              "  height: 1rem;\n",
              "  width: 1rem;\n",
              "  text-decoration: none;\n",
              "  /* unfitted */\n",
              "  color: var(--sklearn-color-unfitted-level-1);\n",
              "  border: var(--sklearn-color-unfitted-level-1) 1pt solid;\n",
              "}\n",
              "\n",
              "#sk-container-id-1 a.estimator_doc_link.fitted {\n",
              "  /* fitted */\n",
              "  border: var(--sklearn-color-fitted-level-1) 1pt solid;\n",
              "  color: var(--sklearn-color-fitted-level-1);\n",
              "}\n",
              "\n",
              "/* On hover */\n",
              "#sk-container-id-1 a.estimator_doc_link:hover {\n",
              "  /* unfitted */\n",
              "  background-color: var(--sklearn-color-unfitted-level-3);\n",
              "  color: var(--sklearn-color-background);\n",
              "  text-decoration: none;\n",
              "}\n",
              "\n",
              "#sk-container-id-1 a.estimator_doc_link.fitted:hover {\n",
              "  /* fitted */\n",
              "  background-color: var(--sklearn-color-fitted-level-3);\n",
              "}\n",
              "</style><div id=\"sk-container-id-1\" class=\"sk-top-container\"><div class=\"sk-text-repr-fallback\"><pre>XGBRegressor(base_score=None, booster=None, callbacks=None,\n",
              "             colsample_bylevel=None, colsample_bynode=None,\n",
              "             colsample_bytree=None, device=None, early_stopping_rounds=None,\n",
              "             enable_categorical=False, eval_metric=None, feature_types=None,\n",
              "             gamma=None, grow_policy=None, importance_type=None,\n",
              "             interaction_constraints=None, learning_rate=0.1, max_bin=None,\n",
              "             max_cat_threshold=None, max_cat_to_onehot=None,\n",
              "             max_delta_step=None, max_depth=3, max_leaves=None,\n",
              "             min_child_weight=None, missing=nan, monotone_constraints=None,\n",
              "             multi_strategy=None, n_estimators=100, n_jobs=None,\n",
              "             num_parallel_tree=None, random_state=None, ...)</pre><b>In a Jupyter environment, please rerun this cell to show the HTML representation or trust the notebook. <br />On GitHub, the HTML representation is unable to render, please try loading this page with nbviewer.org.</b></div><div class=\"sk-container\" hidden><div class=\"sk-item\"><div class=\"sk-estimator fitted sk-toggleable\"><input class=\"sk-toggleable__control sk-hidden--visually\" id=\"sk-estimator-id-1\" type=\"checkbox\" checked><label for=\"sk-estimator-id-1\" class=\"sk-toggleable__label fitted sk-toggleable__label-arrow fitted\">&nbsp;XGBRegressor<span class=\"sk-estimator-doc-link fitted\">i<span>Fitted</span></span></label><div class=\"sk-toggleable__content fitted\"><pre>XGBRegressor(base_score=None, booster=None, callbacks=None,\n",
              "             colsample_bylevel=None, colsample_bynode=None,\n",
              "             colsample_bytree=None, device=None, early_stopping_rounds=None,\n",
              "             enable_categorical=False, eval_metric=None, feature_types=None,\n",
              "             gamma=None, grow_policy=None, importance_type=None,\n",
              "             interaction_constraints=None, learning_rate=0.1, max_bin=None,\n",
              "             max_cat_threshold=None, max_cat_to_onehot=None,\n",
              "             max_delta_step=None, max_depth=3, max_leaves=None,\n",
              "             min_child_weight=None, missing=nan, monotone_constraints=None,\n",
              "             multi_strategy=None, n_estimators=100, n_jobs=None,\n",
              "             num_parallel_tree=None, random_state=None, ...)</pre></div> </div></div></div></div>"
            ]
          },
          "metadata": {},
          "execution_count": 54
        }
      ]
    },
    {
      "cell_type": "code",
      "source": [
        "y_pred = xgb_reg.predict(X_test)"
      ],
      "metadata": {
        "id": "UfRsn-itFuDI"
      },
      "execution_count": 55,
      "outputs": []
    },
    {
      "cell_type": "code",
      "source": [
        "mse = mean_squared_error(y_test, y_pred)\n",
        "print(\"Mean Squared Error:\", mse)"
      ],
      "metadata": {
        "colab": {
          "base_uri": "https://localhost:8080/"
        },
        "id": "ujMCxGlPFvcI",
        "outputId": "703d1903-7a41-4c11-ad93-b2c1d99278a4"
      },
      "execution_count": 56,
      "outputs": [
        {
          "output_type": "stream",
          "name": "stdout",
          "text": [
            "Mean Squared Error: 719597.5632351367\n"
          ]
        }
      ]
    },
    {
      "cell_type": "code",
      "source": [
        "import numpy as np\n",
        "\n",
        "def rmsle(y_true, y_pred):\n",
        "\n",
        "    y_true = np.array(y_true)\n",
        "    y_pred = np.array(y_pred)\n",
        "\n",
        "    # Ensure that predicted values are greater than or equal to 0\n",
        "    y_pred = np.maximum(y_pred, 0)\n",
        "\n",
        "    # Apply log transformation\n",
        "    log_true = np.log1p(y_true) # Taking log(1+y) for cases where y_true might be 0\n",
        "    log_pred = np.log1p(y_pred) # Taking log(1+y) for cases where y_pred might be 0\n",
        "\n",
        "    # Calculate squared differences\n",
        "    squared_errors = (log_true - log_pred)**2\n",
        "\n",
        "    # Calculate RMSLE\n",
        "    rmsle = np.sqrt(np.mean(squared_errors))\n",
        "\n",
        "    return rmsle"
      ],
      "metadata": {
        "id": "U3x52dBpGMkQ"
      },
      "execution_count": 57,
      "outputs": []
    },
    {
      "cell_type": "code",
      "source": [
        "# ... (your model training and prediction code) ...\n",
        "\n",
        "# Calculate RMSLE\n",
        "rmsle_score = rmsle(y_test, y_pred)  # Using your test data and predictions\n",
        "\n",
        "print(\"RMSLE:\", rmsle_score)"
      ],
      "metadata": {
        "colab": {
          "base_uri": "https://localhost:8080/"
        },
        "id": "D6y2T-SPGqh4",
        "outputId": "bb1676ed-bcba-4c3d-9261-0fc1cc299507"
      },
      "execution_count": 58,
      "outputs": [
        {
          "output_type": "stream",
          "name": "stdout",
          "text": [
            "RMSLE: 1.1509923186462923\n"
          ]
        }
      ]
    },
    {
      "cell_type": "markdown",
      "source": [
        "##data test processing"
      ],
      "metadata": {
        "id": "DZu4nGmoIgoN"
      }
    },
    {
      "cell_type": "code",
      "source": [
        "dt.info()"
      ],
      "metadata": {
        "colab": {
          "base_uri": "https://localhost:8080/"
        },
        "id": "TO8OWbmCIcoG",
        "outputId": "88ffd19a-d8ef-45a2-8e6f-bb4ae7ca6c78"
      },
      "execution_count": 59,
      "outputs": [
        {
          "output_type": "stream",
          "name": "stdout",
          "text": [
            "<class 'pandas.core.frame.DataFrame'>\n",
            "RangeIndex: 800000 entries, 0 to 799999\n",
            "Data columns (total 20 columns):\n",
            " #   Column                Non-Null Count   Dtype  \n",
            "---  ------                --------------   -----  \n",
            " 0   id                    800000 non-null  int64  \n",
            " 1   Age                   787511 non-null  float64\n",
            " 2   Gender                800000 non-null  object \n",
            " 3   Annual Income         770140 non-null  float64\n",
            " 4   Marital Status        787664 non-null  object \n",
            " 5   Number of Dependents  726870 non-null  float64\n",
            " 6   Education Level       800000 non-null  object \n",
            " 7   Occupation            560875 non-null  object \n",
            " 8   Health Score          750551 non-null  float64\n",
            " 9   Location              800000 non-null  object \n",
            " 10  Policy Type           800000 non-null  object \n",
            " 11  Previous Claims       557198 non-null  float64\n",
            " 12  Vehicle Age           799997 non-null  float64\n",
            " 13  Credit Score          708549 non-null  float64\n",
            " 14  Insurance Duration    799998 non-null  float64\n",
            " 15  Policy Start Date     800000 non-null  object \n",
            " 16  Customer Feedback     747724 non-null  object \n",
            " 17  Smoking Status        800000 non-null  object \n",
            " 18  Exercise Frequency    800000 non-null  object \n",
            " 19  Property Type         800000 non-null  object \n",
            "dtypes: float64(8), int64(1), object(11)\n",
            "memory usage: 122.1+ MB\n"
          ]
        }
      ]
    },
    {
      "cell_type": "code",
      "source": [
        "dt['Occupation'] = dt['Occupation'].map(occupation_mapping)\n",
        "dt['Marital Status'] = dt['Marital Status'].map(marital_mapping)\n",
        "dt['Education Level'] = dt['Education Level'].map(education_mapping)\n",
        "dt['Location'] = dt['Location'].map(location_mapping)\n",
        "dt['Policy Type'] = dt['Policy Type'].map(policy_mapping)\n",
        "dt['Exercise Frequency'] = dt['Exercise Frequency'].map(exerciseFreq_mapping)\n",
        "dt['Property Type'] = dt['Property Type'].map(property_mapping)\n",
        "dt['Gender'] = dt['Gender'].map(gender_mapping)\n",
        "dt['Customer Feedback'] = dt['Customer Feedback'].map(feedback_mapping)\n",
        "dt['Smoking Status'] = dt['Smoking Status'].map(smoking_mapping)"
      ],
      "metadata": {
        "id": "7cXNdrTcIsb1"
      },
      "execution_count": 60,
      "outputs": []
    },
    {
      "cell_type": "code",
      "source": [
        "dt.sample()"
      ],
      "metadata": {
        "colab": {
          "base_uri": "https://localhost:8080/",
          "height": 135
        },
        "id": "9pzC44CWKwQz",
        "outputId": "01c3159a-4da8-4526-da02-96a32ebbf42b"
      },
      "execution_count": 61,
      "outputs": [
        {
          "output_type": "execute_result",
          "data": {
            "text/plain": [
              "             id   Age  Gender  Annual Income  Marital Status  \\\n",
              "443767  1643767  48.0       1        11413.0             1.0   \n",
              "\n",
              "        Number of Dependents  Education Level  Occupation  Health Score  \\\n",
              "443767                   3.0                3         2.0     36.964092   \n",
              "\n",
              "        Location  Policy Type  Previous Claims  Vehicle Age  Credit Score  \\\n",
              "443767         2            1              0.0         18.0         533.0   \n",
              "\n",
              "        Insurance Duration           Policy Start Date  Customer Feedback  \\\n",
              "443767                 9.0  2020-01-21 15:21:39.180553                1.0   \n",
              "\n",
              "        Smoking Status  Exercise Frequency  Property Type  \n",
              "443767               0                   2              0  "
            ],
            "text/html": [
              "\n",
              "  <div id=\"df-e46e4c3f-45ef-4b19-8493-37ee96ff2434\" class=\"colab-df-container\">\n",
              "    <div>\n",
              "<style scoped>\n",
              "    .dataframe tbody tr th:only-of-type {\n",
              "        vertical-align: middle;\n",
              "    }\n",
              "\n",
              "    .dataframe tbody tr th {\n",
              "        vertical-align: top;\n",
              "    }\n",
              "\n",
              "    .dataframe thead th {\n",
              "        text-align: right;\n",
              "    }\n",
              "</style>\n",
              "<table border=\"1\" class=\"dataframe\">\n",
              "  <thead>\n",
              "    <tr style=\"text-align: right;\">\n",
              "      <th></th>\n",
              "      <th>id</th>\n",
              "      <th>Age</th>\n",
              "      <th>Gender</th>\n",
              "      <th>Annual Income</th>\n",
              "      <th>Marital Status</th>\n",
              "      <th>Number of Dependents</th>\n",
              "      <th>Education Level</th>\n",
              "      <th>Occupation</th>\n",
              "      <th>Health Score</th>\n",
              "      <th>Location</th>\n",
              "      <th>Policy Type</th>\n",
              "      <th>Previous Claims</th>\n",
              "      <th>Vehicle Age</th>\n",
              "      <th>Credit Score</th>\n",
              "      <th>Insurance Duration</th>\n",
              "      <th>Policy Start Date</th>\n",
              "      <th>Customer Feedback</th>\n",
              "      <th>Smoking Status</th>\n",
              "      <th>Exercise Frequency</th>\n",
              "      <th>Property Type</th>\n",
              "    </tr>\n",
              "  </thead>\n",
              "  <tbody>\n",
              "    <tr>\n",
              "      <th>443767</th>\n",
              "      <td>1643767</td>\n",
              "      <td>48.0</td>\n",
              "      <td>1</td>\n",
              "      <td>11413.0</td>\n",
              "      <td>1.0</td>\n",
              "      <td>3.0</td>\n",
              "      <td>3</td>\n",
              "      <td>2.0</td>\n",
              "      <td>36.964092</td>\n",
              "      <td>2</td>\n",
              "      <td>1</td>\n",
              "      <td>0.0</td>\n",
              "      <td>18.0</td>\n",
              "      <td>533.0</td>\n",
              "      <td>9.0</td>\n",
              "      <td>2020-01-21 15:21:39.180553</td>\n",
              "      <td>1.0</td>\n",
              "      <td>0</td>\n",
              "      <td>2</td>\n",
              "      <td>0</td>\n",
              "    </tr>\n",
              "  </tbody>\n",
              "</table>\n",
              "</div>\n",
              "    <div class=\"colab-df-buttons\">\n",
              "      \n",
              "  <div class=\"colab-df-container\">\n",
              "    <button class=\"colab-df-convert\" onclick=\"convertToInteractive('df-e46e4c3f-45ef-4b19-8493-37ee96ff2434')\"\n",
              "            title=\"Convert this dataframe to an interactive table.\"\n",
              "            style=\"display:none;\">\n",
              "      \n",
              "  <svg xmlns=\"http://www.w3.org/2000/svg\" height=\"24px\" viewBox=\"0 -960 960 960\">\n",
              "    <path d=\"M120-120v-720h720v720H120Zm60-500h600v-160H180v160Zm220 220h160v-160H400v160Zm0 220h160v-160H400v160ZM180-400h160v-160H180v160Zm440 0h160v-160H620v160ZM180-180h160v-160H180v160Zm440 0h160v-160H620v160Z\"/>\n",
              "  </svg>\n",
              "    </button>\n",
              "    \n",
              "  <style>\n",
              "    .colab-df-container {\n",
              "      display:flex;\n",
              "      gap: 12px;\n",
              "    }\n",
              "\n",
              "    .colab-df-convert {\n",
              "      background-color: #E8F0FE;\n",
              "      border: none;\n",
              "      border-radius: 50%;\n",
              "      cursor: pointer;\n",
              "      display: none;\n",
              "      fill: #1967D2;\n",
              "      height: 32px;\n",
              "      padding: 0 0 0 0;\n",
              "      width: 32px;\n",
              "    }\n",
              "\n",
              "    .colab-df-convert:hover {\n",
              "      background-color: #E2EBFA;\n",
              "      box-shadow: 0px 1px 2px rgba(60, 64, 67, 0.3), 0px 1px 3px 1px rgba(60, 64, 67, 0.15);\n",
              "      fill: #174EA6;\n",
              "    }\n",
              "\n",
              "    .colab-df-buttons div {\n",
              "      margin-bottom: 4px;\n",
              "    }\n",
              "\n",
              "    [theme=dark] .colab-df-convert {\n",
              "      background-color: #3B4455;\n",
              "      fill: #D2E3FC;\n",
              "    }\n",
              "\n",
              "    [theme=dark] .colab-df-convert:hover {\n",
              "      background-color: #434B5C;\n",
              "      box-shadow: 0px 1px 3px 1px rgba(0, 0, 0, 0.15);\n",
              "      filter: drop-shadow(0px 1px 2px rgba(0, 0, 0, 0.3));\n",
              "      fill: #FFFFFF;\n",
              "    }\n",
              "  </style>\n",
              "\n",
              "    <script>\n",
              "      const buttonEl =\n",
              "        document.querySelector('#df-e46e4c3f-45ef-4b19-8493-37ee96ff2434 button.colab-df-convert');\n",
              "      buttonEl.style.display =\n",
              "        google.colab.kernel.accessAllowed ? 'block' : 'none';\n",
              "\n",
              "      async function convertToInteractive(key) {\n",
              "        const element = document.querySelector('#df-e46e4c3f-45ef-4b19-8493-37ee96ff2434');\n",
              "        const dataTable =\n",
              "          await google.colab.kernel.invokeFunction('convertToInteractive',\n",
              "                                                    [key], {});\n",
              "        if (!dataTable) return;\n",
              "\n",
              "        const docLinkHtml = 'Like what you see? Visit the ' +\n",
              "          '<a target=\"_blank\" href=https://colab.research.google.com/notebooks/data_table.ipynb>data table notebook</a>'\n",
              "          + ' to learn more about interactive tables.';\n",
              "        element.innerHTML = '';\n",
              "        dataTable['output_type'] = 'display_data';\n",
              "        await google.colab.output.renderOutput(dataTable, element);\n",
              "        const docLink = document.createElement('div');\n",
              "        docLink.innerHTML = docLinkHtml;\n",
              "        element.appendChild(docLink);\n",
              "      }\n",
              "    </script>\n",
              "  </div>\n",
              "  \n",
              "    </div>\n",
              "  </div>\n",
              "  "
            ]
          },
          "metadata": {},
          "execution_count": 61
        }
      ]
    },
    {
      "cell_type": "code",
      "source": [
        "dt['Policy Start Date'] = pd.to_datetime(dt['Policy Start Date'])\n",
        "dt['Policy Age'] = (pd.Timestamp.now() - dt['Policy Start Date']).dt.days # Policy age in days\n",
        "dt['Policy Start Year'] = dt['Policy Start Date'].dt.year\n",
        "dt['Policy Start Month'] = dt['Policy Start Date'].dt.month\n",
        "dt['Policy Age'] = (pd.Timestamp.now() - dt['Policy Start Date']).dt.days\n",
        "dt['Policy Start Day'] = dt['Policy Start Date'].dt.day\n",
        "dt['Policy Start DayofWeek'] = dt['Policy Start Date'].dt.dayofweek\n",
        "\n",
        "dt.drop('Policy Start Date', axis=1, inplace=True)"
      ],
      "metadata": {
        "id": "0oksbJ29J_8U"
      },
      "execution_count": 62,
      "outputs": []
    },
    {
      "cell_type": "code",
      "source": [
        "df.info()"
      ],
      "metadata": {
        "colab": {
          "base_uri": "https://localhost:8080/"
        },
        "id": "n7HFrvHSMMky",
        "outputId": "b08a5de7-f639-44da-93ce-72d675d1441d"
      },
      "execution_count": 63,
      "outputs": [
        {
          "output_type": "stream",
          "name": "stdout",
          "text": [
            "<class 'pandas.core.frame.DataFrame'>\n",
            "RangeIndex: 1200000 entries, 0 to 1199999\n",
            "Data columns (total 25 columns):\n",
            " #   Column                  Non-Null Count    Dtype  \n",
            "---  ------                  --------------    -----  \n",
            " 0   id                      1200000 non-null  int64  \n",
            " 1   Age                     1181295 non-null  float64\n",
            " 2   Gender                  1200000 non-null  int64  \n",
            " 3   Annual Income           1155051 non-null  float64\n",
            " 4   Marital Status          1181471 non-null  float64\n",
            " 5   Number of Dependents    1090328 non-null  float64\n",
            " 6   Education Level         1200000 non-null  int64  \n",
            " 7   Occupation              841925 non-null   float64\n",
            " 8   Health Score            1125924 non-null  float64\n",
            " 9   Location                1200000 non-null  int64  \n",
            " 10  Policy Type             1200000 non-null  int64  \n",
            " 11  Previous Claims         835971 non-null   float64\n",
            " 12  Vehicle Age             1199994 non-null  float64\n",
            " 13  Credit Score            1062118 non-null  float64\n",
            " 14  Insurance Duration      1199999 non-null  float64\n",
            " 15  Customer Feedback       1122176 non-null  float64\n",
            " 16  Smoking Status          1200000 non-null  int64  \n",
            " 17  Exercise Frequency      1200000 non-null  int64  \n",
            " 18  Property Type           1200000 non-null  int64  \n",
            " 19  Premium Amount          1200000 non-null  float64\n",
            " 20  Policy Age              1200000 non-null  float64\n",
            " 21  Policy Start Year       1200000 non-null  int32  \n",
            " 22  Policy Start Month      1200000 non-null  int32  \n",
            " 23  Policy Start Day        1200000 non-null  int32  \n",
            " 24  Policy Start DayofWeek  1200000 non-null  int32  \n",
            "dtypes: float64(13), int32(4), int64(8)\n",
            "memory usage: 210.6 MB\n"
          ]
        }
      ]
    },
    {
      "cell_type": "code",
      "source": [
        "dt.info()"
      ],
      "metadata": {
        "colab": {
          "base_uri": "https://localhost:8080/"
        },
        "id": "IpV9lTHyMJ5c",
        "outputId": "8f969ab8-a625-43c7-8063-ecaa3e1a1346"
      },
      "execution_count": 64,
      "outputs": [
        {
          "output_type": "stream",
          "name": "stdout",
          "text": [
            "<class 'pandas.core.frame.DataFrame'>\n",
            "RangeIndex: 800000 entries, 0 to 799999\n",
            "Data columns (total 24 columns):\n",
            " #   Column                  Non-Null Count   Dtype  \n",
            "---  ------                  --------------   -----  \n",
            " 0   id                      800000 non-null  int64  \n",
            " 1   Age                     787511 non-null  float64\n",
            " 2   Gender                  800000 non-null  int64  \n",
            " 3   Annual Income           770140 non-null  float64\n",
            " 4   Marital Status          787664 non-null  float64\n",
            " 5   Number of Dependents    726870 non-null  float64\n",
            " 6   Education Level         800000 non-null  int64  \n",
            " 7   Occupation              560875 non-null  float64\n",
            " 8   Health Score            750551 non-null  float64\n",
            " 9   Location                800000 non-null  int64  \n",
            " 10  Policy Type             800000 non-null  int64  \n",
            " 11  Previous Claims         557198 non-null  float64\n",
            " 12  Vehicle Age             799997 non-null  float64\n",
            " 13  Credit Score            708549 non-null  float64\n",
            " 14  Insurance Duration      799998 non-null  float64\n",
            " 15  Customer Feedback       747724 non-null  float64\n",
            " 16  Smoking Status          800000 non-null  int64  \n",
            " 17  Exercise Frequency      800000 non-null  int64  \n",
            " 18  Property Type           800000 non-null  int64  \n",
            " 19  Policy Age              800000 non-null  int64  \n",
            " 20  Policy Start Year       800000 non-null  int32  \n",
            " 21  Policy Start Month      800000 non-null  int32  \n",
            " 22  Policy Start Day        800000 non-null  int32  \n",
            " 23  Policy Start DayofWeek  800000 non-null  int32  \n",
            "dtypes: float64(11), int32(4), int64(9)\n",
            "memory usage: 134.3 MB\n"
          ]
        }
      ]
    },
    {
      "cell_type": "code",
      "source": [
        "# Assuming you already have your scaler and numerical_features defined as before\n",
        "# ...\n",
        "\n",
        "# Scale the numerical features in dt using the same scaler\n",
        "num_dt = dt[numerical_features]  # Select numerical features from dt\n",
        "scaled_data_dt = scaler.transform(num_dt)  # Use transform, not fit_transform\n",
        "dt[numerical_features] = scaled_data_dt  # Update dt with scaled values"
      ],
      "metadata": {
        "id": "pjSmHz8wWY4o"
      },
      "execution_count": 65,
      "outputs": []
    },
    {
      "cell_type": "markdown",
      "source": [
        "## 5. Evaluate the Model"
      ],
      "metadata": {
        "id": "IkAsAi29WiDq"
      }
    },
    {
      "cell_type": "code",
      "source": [],
      "metadata": {
        "id": "24TK9tzzH0tv"
      },
      "execution_count": 65,
      "outputs": []
    },
    {
      "cell_type": "markdown",
      "source": [
        "## Generate Submission File\n",
        "\n",
        "Choose the model that has the best performance to generate a submission file."
      ],
      "metadata": {
        "id": "a6UAAMyepmHi"
      }
    },
    {
      "cell_type": "code",
      "source": [
        "id = sf['id']  # Get the correct 'id' column from sf\n",
        "y_pred = xgb_reg.predict(dt)\n",
        "\n",
        "submission_df = pd.DataFrame({\n",
        "    'id': id,\n",
        "    'Premium Amount': y_pred\n",
        "})\n",
        "\n",
        "submission_df.to_csv('submission_file.csv', index=False)\n",
        "print(\"Submission file created: submission_file.csv\")"
      ],
      "metadata": {
        "id": "HrelEEFJpjzI",
        "colab": {
          "base_uri": "https://localhost:8080/"
        },
        "outputId": "ae265843-5626-4ae6-df08-8efdb265deaa"
      },
      "execution_count": 66,
      "outputs": [
        {
          "output_type": "stream",
          "name": "stdout",
          "text": [
            "Submission file created: submission_file.csv\n"
          ]
        }
      ]
    },
    {
      "cell_type": "code",
      "source": [
        "submission_df = pd.read_csv('submission_file.csv')\n",
        "duplicate_ids = submission_df[submission_df.duplicated(subset=['id'], keep=False)]\n",
        "print(duplicate_ids)\n"
      ],
      "metadata": {
        "colab": {
          "base_uri": "https://localhost:8080/"
        },
        "id": "EHtj8qg1P-Am",
        "outputId": "f89ae4f3-7d7e-4bcf-e14e-6b1678de201a"
      },
      "execution_count": 67,
      "outputs": [
        {
          "output_type": "stream",
          "name": "stdout",
          "text": [
            "Empty DataFrame\n",
            "Columns: [id, Premium Amount]\n",
            "Index: []\n"
          ]
        }
      ]
    },
    {
      "cell_type": "code",
      "source": [
        "df.isnull().sum()"
      ],
      "metadata": {
        "colab": {
          "base_uri": "https://localhost:8080/",
          "height": 868
        },
        "id": "h2S_VsseRzk1",
        "outputId": "5f86baea-1b9f-468b-f1f9-1b3da3183379"
      },
      "execution_count": 68,
      "outputs": [
        {
          "output_type": "execute_result",
          "data": {
            "text/plain": [
              "id                             0\n",
              "Age                        18705\n",
              "Gender                         0\n",
              "Annual Income              44949\n",
              "Marital Status             18529\n",
              "Number of Dependents      109672\n",
              "Education Level                0\n",
              "Occupation                358075\n",
              "Health Score               74076\n",
              "Location                       0\n",
              "Policy Type                    0\n",
              "Previous Claims           364029\n",
              "Vehicle Age                    6\n",
              "Credit Score              137882\n",
              "Insurance Duration             1\n",
              "Customer Feedback          77824\n",
              "Smoking Status                 0\n",
              "Exercise Frequency             0\n",
              "Property Type                  0\n",
              "Premium Amount                 0\n",
              "Policy Age                     0\n",
              "Policy Start Year              0\n",
              "Policy Start Month             0\n",
              "Policy Start Day               0\n",
              "Policy Start DayofWeek         0\n",
              "dtype: int64"
            ],
            "text/html": [
              "<div>\n",
              "<style scoped>\n",
              "    .dataframe tbody tr th:only-of-type {\n",
              "        vertical-align: middle;\n",
              "    }\n",
              "\n",
              "    .dataframe tbody tr th {\n",
              "        vertical-align: top;\n",
              "    }\n",
              "\n",
              "    .dataframe thead th {\n",
              "        text-align: right;\n",
              "    }\n",
              "</style>\n",
              "<table border=\"1\" class=\"dataframe\">\n",
              "  <thead>\n",
              "    <tr style=\"text-align: right;\">\n",
              "      <th></th>\n",
              "      <th>0</th>\n",
              "    </tr>\n",
              "  </thead>\n",
              "  <tbody>\n",
              "    <tr>\n",
              "      <th>id</th>\n",
              "      <td>0</td>\n",
              "    </tr>\n",
              "    <tr>\n",
              "      <th>Age</th>\n",
              "      <td>18705</td>\n",
              "    </tr>\n",
              "    <tr>\n",
              "      <th>Gender</th>\n",
              "      <td>0</td>\n",
              "    </tr>\n",
              "    <tr>\n",
              "      <th>Annual Income</th>\n",
              "      <td>44949</td>\n",
              "    </tr>\n",
              "    <tr>\n",
              "      <th>Marital Status</th>\n",
              "      <td>18529</td>\n",
              "    </tr>\n",
              "    <tr>\n",
              "      <th>Number of Dependents</th>\n",
              "      <td>109672</td>\n",
              "    </tr>\n",
              "    <tr>\n",
              "      <th>Education Level</th>\n",
              "      <td>0</td>\n",
              "    </tr>\n",
              "    <tr>\n",
              "      <th>Occupation</th>\n",
              "      <td>358075</td>\n",
              "    </tr>\n",
              "    <tr>\n",
              "      <th>Health Score</th>\n",
              "      <td>74076</td>\n",
              "    </tr>\n",
              "    <tr>\n",
              "      <th>Location</th>\n",
              "      <td>0</td>\n",
              "    </tr>\n",
              "    <tr>\n",
              "      <th>Policy Type</th>\n",
              "      <td>0</td>\n",
              "    </tr>\n",
              "    <tr>\n",
              "      <th>Previous Claims</th>\n",
              "      <td>364029</td>\n",
              "    </tr>\n",
              "    <tr>\n",
              "      <th>Vehicle Age</th>\n",
              "      <td>6</td>\n",
              "    </tr>\n",
              "    <tr>\n",
              "      <th>Credit Score</th>\n",
              "      <td>137882</td>\n",
              "    </tr>\n",
              "    <tr>\n",
              "      <th>Insurance Duration</th>\n",
              "      <td>1</td>\n",
              "    </tr>\n",
              "    <tr>\n",
              "      <th>Customer Feedback</th>\n",
              "      <td>77824</td>\n",
              "    </tr>\n",
              "    <tr>\n",
              "      <th>Smoking Status</th>\n",
              "      <td>0</td>\n",
              "    </tr>\n",
              "    <tr>\n",
              "      <th>Exercise Frequency</th>\n",
              "      <td>0</td>\n",
              "    </tr>\n",
              "    <tr>\n",
              "      <th>Property Type</th>\n",
              "      <td>0</td>\n",
              "    </tr>\n",
              "    <tr>\n",
              "      <th>Premium Amount</th>\n",
              "      <td>0</td>\n",
              "    </tr>\n",
              "    <tr>\n",
              "      <th>Policy Age</th>\n",
              "      <td>0</td>\n",
              "    </tr>\n",
              "    <tr>\n",
              "      <th>Policy Start Year</th>\n",
              "      <td>0</td>\n",
              "    </tr>\n",
              "    <tr>\n",
              "      <th>Policy Start Month</th>\n",
              "      <td>0</td>\n",
              "    </tr>\n",
              "    <tr>\n",
              "      <th>Policy Start Day</th>\n",
              "      <td>0</td>\n",
              "    </tr>\n",
              "    <tr>\n",
              "      <th>Policy Start DayofWeek</th>\n",
              "      <td>0</td>\n",
              "    </tr>\n",
              "  </tbody>\n",
              "</table>\n",
              "</div><br><label><b>dtype:</b> int64</label>"
            ]
          },
          "metadata": {},
          "execution_count": 68
        }
      ]
    }
  ],
  "metadata": {
    "colab": {
      "provenance": [],
      "gpuType": "T4",
      "include_colab_link": true
    },
    "kernelspec": {
      "display_name": "Python 3",
      "name": "python3"
    },
    "language_info": {
      "name": "python",
      "version": "3.12.4"
    },
    "accelerator": "GPU"
  },
  "nbformat": 4,
  "nbformat_minor": 0
}