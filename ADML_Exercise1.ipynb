{
  "nbformat": 4,
  "nbformat_minor": 0,
  "metadata": {
    "colab": {
      "provenance": [],
      "include_colab_link": true
    },
    "kernelspec": {
      "name": "python3",
      "display_name": "Python 3"
    },
    "language_info": {
      "name": "python"
    }
  },
  "cells": [
    {
      "cell_type": "markdown",
      "metadata": {
        "id": "view-in-github",
        "colab_type": "text"
      },
      "source": [
        "<a href=\"https://colab.research.google.com/github/kcat28/CCADMACL_EXERCISES_COM222ML/blob/main/ADML_Exercise1.ipynb\" target=\"_parent\"><img src=\"https://colab.research.google.com/assets/colab-badge.svg\" alt=\"Open In Colab\"/></a>"
      ]
    },
    {
      "cell_type": "markdown",
      "source": [
        "# Exercise 1\n",
        "\n",
        "Use all feature selection methods to find the best features"
      ],
      "metadata": {
        "id": "wyguhJBCREPq"
      }
    },
    {
      "cell_type": "markdown",
      "source": [
        "## Dataset Information\n",
        "\n",
        "## Features\n",
        "\n",
        "Number of Instances: 20640\n",
        "\n",
        "Number of Attributes: 8 numeric, predictive attributes and the target\n",
        "\n",
        "Attribute Information:\n",
        "\n",
        "MedInc - median income in block group\n",
        "\n",
        "HouseAge - median house age in block group\n",
        "\n",
        "AveRooms - average number of rooms per household\n",
        "\n",
        "AveBedrms - average number of bedrooms per household\n",
        "\n",
        "Population - block group population\n",
        "\n",
        "AveOccup - average number of household members\n",
        "\n",
        "Latitude - block group latitude\n",
        "\n",
        "Longitude - block group longitude\n",
        "\n",
        "## Target\n",
        "The target variable is the median house value for California districts, expressed in hundreds of thousands of dollars ($100,000)."
      ],
      "metadata": {
        "id": "W1nEzxdXQbpH"
      }
    },
    {
      "cell_type": "code",
      "execution_count": 499,
      "metadata": {
        "id": "ZAVjjtJ9PVED"
      },
      "outputs": [],
      "source": [
        "from sklearn.datasets import fetch_california_housing\n",
        "import pandas as pd\n",
        "import seaborn as sns\n",
        "import numpy as np\n",
        "from matplotlib import pyplot as plt\n",
        "from sklearn.model_selection import train_test_split\n",
        "from sklearn.linear_model import LinearRegression\n",
        "from sklearn.ensemble import RandomForestRegressor\n",
        "from sklearn.metrics import mean_squared_error, r2_score\n",
        "\n",
        "corr_with_label = 0.05  #correlation threshold for target\n",
        "corr_between_features = 0.65 #correlation threshold between features\n"
      ]
    },
    {
      "cell_type": "code",
      "source": [
        "housing = fetch_california_housing(as_frame=True)\n",
        "df = pd.concat([housing.data, housing.target], axis=1)"
      ],
      "metadata": {
        "id": "N12mwL2GPX48"
      },
      "execution_count": 500,
      "outputs": []
    },
    {
      "cell_type": "code",
      "source": [
        "df.info()"
      ],
      "metadata": {
        "colab": {
          "base_uri": "https://localhost:8080/"
        },
        "id": "dUf25omfakKW",
        "outputId": "d6ca76f5-c8d3-48f0-a27d-768ce28386f9"
      },
      "execution_count": 501,
      "outputs": [
        {
          "output_type": "stream",
          "name": "stdout",
          "text": [
            "<class 'pandas.core.frame.DataFrame'>\n",
            "RangeIndex: 20640 entries, 0 to 20639\n",
            "Data columns (total 9 columns):\n",
            " #   Column       Non-Null Count  Dtype  \n",
            "---  ------       --------------  -----  \n",
            " 0   MedInc       20640 non-null  float64\n",
            " 1   HouseAge     20640 non-null  float64\n",
            " 2   AveRooms     20640 non-null  float64\n",
            " 3   AveBedrms    20640 non-null  float64\n",
            " 4   Population   20640 non-null  float64\n",
            " 5   AveOccup     20640 non-null  float64\n",
            " 6   Latitude     20640 non-null  float64\n",
            " 7   Longitude    20640 non-null  float64\n",
            " 8   MedHouseVal  20640 non-null  float64\n",
            "dtypes: float64(9)\n",
            "memory usage: 1.4 MB\n"
          ]
        }
      ]
    },
    {
      "cell_type": "code",
      "source": [
        "df.duplicated().sum()"
      ],
      "metadata": {
        "colab": {
          "base_uri": "https://localhost:8080/"
        },
        "id": "eS4bLZxxamnN",
        "outputId": "a2baaa6d-117d-421b-e1d8-696fab757352"
      },
      "execution_count": 502,
      "outputs": [
        {
          "output_type": "execute_result",
          "data": {
            "text/plain": [
              "0"
            ]
          },
          "metadata": {},
          "execution_count": 502
        }
      ]
    },
    {
      "cell_type": "code",
      "source": [
        "df.isnull().sum()"
      ],
      "metadata": {
        "colab": {
          "base_uri": "https://localhost:8080/",
          "height": 366
        },
        "id": "GryimbsNa1bl",
        "outputId": "569a53e7-f279-45cd-d990-d745dcbd6dea"
      },
      "execution_count": 503,
      "outputs": [
        {
          "output_type": "execute_result",
          "data": {
            "text/plain": [
              "MedInc         0\n",
              "HouseAge       0\n",
              "AveRooms       0\n",
              "AveBedrms      0\n",
              "Population     0\n",
              "AveOccup       0\n",
              "Latitude       0\n",
              "Longitude      0\n",
              "MedHouseVal    0\n",
              "dtype: int64"
            ],
            "text/html": [
              "<div>\n",
              "<style scoped>\n",
              "    .dataframe tbody tr th:only-of-type {\n",
              "        vertical-align: middle;\n",
              "    }\n",
              "\n",
              "    .dataframe tbody tr th {\n",
              "        vertical-align: top;\n",
              "    }\n",
              "\n",
              "    .dataframe thead th {\n",
              "        text-align: right;\n",
              "    }\n",
              "</style>\n",
              "<table border=\"1\" class=\"dataframe\">\n",
              "  <thead>\n",
              "    <tr style=\"text-align: right;\">\n",
              "      <th></th>\n",
              "      <th>0</th>\n",
              "    </tr>\n",
              "  </thead>\n",
              "  <tbody>\n",
              "    <tr>\n",
              "      <th>MedInc</th>\n",
              "      <td>0</td>\n",
              "    </tr>\n",
              "    <tr>\n",
              "      <th>HouseAge</th>\n",
              "      <td>0</td>\n",
              "    </tr>\n",
              "    <tr>\n",
              "      <th>AveRooms</th>\n",
              "      <td>0</td>\n",
              "    </tr>\n",
              "    <tr>\n",
              "      <th>AveBedrms</th>\n",
              "      <td>0</td>\n",
              "    </tr>\n",
              "    <tr>\n",
              "      <th>Population</th>\n",
              "      <td>0</td>\n",
              "    </tr>\n",
              "    <tr>\n",
              "      <th>AveOccup</th>\n",
              "      <td>0</td>\n",
              "    </tr>\n",
              "    <tr>\n",
              "      <th>Latitude</th>\n",
              "      <td>0</td>\n",
              "    </tr>\n",
              "    <tr>\n",
              "      <th>Longitude</th>\n",
              "      <td>0</td>\n",
              "    </tr>\n",
              "    <tr>\n",
              "      <th>MedHouseVal</th>\n",
              "      <td>0</td>\n",
              "    </tr>\n",
              "  </tbody>\n",
              "</table>\n",
              "</div><br><label><b>dtype:</b> int64</label>"
            ]
          },
          "metadata": {},
          "execution_count": 503
        }
      ]
    },
    {
      "cell_type": "code",
      "source": [
        "df.sample(3)"
      ],
      "metadata": {
        "colab": {
          "base_uri": "https://localhost:8080/",
          "height": 143
        },
        "id": "zoNZnOq-a6k0",
        "outputId": "2f9006f6-8155-45ce-d7e7-3cb779077a3b"
      },
      "execution_count": 504,
      "outputs": [
        {
          "output_type": "execute_result",
          "data": {
            "text/plain": [
              "       MedInc  HouseAge  AveRooms  AveBedrms  Population  AveOccup  Latitude  \\\n",
              "2097   1.2101      40.0  3.978218   1.027723      2219.0  4.394059     36.76   \n",
              "16510  3.4426       7.0  5.416393   1.028415      3006.0  3.285246     37.73   \n",
              "18020  6.0957      32.0  5.505976   0.952191       705.0  2.808765     37.24   \n",
              "\n",
              "       Longitude  MedHouseVal  \n",
              "2097     -119.77        0.491  \n",
              "16510    -121.16        1.390  \n",
              "18020    -121.95        4.054  "
            ],
            "text/html": [
              "\n",
              "  <div id=\"df-5f102fd2-b41b-4275-8c76-c0b8ede25560\" class=\"colab-df-container\">\n",
              "    <div>\n",
              "<style scoped>\n",
              "    .dataframe tbody tr th:only-of-type {\n",
              "        vertical-align: middle;\n",
              "    }\n",
              "\n",
              "    .dataframe tbody tr th {\n",
              "        vertical-align: top;\n",
              "    }\n",
              "\n",
              "    .dataframe thead th {\n",
              "        text-align: right;\n",
              "    }\n",
              "</style>\n",
              "<table border=\"1\" class=\"dataframe\">\n",
              "  <thead>\n",
              "    <tr style=\"text-align: right;\">\n",
              "      <th></th>\n",
              "      <th>MedInc</th>\n",
              "      <th>HouseAge</th>\n",
              "      <th>AveRooms</th>\n",
              "      <th>AveBedrms</th>\n",
              "      <th>Population</th>\n",
              "      <th>AveOccup</th>\n",
              "      <th>Latitude</th>\n",
              "      <th>Longitude</th>\n",
              "      <th>MedHouseVal</th>\n",
              "    </tr>\n",
              "  </thead>\n",
              "  <tbody>\n",
              "    <tr>\n",
              "      <th>2097</th>\n",
              "      <td>1.2101</td>\n",
              "      <td>40.0</td>\n",
              "      <td>3.978218</td>\n",
              "      <td>1.027723</td>\n",
              "      <td>2219.0</td>\n",
              "      <td>4.394059</td>\n",
              "      <td>36.76</td>\n",
              "      <td>-119.77</td>\n",
              "      <td>0.491</td>\n",
              "    </tr>\n",
              "    <tr>\n",
              "      <th>16510</th>\n",
              "      <td>3.4426</td>\n",
              "      <td>7.0</td>\n",
              "      <td>5.416393</td>\n",
              "      <td>1.028415</td>\n",
              "      <td>3006.0</td>\n",
              "      <td>3.285246</td>\n",
              "      <td>37.73</td>\n",
              "      <td>-121.16</td>\n",
              "      <td>1.390</td>\n",
              "    </tr>\n",
              "    <tr>\n",
              "      <th>18020</th>\n",
              "      <td>6.0957</td>\n",
              "      <td>32.0</td>\n",
              "      <td>5.505976</td>\n",
              "      <td>0.952191</td>\n",
              "      <td>705.0</td>\n",
              "      <td>2.808765</td>\n",
              "      <td>37.24</td>\n",
              "      <td>-121.95</td>\n",
              "      <td>4.054</td>\n",
              "    </tr>\n",
              "  </tbody>\n",
              "</table>\n",
              "</div>\n",
              "    <div class=\"colab-df-buttons\">\n",
              "\n",
              "  <div class=\"colab-df-container\">\n",
              "    <button class=\"colab-df-convert\" onclick=\"convertToInteractive('df-5f102fd2-b41b-4275-8c76-c0b8ede25560')\"\n",
              "            title=\"Convert this dataframe to an interactive table.\"\n",
              "            style=\"display:none;\">\n",
              "\n",
              "  <svg xmlns=\"http://www.w3.org/2000/svg\" height=\"24px\" viewBox=\"0 -960 960 960\">\n",
              "    <path d=\"M120-120v-720h720v720H120Zm60-500h600v-160H180v160Zm220 220h160v-160H400v160Zm0 220h160v-160H400v160ZM180-400h160v-160H180v160Zm440 0h160v-160H620v160ZM180-180h160v-160H180v160Zm440 0h160v-160H620v160Z\"/>\n",
              "  </svg>\n",
              "    </button>\n",
              "\n",
              "  <style>\n",
              "    .colab-df-container {\n",
              "      display:flex;\n",
              "      gap: 12px;\n",
              "    }\n",
              "\n",
              "    .colab-df-convert {\n",
              "      background-color: #E8F0FE;\n",
              "      border: none;\n",
              "      border-radius: 50%;\n",
              "      cursor: pointer;\n",
              "      display: none;\n",
              "      fill: #1967D2;\n",
              "      height: 32px;\n",
              "      padding: 0 0 0 0;\n",
              "      width: 32px;\n",
              "    }\n",
              "\n",
              "    .colab-df-convert:hover {\n",
              "      background-color: #E2EBFA;\n",
              "      box-shadow: 0px 1px 2px rgba(60, 64, 67, 0.3), 0px 1px 3px 1px rgba(60, 64, 67, 0.15);\n",
              "      fill: #174EA6;\n",
              "    }\n",
              "\n",
              "    .colab-df-buttons div {\n",
              "      margin-bottom: 4px;\n",
              "    }\n",
              "\n",
              "    [theme=dark] .colab-df-convert {\n",
              "      background-color: #3B4455;\n",
              "      fill: #D2E3FC;\n",
              "    }\n",
              "\n",
              "    [theme=dark] .colab-df-convert:hover {\n",
              "      background-color: #434B5C;\n",
              "      box-shadow: 0px 1px 3px 1px rgba(0, 0, 0, 0.15);\n",
              "      filter: drop-shadow(0px 1px 2px rgba(0, 0, 0, 0.3));\n",
              "      fill: #FFFFFF;\n",
              "    }\n",
              "  </style>\n",
              "\n",
              "    <script>\n",
              "      const buttonEl =\n",
              "        document.querySelector('#df-5f102fd2-b41b-4275-8c76-c0b8ede25560 button.colab-df-convert');\n",
              "      buttonEl.style.display =\n",
              "        google.colab.kernel.accessAllowed ? 'block' : 'none';\n",
              "\n",
              "      async function convertToInteractive(key) {\n",
              "        const element = document.querySelector('#df-5f102fd2-b41b-4275-8c76-c0b8ede25560');\n",
              "        const dataTable =\n",
              "          await google.colab.kernel.invokeFunction('convertToInteractive',\n",
              "                                                    [key], {});\n",
              "        if (!dataTable) return;\n",
              "\n",
              "        const docLinkHtml = 'Like what you see? Visit the ' +\n",
              "          '<a target=\"_blank\" href=https://colab.research.google.com/notebooks/data_table.ipynb>data table notebook</a>'\n",
              "          + ' to learn more about interactive tables.';\n",
              "        element.innerHTML = '';\n",
              "        dataTable['output_type'] = 'display_data';\n",
              "        await google.colab.output.renderOutput(dataTable, element);\n",
              "        const docLink = document.createElement('div');\n",
              "        docLink.innerHTML = docLinkHtml;\n",
              "        element.appendChild(docLink);\n",
              "      }\n",
              "    </script>\n",
              "  </div>\n",
              "\n",
              "\n",
              "<div id=\"df-b162af13-7fbb-44dc-9932-08407ac4bdf9\">\n",
              "  <button class=\"colab-df-quickchart\" onclick=\"quickchart('df-b162af13-7fbb-44dc-9932-08407ac4bdf9')\"\n",
              "            title=\"Suggest charts\"\n",
              "            style=\"display:none;\">\n",
              "\n",
              "<svg xmlns=\"http://www.w3.org/2000/svg\" height=\"24px\"viewBox=\"0 0 24 24\"\n",
              "     width=\"24px\">\n",
              "    <g>\n",
              "        <path d=\"M19 3H5c-1.1 0-2 .9-2 2v14c0 1.1.9 2 2 2h14c1.1 0 2-.9 2-2V5c0-1.1-.9-2-2-2zM9 17H7v-7h2v7zm4 0h-2V7h2v10zm4 0h-2v-4h2v4z\"/>\n",
              "    </g>\n",
              "</svg>\n",
              "  </button>\n",
              "\n",
              "<style>\n",
              "  .colab-df-quickchart {\n",
              "      --bg-color: #E8F0FE;\n",
              "      --fill-color: #1967D2;\n",
              "      --hover-bg-color: #E2EBFA;\n",
              "      --hover-fill-color: #174EA6;\n",
              "      --disabled-fill-color: #AAA;\n",
              "      --disabled-bg-color: #DDD;\n",
              "  }\n",
              "\n",
              "  [theme=dark] .colab-df-quickchart {\n",
              "      --bg-color: #3B4455;\n",
              "      --fill-color: #D2E3FC;\n",
              "      --hover-bg-color: #434B5C;\n",
              "      --hover-fill-color: #FFFFFF;\n",
              "      --disabled-bg-color: #3B4455;\n",
              "      --disabled-fill-color: #666;\n",
              "  }\n",
              "\n",
              "  .colab-df-quickchart {\n",
              "    background-color: var(--bg-color);\n",
              "    border: none;\n",
              "    border-radius: 50%;\n",
              "    cursor: pointer;\n",
              "    display: none;\n",
              "    fill: var(--fill-color);\n",
              "    height: 32px;\n",
              "    padding: 0;\n",
              "    width: 32px;\n",
              "  }\n",
              "\n",
              "  .colab-df-quickchart:hover {\n",
              "    background-color: var(--hover-bg-color);\n",
              "    box-shadow: 0 1px 2px rgba(60, 64, 67, 0.3), 0 1px 3px 1px rgba(60, 64, 67, 0.15);\n",
              "    fill: var(--button-hover-fill-color);\n",
              "  }\n",
              "\n",
              "  .colab-df-quickchart-complete:disabled,\n",
              "  .colab-df-quickchart-complete:disabled:hover {\n",
              "    background-color: var(--disabled-bg-color);\n",
              "    fill: var(--disabled-fill-color);\n",
              "    box-shadow: none;\n",
              "  }\n",
              "\n",
              "  .colab-df-spinner {\n",
              "    border: 2px solid var(--fill-color);\n",
              "    border-color: transparent;\n",
              "    border-bottom-color: var(--fill-color);\n",
              "    animation:\n",
              "      spin 1s steps(1) infinite;\n",
              "  }\n",
              "\n",
              "  @keyframes spin {\n",
              "    0% {\n",
              "      border-color: transparent;\n",
              "      border-bottom-color: var(--fill-color);\n",
              "      border-left-color: var(--fill-color);\n",
              "    }\n",
              "    20% {\n",
              "      border-color: transparent;\n",
              "      border-left-color: var(--fill-color);\n",
              "      border-top-color: var(--fill-color);\n",
              "    }\n",
              "    30% {\n",
              "      border-color: transparent;\n",
              "      border-left-color: var(--fill-color);\n",
              "      border-top-color: var(--fill-color);\n",
              "      border-right-color: var(--fill-color);\n",
              "    }\n",
              "    40% {\n",
              "      border-color: transparent;\n",
              "      border-right-color: var(--fill-color);\n",
              "      border-top-color: var(--fill-color);\n",
              "    }\n",
              "    60% {\n",
              "      border-color: transparent;\n",
              "      border-right-color: var(--fill-color);\n",
              "    }\n",
              "    80% {\n",
              "      border-color: transparent;\n",
              "      border-right-color: var(--fill-color);\n",
              "      border-bottom-color: var(--fill-color);\n",
              "    }\n",
              "    90% {\n",
              "      border-color: transparent;\n",
              "      border-bottom-color: var(--fill-color);\n",
              "    }\n",
              "  }\n",
              "</style>\n",
              "\n",
              "  <script>\n",
              "    async function quickchart(key) {\n",
              "      const quickchartButtonEl =\n",
              "        document.querySelector('#' + key + ' button');\n",
              "      quickchartButtonEl.disabled = true;  // To prevent multiple clicks.\n",
              "      quickchartButtonEl.classList.add('colab-df-spinner');\n",
              "      try {\n",
              "        const charts = await google.colab.kernel.invokeFunction(\n",
              "            'suggestCharts', [key], {});\n",
              "      } catch (error) {\n",
              "        console.error('Error during call to suggestCharts:', error);\n",
              "      }\n",
              "      quickchartButtonEl.classList.remove('colab-df-spinner');\n",
              "      quickchartButtonEl.classList.add('colab-df-quickchart-complete');\n",
              "    }\n",
              "    (() => {\n",
              "      let quickchartButtonEl =\n",
              "        document.querySelector('#df-b162af13-7fbb-44dc-9932-08407ac4bdf9 button');\n",
              "      quickchartButtonEl.style.display =\n",
              "        google.colab.kernel.accessAllowed ? 'block' : 'none';\n",
              "    })();\n",
              "  </script>\n",
              "</div>\n",
              "\n",
              "    </div>\n",
              "  </div>\n"
            ],
            "application/vnd.google.colaboratory.intrinsic+json": {
              "type": "dataframe",
              "summary": "{\n  \"name\": \"df\",\n  \"rows\": 3,\n  \"fields\": [\n    {\n      \"column\": \"MedInc\",\n      \"properties\": {\n        \"dtype\": \"number\",\n        \"std\": 2.445815583808395,\n        \"min\": 1.2101,\n        \"max\": 6.0957,\n        \"num_unique_values\": 3,\n        \"samples\": [\n          1.2101,\n          3.4426,\n          6.0957\n        ],\n        \"semantic_type\": \"\",\n        \"description\": \"\"\n      }\n    },\n    {\n      \"column\": \"HouseAge\",\n      \"properties\": {\n        \"dtype\": \"number\",\n        \"std\": 17.21433511156714,\n        \"min\": 7.0,\n        \"max\": 40.0,\n        \"num_unique_values\": 3,\n        \"samples\": [\n          40.0,\n          7.0,\n          32.0\n        ],\n        \"semantic_type\": \"\",\n        \"description\": \"\"\n      }\n    },\n    {\n      \"column\": \"AveRooms\",\n      \"properties\": {\n        \"dtype\": \"number\",\n        \"std\": 0.8573621863377096,\n        \"min\": 3.978217821782178,\n        \"max\": 5.50597609561753,\n        \"num_unique_values\": 3,\n        \"samples\": [\n          3.978217821782178,\n          5.416393442622951,\n          5.50597609561753\n        ],\n        \"semantic_type\": \"\",\n        \"description\": \"\"\n      }\n    },\n    {\n      \"column\": \"AveBedrms\",\n      \"properties\": {\n        \"dtype\": \"number\",\n        \"std\": 0.04380943747100615,\n        \"min\": 0.952191235059761,\n        \"max\": 1.028415300546448,\n        \"num_unique_values\": 3,\n        \"samples\": [\n          1.0277227722772277,\n          1.028415300546448,\n          0.952191235059761\n        ],\n        \"semantic_type\": \"\",\n        \"description\": \"\"\n      }\n    },\n    {\n      \"column\": \"Population\",\n      \"properties\": {\n        \"dtype\": \"number\",\n        \"std\": 1169.484644334133,\n        \"min\": 705.0,\n        \"max\": 3006.0,\n        \"num_unique_values\": 3,\n        \"samples\": [\n          2219.0,\n          3006.0,\n          705.0\n        ],\n        \"semantic_type\": \"\",\n        \"description\": \"\"\n      }\n    },\n    {\n      \"column\": \"AveOccup\",\n      \"properties\": {\n        \"dtype\": \"number\",\n        \"std\": 0.8133941271898613,\n        \"min\": 2.808764940239044,\n        \"max\": 4.394059405940594,\n        \"num_unique_values\": 3,\n        \"samples\": [\n          4.394059405940594,\n          3.2852459016393443,\n          2.808764940239044\n        ],\n        \"semantic_type\": \"\",\n        \"description\": \"\"\n      }\n    },\n    {\n      \"column\": \"Latitude\",\n      \"properties\": {\n        \"dtype\": \"number\",\n        \"std\": 0.48500859098920374,\n        \"min\": 36.76,\n        \"max\": 37.73,\n        \"num_unique_values\": 3,\n        \"samples\": [\n          36.76,\n          37.73,\n          37.24\n        ],\n        \"semantic_type\": \"\",\n        \"description\": \"\"\n      }\n    },\n    {\n      \"column\": \"Longitude\",\n      \"properties\": {\n        \"dtype\": \"number\",\n        \"std\": 1.103675676999365,\n        \"min\": -121.95,\n        \"max\": -119.77,\n        \"num_unique_values\": 3,\n        \"samples\": [\n          -119.77,\n          -121.16,\n          -121.95\n        ],\n        \"semantic_type\": \"\",\n        \"description\": \"\"\n      }\n    },\n    {\n      \"column\": \"MedHouseVal\",\n      \"properties\": {\n        \"dtype\": \"number\",\n        \"std\": 1.8529285829014928,\n        \"min\": 0.491,\n        \"max\": 4.054,\n        \"num_unique_values\": 3,\n        \"samples\": [\n          0.491,\n          1.39,\n          4.054\n        ],\n        \"semantic_type\": \"\",\n        \"description\": \"\"\n      }\n    }\n  ]\n}"
            }
          },
          "metadata": {},
          "execution_count": 504
        }
      ]
    },
    {
      "cell_type": "markdown",
      "source": [
        "1. Use any filter method to select the best features"
      ],
      "metadata": {
        "id": "6tqvZqTtRgRe"
      }
    },
    {
      "cell_type": "markdown",
      "source": [
        "#Pearson Correlation"
      ],
      "metadata": {
        "id": "sZYJbRJ1lxjU"
      }
    },
    {
      "cell_type": "code",
      "source": [
        "# put your answer here\n",
        "cor = df.corr().abs()\n",
        "plt.figure(figsize=(12,8))\n",
        "sns.heatmap(cor, annot=True, cmap=plt.cm.Reds)\n",
        "plt.show()\n",
        "\n",
        "medhouseval_corr = cor[\"MedHouseVal\"].sort_values(ascending=False)\n",
        "print(medhouseval_corr)\n",
        "\n",
        "upper = cor.where(np.triu(np.ones(cor.shape), k=1).astype(bool))\n",
        "to_drop = [column for column in upper.columns if any(upper[column] > corr_between_features)]\n",
        "filtermethod1 = df.drop(to_drop, axis=1)\n",
        "filtermethod1 = filtermethod1[[col for col in filtermethod1.columns if col != 'MedHouseVal']]\n",
        "print('filtermethod1 columns:', filtermethod1.columns)"
      ],
      "metadata": {
        "id": "K5DB6f6jRmUF",
        "colab": {
          "base_uri": "https://localhost:8080/",
          "height": 873
        },
        "outputId": "940b3dd0-756e-468d-dde9-d977b59364fd"
      },
      "execution_count": 505,
      "outputs": [
        {
          "output_type": "display_data",
          "data": {
            "text/plain": [
              "<Figure size 1200x800 with 2 Axes>"
            ],
            "image/png": "[encoded data removed]"
          },
          "metadata": {}
        },
        {
          "output_type": "stream",
          "name": "stdout",
          "text": [
            "MedHouseVal    1.000000\n",
            "MedInc         0.688075\n",
            "AveRooms       0.151948\n",
            "Latitude       0.144160\n",
            "HouseAge       0.105623\n",
            "AveBedrms      0.046701\n",
            "Longitude      0.045967\n",
            "Population     0.024650\n",
            "AveOccup       0.023737\n",
            "Name: MedHouseVal, dtype: float64\n",
            "filtermethod1 columns: Index(['MedInc', 'HouseAge', 'AveRooms', 'Population', 'AveOccup', 'Latitude'], dtype='object')\n"
          ]
        }
      ]
    },
    {
      "cell_type": "code",
      "source": [
        "score_list = {}"
      ],
      "metadata": {
        "id": "nEz2oPM3u0IF"
      },
      "execution_count": 506,
      "outputs": []
    },
    {
      "cell_type": "code",
      "source": [
        "X = filtermethod1\n",
        "y = df['MedHouseVal']\n",
        "\n",
        "X_train, X_test, y_train, y_test = train_test_split(X, y, test_size=0.2, random_state=40)"
      ],
      "metadata": {
        "id": "OjVVeuCrdk5D"
      },
      "execution_count": 507,
      "outputs": []
    },
    {
      "cell_type": "code",
      "source": [
        "LRmodel = LinearRegression()\n",
        "LRmodel.fit(X_train, y_train)\n",
        "lr_score = LRmodel.score(X_test,y_test)\n",
        "print(f\"Score is {lr_score}\")"
      ],
      "metadata": {
        "colab": {
          "base_uri": "https://localhost:8080/"
        },
        "id": "RDljXPdEjO93",
        "outputId": "41dff6cc-c933-4133-9ff8-2a69057355f9"
      },
      "execution_count": 508,
      "outputs": [
        {
          "output_type": "stream",
          "name": "stdout",
          "text": [
            "Score is 0.5180302723872474\n"
          ]
        }
      ]
    },
    {
      "cell_type": "code",
      "source": [
        "y_pred_train = LRmodel.predict(X_train)\n",
        "y_pred_test = LRmodel.predict(X_test)"
      ],
      "metadata": {
        "id": "Q-EKH5FrlS6F"
      },
      "execution_count": 509,
      "outputs": []
    },
    {
      "cell_type": "code",
      "source": [
        "mse_train = mean_squared_error(y_train, y_pred_train)\n",
        "mse_test = mean_squared_error(y_test, y_pred_test)\n",
        "r2_train = r2_score(y_train, y_pred_train)\n",
        "r2_test = r2_score(y_test, y_pred_test)\n",
        "\n",
        "print(f'Training MSE: {mse_train}')\n",
        "print(f'Testing MSE: {mse_test}')\n",
        "print(f'Training R2: {r2_train}')\n",
        "print(f'Testing R2: {r2_test}')"
      ],
      "metadata": {
        "colab": {
          "base_uri": "https://localhost:8080/"
        },
        "id": "Rqze2h7tkw5-",
        "outputId": "05e81cb8-57d7-4b62-b789-c780fe4d1086"
      },
      "execution_count": 510,
      "outputs": [
        {
          "output_type": "stream",
          "name": "stdout",
          "text": [
            "Training MSE: 0.6317547994892553\n",
            "Testing MSE: 0.6653777570027621\n",
            "Training R2: 0.5210520096236764\n",
            "Testing R2: 0.5180302723872474\n"
          ]
        }
      ]
    },
    {
      "cell_type": "code",
      "source": [
        "RFmodel = RandomForestRegressor(n_estimators = 100, max_depth=4, random_state = 42)\n",
        "RFmodel.fit(X_train, y_train)\n",
        "rf_score = RFmodel.score(X_test,y_test)\n",
        "print(f\"Score is {rf_score}\")\n",
        "score_list[\"Filter Method\"] = rf_score"
      ],
      "metadata": {
        "colab": {
          "base_uri": "https://localhost:8080/"
        },
        "id": "xVd4kYFlpifz",
        "outputId": "8358a8cf-7e61-4523-e786-94c5cdb39cfd"
      },
      "execution_count": 511,
      "outputs": [
        {
          "output_type": "stream",
          "name": "stdout",
          "text": [
            "Score is 0.5893359834299887\n"
          ]
        }
      ]
    },
    {
      "cell_type": "markdown",
      "source": [
        "#Mutual_info_classif\n"
      ],
      "metadata": {
        "id": "2reRRHZgl2K9"
      }
    },
    {
      "cell_type": "code",
      "source": [
        "from sklearn.feature_selection import mutual_info_regression\n",
        "threshold = 5  # the number of most relevant features\n",
        "high_score_features = []\n",
        "\n",
        "mifX = df.drop('MedHouseVal', axis=1)\n",
        "mify = df['MedHouseVal']\n",
        "\n",
        "feature_scores = mutual_info_regression(mifX, mify, random_state=0)\n",
        "\n",
        "feature_scores_df = pd.DataFrame({'Feature': mifX.columns, 'Score': feature_scores})\n",
        "feature_scores_df = feature_scores_df.sort_values(by='Score', ascending=False)\n",
        "\n",
        "print(feature_scores_df)"
      ],
      "metadata": {
        "colab": {
          "base_uri": "https://localhost:8080/"
        },
        "id": "1XmBeb_ElwoF",
        "outputId": "f9ce57e7-110a-4c0a-ff73-b7ebb346c40c"
      },
      "execution_count": 512,
      "outputs": [
        {
          "output_type": "stream",
          "name": "stdout",
          "text": [
            "      Feature     Score\n",
            "7   Longitude  0.401820\n",
            "0      MedInc  0.387646\n",
            "6    Latitude  0.370657\n",
            "2    AveRooms  0.103623\n",
            "5    AveOccup  0.072549\n",
            "1    HouseAge  0.032114\n",
            "3   AveBedrms  0.024482\n",
            "4  Population  0.021994\n"
          ]
        }
      ]
    },
    {
      "cell_type": "code",
      "source": [
        "filtermethod2 = feature_scores_df[feature_scores_df['Score'] > 0.3]['Feature'].tolist()\n",
        "print(f\"Selected features: {filtermethod2}\")"
      ],
      "metadata": {
        "colab": {
          "base_uri": "https://localhost:8080/"
        },
        "id": "hszJ_KcwoExc",
        "outputId": "be4f93c8-66d5-421e-df3e-dbb8fcaa31a2"
      },
      "execution_count": 513,
      "outputs": [
        {
          "output_type": "stream",
          "name": "stdout",
          "text": [
            "Selected features: ['Longitude', 'MedInc', 'Latitude']\n"
          ]
        }
      ]
    },
    {
      "cell_type": "code",
      "source": [
        "X = df[filtermethod2]\n",
        "y = df['MedHouseVal']\n",
        "\n",
        "X_train, X_test, y_train, y_test = train_test_split(X, y, test_size=0.2, random_state=40)"
      ],
      "metadata": {
        "id": "XBYAObnRpcIL"
      },
      "execution_count": 514,
      "outputs": []
    },
    {
      "cell_type": "code",
      "source": [
        "RFmodel = RandomForestRegressor(n_estimators = 100, max_depth=4, random_state = 42)\n",
        "RFmodel.fit(X_train, y_train)\n",
        "rf_score_mif = RFmodel.score(X_test,y_test)\n",
        "print(f\"Score is {rf_score_mif}\")"
      ],
      "metadata": {
        "colab": {
          "base_uri": "https://localhost:8080/"
        },
        "id": "MAQaWJg_qUgS",
        "outputId": "5ed011f5-a926-41e3-e455-a6eea8d64919"
      },
      "execution_count": 515,
      "outputs": [
        {
          "output_type": "stream",
          "name": "stdout",
          "text": [
            "Score is 0.5631589434197423\n"
          ]
        }
      ]
    },
    {
      "cell_type": "markdown",
      "source": [
        "2. Use any wrapper method to select the best features"
      ],
      "metadata": {
        "id": "eZ5kAdM7RpDD"
      }
    },
    {
      "cell_type": "code",
      "source": [
        "# put your answer here\n",
        "from sklearn.feature_selection import RFE\n",
        "from sklearn.linear_model import LinearRegression\n",
        "\n",
        "estimator = LinearRegression()\n",
        "selector = RFE(estimator, n_features_to_select=5, step=1) # top 5 features\n",
        "selector = selector.fit(mifX, mify)\n",
        "\n",
        "selected_features = mifX.columns[selector.support_]\n",
        "print(f\"Selected features using RFE: {selected_features}\")\n",
        "\n",
        "\n",
        "X_selected = mifX[selected_features]\n"
      ],
      "metadata": {
        "id": "h1godUPeRpTF",
        "colab": {
          "base_uri": "https://localhost:8080/"
        },
        "outputId": "b3d4eb2f-80b5-4fcd-ae4a-ae210fdf3b3e"
      },
      "execution_count": 516,
      "outputs": [
        {
          "output_type": "stream",
          "name": "stdout",
          "text": [
            "Selected features using RFE: Index(['MedInc', 'AveRooms', 'AveBedrms', 'Latitude', 'Longitude'], dtype='object')\n"
          ]
        }
      ]
    },
    {
      "cell_type": "code",
      "source": [
        "X_train, X_test, y_train, y_test = train_test_split(X_selected, mify, test_size=0.2, random_state=40)"
      ],
      "metadata": {
        "id": "HmRsdsO_sCIZ"
      },
      "execution_count": 517,
      "outputs": []
    },
    {
      "cell_type": "code",
      "source": [
        "RFmodel = RandomForestRegressor(n_estimators = 100, max_depth=4, random_state = 42)\n",
        "RFmodel.fit(X_train, y_train)\n",
        "rf_score_wrap = RFmodel.score(X_test,y_test)\n",
        "print(f\"Score is {rf_score_wrap}\")\n",
        "score_list[\"Wrapper Method\"] = rf_score_wrap"
      ],
      "metadata": {
        "colab": {
          "base_uri": "https://localhost:8080/"
        },
        "id": "tLkMstQMr3cR",
        "outputId": "1dc2f290-aa9c-4a64-cf52-9adc9f4446d9"
      },
      "execution_count": 518,
      "outputs": [
        {
          "output_type": "stream",
          "name": "stdout",
          "text": [
            "Score is 0.5504939847808097\n"
          ]
        }
      ]
    },
    {
      "cell_type": "markdown",
      "source": [
        "3. Use any embedded methood to select the best features"
      ],
      "metadata": {
        "id": "Kq82AZxvRvTe"
      }
    },
    {
      "cell_type": "code",
      "source": [
        "# put your answer here\n",
        "from sklearn.linear_model import Lasso\n",
        "from sklearn.feature_selection import SelectFromModel\n",
        "\n",
        "lasso = Lasso(alpha=0.01)\n",
        "\n",
        "X_train, X_test, y_train, y_test = train_test_split(X_selected, mify, test_size=0.2, random_state=40)\n",
        "lasso.fit(X_train, y_train)\n",
        "\n",
        "selector = SelectFromModel(lasso)\n",
        "X_train_selected = selector.transform(X_train)\n",
        "X_test_selected = selector.transform(X_test)\n",
        "\n",
        "y_pred = lasso.predict(X_test_selected)\n",
        "print(f\"Selected features using Lasso: {selected_features}\")\n",
        "score = r2_score(y_test, y_pred)\n",
        "print(f\"R-squared score: {score}\")\n",
        "\n",
        "score_list[\"Embedded Method\"] = score\n"
      ],
      "metadata": {
        "id": "-S8OQahTRyTM",
        "colab": {
          "base_uri": "https://localhost:8080/"
        },
        "outputId": "96ab838d-3bef-45b1-826c-ab65345c7f97"
      },
      "execution_count": 519,
      "outputs": [
        {
          "output_type": "stream",
          "name": "stdout",
          "text": [
            "Selected features using Lasso: Index(['MedInc', 'AveRooms', 'AveBedrms', 'Latitude', 'Longitude'], dtype='object')\n",
            "R-squared score: 0.586975707586965\n"
          ]
        },
        {
          "output_type": "stream",
          "name": "stderr",
          "text": [
            "/usr/local/lib/python3.10/dist-packages/sklearn/base.py:486: UserWarning: X has feature names, but SelectFromModel was fitted without feature names\n",
            "  warnings.warn(\n",
            "/usr/local/lib/python3.10/dist-packages/sklearn/base.py:486: UserWarning: X has feature names, but SelectFromModel was fitted without feature names\n",
            "  warnings.warn(\n",
            "/usr/local/lib/python3.10/dist-packages/sklearn/base.py:493: UserWarning: X does not have valid feature names, but Lasso was fitted with feature names\n",
            "  warnings.warn(\n"
          ]
        }
      ]
    },
    {
      "cell_type": "markdown",
      "source": [
        "#general (all features)"
      ],
      "metadata": {
        "id": "HQDbK1CrtpMr"
      }
    },
    {
      "cell_type": "code",
      "source": [
        "X = df.drop('MedHouseVal', axis=1)\n",
        "y = df['MedHouseVal']\n",
        "\n",
        "X_train, X_test, y_train, y_test = train_test_split(X, y, test_size=0.2, random_state=40)"
      ],
      "metadata": {
        "id": "WYX92KGBtlvq"
      },
      "execution_count": 520,
      "outputs": []
    },
    {
      "cell_type": "code",
      "source": [
        "RFmodel = RandomForestRegressor(n_estimators = 100, max_depth=4, random_state = 42)\n",
        "RFmodel.fit(X_train, y_train)\n",
        "rf_score_general = RFmodel.score(X_test, y_test)\n",
        "print(f\"Score is {rf_score_general}\")\n",
        "score_list[\"All Features Method\"] = rf_score_general"
      ],
      "metadata": {
        "id": "GObLto4It78k",
        "colab": {
          "base_uri": "https://localhost:8080/"
        },
        "outputId": "4ce333d9-8c0f-4a83-d9f3-a00dccf05bb5"
      },
      "execution_count": 521,
      "outputs": [
        {
          "output_type": "stream",
          "name": "stdout",
          "text": [
            "Score is 0.5901310129798477\n"
          ]
        }
      ]
    },
    {
      "cell_type": "markdown",
      "source": [
        "#compareAll"
      ],
      "metadata": {
        "id": "9NGxxInpuUp7"
      }
    },
    {
      "cell_type": "code",
      "source": [
        "score_list = list(score_list.items())\n",
        "for alg,score in score_list:\n",
        "    print(f\"{alg} Score is {str(score)[:4]} \")"
      ],
      "metadata": {
        "id": "18wLOkRauaS0",
        "colab": {
          "base_uri": "https://localhost:8080/"
        },
        "outputId": "b9a81b95-d00b-4cb3-a6fc-2996bb0b8358"
      },
      "execution_count": 522,
      "outputs": [
        {
          "output_type": "stream",
          "name": "stdout",
          "text": [
            "Filter Method Score is 0.58 \n",
            "Wrapper Method Score is 0.55 \n",
            "Embedded Method Score is 0.58 \n",
            "All Features Method Score is 0.59 \n"
          ]
        }
      ]
    },
    {
      "cell_type": "markdown",
      "source": [],
      "metadata": {
        "id": "ir73yVVytxTU"
      }
    }
  ]
}